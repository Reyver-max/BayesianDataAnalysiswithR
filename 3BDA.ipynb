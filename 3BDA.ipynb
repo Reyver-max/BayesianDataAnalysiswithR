{
 "cells": [
  {
   "cell_type": "code",
   "execution_count": 1,
   "id": "535349a5-0b8e-40bb-a890-7a0ba6d7d551",
   "metadata": {
    "tags": []
   },
   "outputs": [],
   "source": [
    "#BDA Assigemnt 3\n",
    "library(aaltobda)\n",
    "library(ggplot2)\n",
    "#library(dplyr)"
   ]
  },
  {
   "cell_type": "code",
   "execution_count": 2,
   "id": "a2112602-28db-4c99-9991-0dec75eafe41",
   "metadata": {
    "tags": []
   },
   "outputs": [
    {
     "ename": "ERROR",
     "evalue": "Error in library(windshieldy1): there is no package called ‘windshieldy1’\n",
     "output_type": "error",
     "traceback": [
      "Error in library(windshieldy1): there is no package called ‘windshieldy1’\nTraceback:\n",
      "1. library(windshieldy1)"
     ]
    }
   ],
   "source": [
    "library(windshieldy1)\n",
    "dataset <- get_data(\"windshieldy1\")"
   ]
  },
  {
   "cell_type": "code",
   "execution_count": null,
   "id": "b64d919c-2d16-4c73-9bfe-9e0b0e7eeaf6",
   "metadata": {
    "tags": []
   },
   "outputs": [],
   "source": [
    "if(!require(aaltobda)){\n",
    "    install.packages(\"remotes\")\n",
    "    remotes::install_github(\"avehtari/BDA_course_Aalto\", subdir = \"rpackage\", upgrade=\"never\")\n",
    "    library(aaltobda)\n",
    "}"
   ]
  },
  {
   "cell_type": "code",
   "execution_count": 3,
   "id": "08518314-80bd-4f28-b9a3-e82ad661a48f",
   "metadata": {
    "tags": []
   },
   "outputs": [
    {
     "name": "stderr",
     "output_type": "stream",
     "text": [
      "Loading required package: markmyassignment\n",
      "\n"
     ]
    }
   ],
   "source": [
    "if(!require(markmyassignment)){\n",
    "    install.packages(\"markmyassignment\")\n",
    "    library(markmyassignment)\n",
    "}"
   ]
  },
  {
   "cell_type": "code",
   "execution_count": 4,
   "id": "fd90f5a1-5296-4c16-af53-a6dbd211c0a6",
   "metadata": {
    "tags": []
   },
   "outputs": [
    {
     "name": "stderr",
     "output_type": "stream",
     "text": [
      "Assignment set:\n",
      "assignment3: Bayesian Data Analysis: Assignment 3\n",
      "The assignment contain the following (6) tasks:\n",
      "- mu_point_est\n",
      "- mu_interval\n",
      "- mu_pred_interval\n",
      "- mu_pred_point_est\n",
      "- posterior_odds_ratio_point_est\n",
      "- posterior_odds_ratio_interval\n",
      "\n",
      "\n"
     ]
    }
   ],
   "source": [
    "assignment_path = paste(\"https://github.com/avehtari/BDA_course_Aalto/blob/master/tests/assignment3.yml\")\n",
    "set_assignment(assignment_path)  "
   ]
  },
  {
   "cell_type": "code",
   "execution_count": 5,
   "id": "f3c80ea3-51b1-4860-aaee-317f4daed236",
   "metadata": {
    "tags": []
   },
   "outputs": [
    {
     "name": "stderr",
     "output_type": "stream",
     "text": [
      "Loading required package: latex2exp\n",
      "\n"
     ]
    }
   ],
   "source": [
    "if(!require(latex2exp)){\n",
    "    install.packages(\"latex2exp\")\n",
    "    library(latex2exp)\n",
    "}"
   ]
  },
  {
   "cell_type": "code",
   "execution_count": 6,
   "id": "f702b9b2-f428-4e47-8c15-ed5ab43ae25e",
   "metadata": {
    "tags": []
   },
   "outputs": [
    {
     "name": "stderr",
     "output_type": "stream",
     "text": [
      "Loading required package: posterior\n",
      "\n",
      "This is posterior version 1.6.0\n",
      "\n",
      "\n",
      "Attaching package: ‘posterior’\n",
      "\n",
      "\n",
      "The following object is masked from ‘package:aaltobda’:\n",
      "\n",
      "    mcse_quantile\n",
      "\n",
      "\n",
      "The following objects are masked from ‘package:stats’:\n",
      "\n",
      "    mad, sd, var\n",
      "\n",
      "\n",
      "The following objects are masked from ‘package:base’:\n",
      "\n",
      "    %in%, match\n",
      "\n",
      "\n"
     ]
    }
   ],
   "source": [
    "if(!require(posterior)){\n",
    "    install.packages(\"posterior\")\n",
    "    library(posterior)\n",
    "}"
   ]
  },
  {
   "cell_type": "code",
   "execution_count": 7,
   "id": "1a0ee212-dab5-4321-ab55-024d232301fe",
   "metadata": {
    "tags": []
   },
   "outputs": [],
   "source": [
    "if(!require(ggplot2)){\n",
    "    install.packages(\"ggplot2\")\n",
    "    library(ggplot2)\n",
    "}"
   ]
  },
  {
   "cell_type": "code",
   "execution_count": 8,
   "id": "628659aa-4126-47ca-a9b4-3419265a93ac",
   "metadata": {
    "tags": []
   },
   "outputs": [
    {
     "name": "stderr",
     "output_type": "stream",
     "text": [
      "Loading required package: ggdist\n",
      "\n"
     ]
    }
   ],
   "source": [
    "ggplot2::theme_set(theme_minimal(base_size = 14))\n",
    "if(!require(ggdist)){\n",
    "    install.packages(\"ggdist\")\n",
    "    library(ggdist)\n",
    "}"
   ]
  },
  {
   "cell_type": "code",
   "execution_count": 9,
   "id": "9bba77e9-ab8a-4543-927f-9337ada33e2a",
   "metadata": {
    "tags": []
   },
   "outputs": [
    {
     "name": "stderr",
     "output_type": "stream",
     "text": [
      "Loading required package: grid\n",
      "\n"
     ]
    }
   ],
   "source": [
    "if(!require(grid)){\n",
    "  install.packages(\"grid\")\n",
    "  library(grid)\n",
    "}"
   ]
  },
  {
   "cell_type": "code",
   "execution_count": 10,
   "id": "849382eb-14a6-4e7c-8e6e-cd1087aad9b5",
   "metadata": {
    "tags": []
   },
   "outputs": [
    {
     "name": "stderr",
     "output_type": "stream",
     "text": [
      "Loading required package: gridExtra\n",
      "\n"
     ]
    }
   ],
   "source": [
    "if(!require(gridExtra)){\n",
    "  install.packages(\"gridExtra\")\n",
    "  library(gridExtra)\n",
    "}"
   ]
  },
  {
   "cell_type": "code",
   "execution_count": 11,
   "id": "334ec55a-cbf9-46fd-ab83-5ac06e4bc9cf",
   "metadata": {
    "tags": []
   },
   "outputs": [
    {
     "name": "stderr",
     "output_type": "stream",
     "text": [
      "Loading required package: tidyr\n",
      "\n"
     ]
    }
   ],
   "source": [
    "if(!require(tidyr)){\n",
    "  install.packages(\"tidyr\")\n",
    "  library(tidyr)\n",
    "}"
   ]
  },
  {
   "cell_type": "code",
   "execution_count": 12,
   "id": "424e3459-81fc-4f1a-a43f-4399fd05d377",
   "metadata": {
    "tags": []
   },
   "outputs": [
    {
     "data": {
      "text/html": [
       "<style>\n",
       ".list-inline {list-style: none; margin:0; padding: 0}\n",
       ".list-inline>li {display: inline-block}\n",
       ".list-inline>li:not(:last-child)::after {content: \"\\00b7\"; padding: 0 .5ex}\n",
       "</style>\n",
       "<ol class=list-inline><li>13.357</li><li>14.928</li><li>14.896</li><li>15.297</li><li>14.82</li><li>12.067</li><li>14.824</li><li>13.865</li><li>17.447</li></ol>\n"
      ],
      "text/latex": [
       "\\begin{enumerate*}\n",
       "\\item 13.357\n",
       "\\item 14.928\n",
       "\\item 14.896\n",
       "\\item 15.297\n",
       "\\item 14.82\n",
       "\\item 12.067\n",
       "\\item 14.824\n",
       "\\item 13.865\n",
       "\\item 17.447\n",
       "\\end{enumerate*}\n"
      ],
      "text/markdown": [
       "1. 13.357\n",
       "2. 14.928\n",
       "3. 14.896\n",
       "4. 15.297\n",
       "5. 14.82\n",
       "6. 12.067\n",
       "7. 14.824\n",
       "8. 13.865\n",
       "9. 17.447\n",
       "\n",
       "\n"
      ],
      "text/plain": [
       "[1] 13.357 14.928 14.896 15.297 14.820 12.067 14.824 13.865 17.447"
      ]
     },
     "metadata": {},
     "output_type": "display_data"
    }
   ],
   "source": [
    "data(\"windshieldy1\")\n",
    "# The data are now stored in the variable `windshieldy1`.\n",
    "# The below displays the data:\n",
    "windshieldy1"
   ]
  },
  {
   "cell_type": "code",
   "execution_count": 13,
   "id": "8cb53e25-b3a9-484c-903c-3cc5660292fb",
   "metadata": {
    "tags": []
   },
   "outputs": [
    {
     "ename": "ERROR",
     "evalue": "Error in data[, ]: object of type 'closure' is not subsettable\n",
     "output_type": "error",
     "traceback": [
      "Error in data[, ]: object of type 'closure' is not subsettable\nTraceback:\n"
     ]
    }
   ],
   "source": [
    "data[,]\n"
   ]
  },
  {
   "cell_type": "code",
   "execution_count": null,
   "id": "8f9f63b9-46d3-4492-aed8-bee1f138aced",
   "metadata": {
    "tags": []
   },
   "outputs": [],
   "source": [
    "str(data)"
   ]
  },
  {
   "cell_type": "code",
   "execution_count": 14,
   "id": "6a64c5c4-b66e-4c31-b0b2-51cd72a3e641",
   "metadata": {
    "tags": []
   },
   "outputs": [
    {
     "ename": "ERROR",
     "evalue": "Error in object[[i]]: object of type 'closure' is not subsettable\n",
     "output_type": "error",
     "traceback": [
      "Error in object[[i]]: object of type 'closure' is not subsettable\nTraceback:\n",
      "1. summary(data)"
     ]
    }
   ],
   "source": [
    "summary(data)\n"
   ]
  },
  {
   "cell_type": "code",
   "execution_count": 15,
   "id": "ff5e5cb7-03d3-4aaf-b41b-cfe1385182ec",
   "metadata": {
    "tags": []
   },
   "outputs": [
    {
     "data": {
      "text/plain": [
       "NULL"
      ]
     },
     "metadata": {},
     "output_type": "display_data"
    }
   ],
   "source": [
    "colnames(data)"
   ]
  },
  {
   "cell_type": "code",
   "execution_count": 16,
   "id": "a66860bd-87d0-4db1-b2ec-2df3e8c8c51e",
   "metadata": {
    "tags": []
   },
   "outputs": [
    {
     "ename": "ERROR",
     "evalue": "Error in get_data(\"windshieldy1\"): could not find function \"get_data\"\n",
     "output_type": "error",
     "traceback": [
      "Error in get_data(\"windshieldy1\"): could not find function \"get_data\"\nTraceback:\n"
     ]
    }
   ],
   "source": [
    "dataset <- get_data(\"windshieldy1\")"
   ]
  },
  {
   "cell_type": "code",
   "execution_count": 17,
   "id": "48ff77c8-2a07-496e-84a9-af90acebba0b",
   "metadata": {
    "tags": []
   },
   "outputs": [
    {
     "name": "stdout",
     "output_type": "stream",
     "text": [
      "[1] 13.357 14.928 14.896 15.297 14.820 12.067 14.824 13.865 17.447\n"
     ]
    }
   ],
   "source": [
    "print(windshieldy1)"
   ]
  },
  {
   "cell_type": "code",
   "execution_count": 18,
   "id": "f090b35f-c2a7-4823-b666-f0d5ba5e454a",
   "metadata": {
    "tags": []
   },
   "outputs": [
    {
     "data": {
      "text/html": [
       "<table class=\"dataframe\">\n",
       "<caption>A data.frame: 9 × 1</caption>\n",
       "<thead>\n",
       "\t<tr><th scope=col>windshieldy1</th></tr>\n",
       "\t<tr><th scope=col>&lt;dbl&gt;</th></tr>\n",
       "</thead>\n",
       "<tbody>\n",
       "\t<tr><td>13.357</td></tr>\n",
       "\t<tr><td>14.928</td></tr>\n",
       "\t<tr><td>14.896</td></tr>\n",
       "\t<tr><td>15.297</td></tr>\n",
       "\t<tr><td>14.820</td></tr>\n",
       "\t<tr><td>12.067</td></tr>\n",
       "\t<tr><td>14.824</td></tr>\n",
       "\t<tr><td>13.865</td></tr>\n",
       "\t<tr><td>17.447</td></tr>\n",
       "</tbody>\n",
       "</table>\n"
      ],
      "text/latex": [
       "A data.frame: 9 × 1\n",
       "\\begin{tabular}{l}\n",
       " windshieldy1\\\\\n",
       " <dbl>\\\\\n",
       "\\hline\n",
       "\t 13.357\\\\\n",
       "\t 14.928\\\\\n",
       "\t 14.896\\\\\n",
       "\t 15.297\\\\\n",
       "\t 14.820\\\\\n",
       "\t 12.067\\\\\n",
       "\t 14.824\\\\\n",
       "\t 13.865\\\\\n",
       "\t 17.447\\\\\n",
       "\\end{tabular}\n"
      ],
      "text/markdown": [
       "\n",
       "A data.frame: 9 × 1\n",
       "\n",
       "| windshieldy1 &lt;dbl&gt; |\n",
       "|---|\n",
       "| 13.357 |\n",
       "| 14.928 |\n",
       "| 14.896 |\n",
       "| 15.297 |\n",
       "| 14.820 |\n",
       "| 12.067 |\n",
       "| 14.824 |\n",
       "| 13.865 |\n",
       "| 17.447 |\n",
       "\n"
      ],
      "text/plain": [
       "  windshieldy1\n",
       "1 13.357      \n",
       "2 14.928      \n",
       "3 14.896      \n",
       "4 15.297      \n",
       "5 14.820      \n",
       "6 12.067      \n",
       "7 14.824      \n",
       "8 13.865      \n",
       "9 17.447      "
      ]
     },
     "metadata": {},
     "output_type": "display_data"
    }
   ],
   "source": [
    "df <- as.data.frame(windshieldy1)\n",
    "View(df)"
   ]
  },
  {
   "cell_type": "code",
   "execution_count": 19,
   "id": "91121c10-4f16-4365-81f0-be9333bd1963",
   "metadata": {
    "tags": []
   },
   "outputs": [
    {
     "data": {
      "text/html": [
       "14.611"
      ],
      "text/latex": [
       "14.611"
      ],
      "text/markdown": [
       "14.611"
      ],
      "text/plain": [
       "[1] 14.611"
      ]
     },
     "metadata": {},
     "output_type": "display_data"
    }
   ],
   "source": [
    "# Given hardness values (windshieldy1 dataset)\n",
    "data <- c(13.357, 14.928, 14.896, 15.297, 14.820, 12.067, 14.824, 13.865, 17.447)\n",
    "\n",
    "# Calculate the sample mean (point estimate E(μ|y))\n",
    "mean_mu <- mean(data)\n",
    "\n",
    "# Report the point estimate with 3 decimal places\n",
    "mean_mu_rounded <- round(mean_mu, 3)\n",
    "\n",
    "mean_mu_rounded\n"
   ]
  },
  {
   "cell_type": "code",
   "execution_count": 20,
   "id": "0d6f011b-dd27-435d-bb37-71a45d9bc068",
   "metadata": {
    "tags": []
   },
   "outputs": [
    {
     "data": {
      "text/html": [
       "<style>\n",
       ".list-inline {list-style: none; margin:0; padding: 0}\n",
       ".list-inline>li {display: inline-block}\n",
       ".list-inline>li:not(:last-child)::after {content: \"\\00b7\"; padding: 0 .5ex}\n",
       "</style>\n",
       "<ol class=list-inline><li>13.478</li><li>15.744</li></ol>\n"
      ],
      "text/latex": [
       "\\begin{enumerate*}\n",
       "\\item 13.478\n",
       "\\item 15.744\n",
       "\\end{enumerate*}\n"
      ],
      "text/markdown": [
       "1. 13.478\n",
       "2. 15.744\n",
       "\n",
       "\n"
      ],
      "text/plain": [
       "[1] 13.478 15.744"
      ]
     },
     "metadata": {},
     "output_type": "display_data"
    }
   ],
   "source": [
    "# Given hardness values (windshieldy1 dataset)\n",
    "data <- c(13.357, 14.928, 14.896, 15.297, 14.820, 12.067, 14.824, 13.865, 17.447)\n",
    "\n",
    "# Function to compute the central posterior interval\n",
    "central_posterior_interval <- function(data, cred_level = 0.95) {\n",
    "    n <- length(data)\n",
    "    mean_mu <- mean(data)\n",
    "    sd_mu <- sd(data)\n",
    "    se_mu <- sd_mu / sqrt(n)  # Standard error\n",
    "\n",
    "    # Degrees of freedom\n",
    "    df <- n - 1\n",
    "    \n",
    "    # Compute the t quantiles for the central interval\n",
    "    alpha <- (1 - cred_level) / 2\n",
    "    t_critical <- qt(1 - alpha, df)\n",
    "\n",
    "    # Calculate the lower and upper bounds of the interval\n",
    "    lower_bound <- mean_mu - t_critical * se_mu\n",
    "    upper_bound <- mean_mu + t_critical * se_mu\n",
    "    \n",
    "    return(c(lower_bound, upper_bound))\n",
    "}\n",
    "\n",
    "# Calculate the 95% central posterior interval\n",
    "posterior_interval <- central_posterior_interval(data)\n",
    "\n",
    "# Round and report the interval with 3 decimal digits\n",
    "posterior_interval_rounded <- round(posterior_interval, 3)\n",
    "posterior_interval_rounded"
   ]
  },
  {
   "cell_type": "code",
   "execution_count": 21,
   "id": "0b33d86c-d902-4d09-86f3-1cf8a4f8941c",
   "metadata": {
    "tags": []
   },
   "outputs": [
    {
     "data": {
      "text/html": [
       "14.611"
      ],
      "text/latex": [
       "14.611"
      ],
      "text/markdown": [
       "14.611"
      ],
      "text/plain": [
       "[1] 14.611"
      ]
     },
     "metadata": {},
     "output_type": "display_data"
    }
   ],
   "source": [
    "# Given hardness values (windshieldy1 dataset)\n",
    "data <- c(13.357, 14.928, 14.896, 15.297, 14.820, 12.067, 14.824, 13.865, 17.447)\n",
    "\n",
    "# Calculate the point estimate E(ỹ |y)\n",
    "E_y_tilde_given_y <- mean(data)\n",
    "\n",
    "# Round and report the estimate with 3 decimal digits\n",
    "E_y_tilde_given_y_rounded <- round(E_y_tilde_given_y, 3)\n",
    "E_y_tilde_given_y_rounded\n"
   ]
  },
  {
   "cell_type": "code",
   "execution_count": 22,
   "id": "30511cdb-7934-48bf-9a53-3aeb73390e37",
   "metadata": {
    "tags": []
   },
   "outputs": [
    {
     "data": {
      "text/html": [
       "<style>\n",
       ".list-inline {list-style: none; margin:0; padding: 0}\n",
       ".list-inline>li {display: inline-block}\n",
       ".list-inline>li:not(:last-child)::after {content: \"\\00b7\"; padding: 0 .5ex}\n",
       "</style>\n",
       "<ol class=list-inline><li>11.028</li><li>18.195</li></ol>\n"
      ],
      "text/latex": [
       "\\begin{enumerate*}\n",
       "\\item 11.028\n",
       "\\item 18.195\n",
       "\\end{enumerate*}\n"
      ],
      "text/markdown": [
       "1. 11.028\n",
       "2. 18.195\n",
       "\n",
       "\n"
      ],
      "text/plain": [
       "[1] 11.028 18.195"
      ]
     },
     "metadata": {},
     "output_type": "display_data"
    }
   ],
   "source": [
    "# Given hardness values (windshieldy1 dataset)\n",
    "data <- c(13.357, 14.928, 14.896, 15.297, 14.820, 12.067, 14.824, 13.865, 17.447)\n",
    "\n",
    "# Calculate mean and standard deviation of the data\n",
    "mean_mu <- mean(data)\n",
    "sd_mu <- sd(data)\n",
    "n <- length(data)\n",
    "\n",
    "# Compute the posterior predictive standard deviation\n",
    "# Assuming a normal distribution for the model\n",
    "posterior_predictive_sd <- sqrt(sd_mu^2 + sd_mu^2 / n)\n",
    "\n",
    "# Calculate the critical t value for 95% interval\n",
    "alpha <- 0.05\n",
    "df <- n - 1\n",
    "t_critical <- qt(1 - alpha / 2, df)\n",
    "\n",
    "# Calculate the mean and the interval bounds\n",
    "posterior_predictive_mean <- mean_mu\n",
    "lower_bound <- posterior_predictive_mean - t_critical * posterior_predictive_sd\n",
    "upper_bound <- posterior_predictive_mean + t_critical * posterior_predictive_sd\n",
    "\n",
    "# Round and report the bounds with 3 decimal digits\n",
    "posterior_predictive_interval <- round(c(lower_bound, upper_bound), 3)\n",
    "posterior_predictive_interval\n"
   ]
  },
  {
   "cell_type": "markdown",
   "id": "98982b3c-8b29-4122-a2fa-7d700da6eb9c",
   "metadata": {},
   "source": [
    "2. Inference for the difference between proportions\n"
   ]
  },
  {
   "cell_type": "code",
   "execution_count": 23,
   "id": "f4f55539-3654-48bc-898a-41b35e97a005",
   "metadata": {
    "tags": []
   },
   "outputs": [],
   "source": [
    "# Useful functions: mean(), length(), sqrt(), sum()\n",
    "# and qtnew(), dtnew() (from aaltobda)\n",
    "\n",
    "mu_point_est <- function(data) {\n",
    "    # Do computation here, and return as below.\n",
    "    # This is the correct return value for the test data provided above.\n",
    "    14.5\n",
    "    \n",
    "}\n",
    "mu_interval <- function(data, prob = 0.95) {\n",
    "    # Do computation here, and return as below.\n",
    "    # This is the correct return value for the test data provided above.\n",
    "    c(13.3, 15.7)\n",
    "    \n",
    "}"
   ]
  },
  {
   "cell_type": "code",
   "execution_count": 24,
   "id": "92b5638c-65c8-4525-a714-e8878ab245fe",
   "metadata": {
    "tags": []
   },
   "outputs": [
    {
     "data": {
      "image/png": "[encoded data removed]",
      "text/plain": [
       "plot without title"
      ]
     },
     "metadata": {
      "image/png": {
       "height": 420,
       "width": 420
      }
     },
     "output_type": "display_data"
    }
   ],
   "source": [
    "mu_pdf <- function(data, x){\n",
    "    # Compute necessary parameters here.\n",
    "    # These are the correct parameters for `windshieldy_test` \n",
    "    # with the provided uninformative prior.\n",
    "    df = 3\n",
    "    location = 14.5\n",
    "    scale = 0.3817557\n",
    "    # Use the computed parameters as below to compute the PDF:\n",
    "    \n",
    "    dtnew(x, df, location, scale)\n",
    "}\n",
    "\n",
    "x_interval = mu_interval(windshieldy1, .999)\n",
    "lower_x = x_interval[1]\n",
    "upper_x = x_interval[2]\n",
    "x = seq(lower_x, upper_x, length.out=1000)\n",
    "plot(\n",
    "    x, mu_pdf(windshieldy1, x), type=\"l\", \n",
    "    xlab=TeX(r'(average hardness $\\mu$)'), \n",
    "    ylab=TeX(r'(PDF of the posterior $p(\\mu|y)$)')\n",
    ")"
   ]
  },
  {
   "cell_type": "code",
   "execution_count": 25,
   "id": "bee7605a-9645-48ef-b349-4e79bcef9528",
   "metadata": {
    "tags": []
   },
   "outputs": [
    {
     "name": "stderr",
     "output_type": "stream",
     "text": [
      "\u001b[1m\u001b[22mCoordinate system already present. Adding new coordinate system, which will\n",
      "replace the existing one.\n"
     ]
    }
   ],
   "source": [
    "# Define the inputs for the below: Sufficient Statistics\n",
    "y <- windshieldy1\n",
    "n <- length(y)\n",
    "s2 <- var(y)\n",
    "my <- mean(y)\n",
    "\n",
    "# helper functions to sample from and evaluate\n",
    "# scaled inverse chi-squared distribution\n",
    "rsinvchisq <- function(n, nu, s2, ...) nu*s2 / rchisq(n , nu, ...)\n",
    "dsinvchisq <- function(x, nu, s2){\n",
    "  exp(log(nu/2)*nu/2 - lgamma(nu/2) + log(s2)/2*nu - log(x)*(nu/2+1) - (nu*s2/2)/x)\n",
    "}\n",
    "\n",
    "\n",
    "# Sample 1000 draws from marginal posteriors\n",
    "ns <- 1000\n",
    "sigma2  <- rsinvchisq(ns, n-1, s2)\n",
    "mu <- my + sqrt(sigma2/n)*rnorm(length(sigma2))\n",
    "sigma <- sqrt(sigma2)\n",
    "\n",
    "# Compute the density in a grid of ranged for the grids\n",
    "t1l <- c(10, 20)\n",
    "t2l <- c(0.5, 7)\n",
    "nl <- c(0.001, 50)\n",
    "t1 <- seq(t1l[1], t1l[2], length.out = ns)\n",
    "t2 <- seq(t2l[1], t2l[2], length.out = ns)\n",
    "\n",
    "\n",
    "# Compute the exact marginal density of mu:\n",
    "# multiplication by 1./sqrt(s2/n) is due to the transformation of\n",
    "# variable z=(x-mean(y))/sqrt(s2/n), see BDA3 p. 21\n",
    "pm <- dt((t1-my) / sqrt(s2/n), n-1) / sqrt(s2/n)\n",
    "\n",
    "# Estimate the marginal density using samples and ad hoc Gaussian kernel approximation\n",
    "pmk <- density(mu, adjust = 2, n = ns, from = t1l[1], to = t1l[2])$y\n",
    "\n",
    "#Compute the exact marginal density of sigma:\n",
    "# the multiplication by 2*t2 is due to the transformation of\n",
    "# variable z=t2^2, see BDA3 p. 21\n",
    "ps <- dsinvchisq(t2^2, n-1, s2) * 2*t2\n",
    "\n",
    "# Estimate the marginal density using samples and ad hoc Gaussian kernel approximation\n",
    "psk <- density(sigma, n = ns, from = t2l[1], to = t2l[2])$y\n",
    "\n",
    "\n",
    "# Evaluate the joint density in a grid. Note that the following is not normalized, but for plotting contours it does not matter :\n",
    "# Combine grid points into another data frame\n",
    "# with all pairwise combinations\n",
    "dfj <- data.frame(t1 = rep(t1, each = length(t2)),\n",
    "                  t2 = rep(t2, length(t1)))\n",
    "dfj$z <- dsinvchisq(dfj$t2^2, n-1, s2) * 2*dfj$t2 * dnorm(dfj$t1, my, dfj$t2/sqrt(n))\n",
    "# breaks for plotting the contours\n",
    "cl <- seq(1e-5, max(dfj$z), length.out = 6)\n",
    "\n",
    "\n",
    "\n",
    "# Now, visualise the joint and marginal densities\n",
    "dfm <- data.frame(t1, Exact = pm, Empirical = pmk) |>\n",
    "  pivot_longer(cols = !t1, names_to=\"grp\", values_to=\"p\")\n",
    "margmu <- ggplot(dfm) +\n",
    "  geom_line(aes(t1, p, color = grp)) +\n",
    "  coord_cartesian(xlim = t1l) +\n",
    "  labs(title = 'Marginal of mu', x = '', y = '') +\n",
    "  scale_y_continuous(breaks = NULL) +\n",
    "  theme(legend.background = element_blank(),\n",
    "        legend.position.inside = c(0.75, 0.8),\n",
    "        legend.title = element_blank())\n",
    "\n",
    "\n",
    "dfs <- data.frame(t2, Exact = ps, Empirical = psk) |> \n",
    "  pivot_longer(cols = !t2, names_to=\"grp\", values_to=\"p\")\n",
    "margsig <- ggplot(dfs) +\n",
    "  geom_line(aes(t2, p, color = grp)) +\n",
    "  coord_cartesian(xlim = t2l) +\n",
    "  coord_flip() +\n",
    "  labs(title = 'Marginal of sigma', x = '', y = '') +\n",
    "  scale_y_continuous(breaks = NULL) +\n",
    "  theme(legend.background = element_blank(),\n",
    "        legend.position.inside = c(0.75, 0.8),\n",
    "        legend.title = element_blank())"
   ]
  },
  {
   "cell_type": "code",
   "execution_count": 26,
   "id": "fd16929f-6304-4308-b51c-48bdc216ed29",
   "metadata": {
    "tags": []
   },
   "outputs": [
    {
     "data": {
      "image/png": "[encoded data removed]",
      "text/plain": [
       "plot without title"
      ]
     },
     "metadata": {
      "image/png": {
       "height": 420,
       "width": 420
      }
     },
     "output_type": "display_data"
    }
   ],
   "source": [
    "joint1labs <- c('Samples','Exact contour')\n",
    "joint1 <- ggplot() +\n",
    "  geom_point(data = data.frame(mu,sigma), aes(mu, sigma, col = '1'), size = 0.1) +\n",
    "  geom_contour(data = dfj, aes(t1, t2, z = z, col = '2'), breaks = cl) +\n",
    "  coord_cartesian(xlim = t1l,ylim = t2l) +\n",
    "  labs(title = 'Joint posterior', x = '', y = '') +\n",
    "  scale_y_continuous(labels = NULL) +\n",
    "  scale_x_continuous(labels = NULL) +\n",
    "  scale_color_manual(values=c('blue', 'black'), labels = joint1labs) +\n",
    "  guides(color = guide_legend(nrow  = 1, override.aes = list(\n",
    "    shape = c(16, NA), linetype = c(0, 1), size = c(2, 1)))) +\n",
    "  theme(legend.background = element_blank(),\n",
    "        legend.position.inside = c(0.5, 0.9),\n",
    "        legend.title = element_blank())\n",
    "\n",
    "\n",
    "# blank plot for combining the plots\n",
    "bp <- grid.rect(gp = gpar(col = 'white'))"
   ]
  },
  {
   "cell_type": "code",
   "execution_count": 27,
   "id": "05260192-e5da-4dd6-99d7-31e3fccb901f",
   "metadata": {
    "tags": []
   },
   "outputs": [
    {
     "data": {
      "image/png": "[encoded data removed]",
      "text/plain": [
       "plot without title"
      ]
     },
     "metadata": {
      "image/png": {
       "height": 420,
       "width": 420
      }
     },
     "output_type": "display_data"
    }
   ],
   "source": [
    "grid.arrange(joint1, margsig, margmu, bp, nrow = 2)"
   ]
  },
  {
   "cell_type": "code",
   "execution_count": 28,
   "id": "54ae41b8-9ac3-419f-a0fb-d393b00547ff",
   "metadata": {
    "tags": []
   },
   "outputs": [
    {
     "name": "stdout",
     "output_type": "stream",
     "text": [
      "Mean Odds Ratio: 0.5632412 \n",
      "95% Credible Interval for Odds Ratio: 0.3293241 0.9178037 \n"
     ]
    },
    {
     "data": {
      "image/png": "[encoded data removed]",
      "text/plain": [
       "Plot with title “Posterior Distribution of Odds Ratio”"
      ]
     },
     "metadata": {
      "image/png": {
       "height": 420,
       "width": 420
      }
     },
     "output_type": "display_data"
    }
   ],
   "source": [
    "# Set the number of draws\n",
    "n_draws <- 1000\n",
    "\n",
    "# Posterior draws for p0 and p1 using Beta distributions\n",
    "p0_draws <- rbeta(n_draws, 40, 636)\n",
    "p1_draws <- rbeta(n_draws, 23, 659)\n",
    "\n",
    "# Compute odds ratio for each draw\n",
    "odds_ratio_draws <- (p1_draws / (1 - p1_draws)) / (p0_draws / (1 - p0_draws))\n",
    "\n",
    "# Summarize the posterior distribution of the odds ratio\n",
    "mean_or <- mean(odds_ratio_draws)  # Mean of the odds ratio\n",
    "ci_or <- quantile(odds_ratio_draws, c(0.025, 0.975))  # 95% credible interval\n",
    "\n",
    "# Print the results\n",
    "cat(\"Mean Odds Ratio:\", mean_or, \"\\n\")\n",
    "cat(\"95% Credible Interval for Odds Ratio:\", ci_or, \"\\n\")\n",
    "\n",
    "# Plot the posterior distribution of the odds ratio\n",
    "hist(odds_ratio_draws, breaks = 30, main = \"Posterior Distribution of Odds Ratio\", xlab = \"Odds Ratio\")\n"
   ]
  },
  {
   "cell_type": "code",
   "execution_count": 29,
   "id": "2d044870-265a-4fcd-a29a-a3f1c36cedb4",
   "metadata": {
    "tags": []
   },
   "outputs": [
    {
     "name": "stdout",
     "output_type": "stream",
     "text": [
      "Mean Odds Ratio: 0.5752772 \n",
      "95% Credible Interval for Odds Ratio: 0.3219627 0.9352155 \n"
     ]
    },
    {
     "data": {
      "image/png": "[encoded data removed]",
      "text/plain": [
       "Plot with title “Posterior Distribution of Odds Ratio”"
      ]
     },
     "metadata": {
      "image/png": {
       "height": 420,
       "width": 420
      }
     },
     "output_type": "display_data"
    }
   ],
   "source": [
    "# Set the number of draws\n",
    "n_draws <- 1000\n",
    "\n",
    "# Posterior draws for p0 and p1 using Beta distributions\n",
    "p0_draws <- rbeta(n_draws, 41, 637)\n",
    "p1_draws <- rbeta(n_draws, 24, 660)\n",
    "\n",
    "# Compute odds ratio for each draw\n",
    "odds_ratio_draws <- (p1_draws / (1 - p1_draws)) / (p0_draws / (1 - p0_draws))\n",
    "\n",
    "# Summarize the posterior distribution of the odds ratio\n",
    "mean_or <- mean(odds_ratio_draws)  # Mean of the odds ratio\n",
    "ci_or <- quantile(odds_ratio_draws, c(0.025, 0.975))  # 95% credible interval\n",
    "\n",
    "# Print the results\n",
    "cat(\"Mean Odds Ratio:\", mean_or, \"\\n\")\n",
    "cat(\"95% Credible Interval for Odds Ratio:\", ci_or, \"\\n\")\n",
    "\n",
    "# Plot the posterior distribution of the odds ratio\n",
    "hist(odds_ratio_draws, breaks = 30, main = \"Posterior Distribution of Odds Ratio\", xlab = \"Odds Ratio\")"
   ]
  },
  {
   "cell_type": "code",
   "execution_count": 30,
   "id": "a7663842-ad34-4731-bb43-3a830a9d5191",
   "metadata": {
    "tags": []
   },
   "outputs": [
    {
     "name": "stdout",
     "output_type": "stream",
     "text": [
      "Mean Odds Ratio (Beta(2,2) prior): 0.5855957 \n",
      "95% Credible Interval for Odds Ratio (Beta(2,2) prior): 0.3303034 0.9429298 \n",
      "\n",
      "Comparison with Beta(1,1) prior:\n",
      "Mean Odds Ratio (Beta(1,1) prior): 0.5752772 \n",
      "95% Credible Interval for Odds Ratio (Beta(1,1) prior): 0.3219627 0.9352155 \n"
     ]
    },
    {
     "data": {
      "image/png": "[encoded data removed]",
      "text/plain": [
       "Plot with title “Comparison of Posterior Distributions of Odds Ratio”"
      ]
     },
     "metadata": {
      "image/png": {
       "height": 420,
       "width": 420
      }
     },
     "output_type": "display_data"
    }
   ],
   "source": [
    "# Set the number of draws\n",
    "n_draws <- 1000\n",
    "\n",
    "# Posterior draws for p0 and p1 using Beta(2,2) prior\n",
    "p0_draws_weak <- rbeta(n_draws, 41, 637)  # Posterior with Beta(2,2) prior for p0\n",
    "p1_draws_weak <- rbeta(n_draws, 24, 660)  # Posterior with Beta(2,2) prior for p1\n",
    "\n",
    "# Compute odds ratio for each draw\n",
    "odds_ratio_draws_weak <- (p1_draws_weak / (1 - p1_draws_weak)) / (p0_draws_weak / (1 - p0_draws_weak))\n",
    "\n",
    "# Summarize the posterior distribution of the odds ratio\n",
    "mean_or_weak <- mean(odds_ratio_draws_weak)  # Mean of the odds ratio\n",
    "ci_or_weak <- quantile(odds_ratio_draws_weak, c(0.025, 0.975))  # 95% credible interval\n",
    "\n",
    "# Print the results\n",
    "cat(\"Mean Odds Ratio (Beta(2,2) prior):\", mean_or_weak, \"\\n\")\n",
    "cat(\"95% Credible Interval for Odds Ratio (Beta(2,2) prior):\", ci_or_weak, \"\\n\")\n",
    "\n",
    "# Compare with Beta(1,1) prior\n",
    "cat(\"\\nComparison with Beta(1,1) prior:\\n\")\n",
    "cat(\"Mean Odds Ratio (Beta(1,1) prior):\", mean_or, \"\\n\")\n",
    "cat(\"95% Credible Interval for Odds Ratio (Beta(1,1) prior):\", ci_or, \"\\n\")\n",
    "\n",
    "# Plot comparison of posterior distributions\n",
    "hist(odds_ratio_draws, breaks = 30, col = rgb(1, 0, 0, 0.5), main = \"Comparison of Posterior Distributions of Odds Ratio\", xlab = \"Odds Ratio\", xlim = range(c(odds_ratio_draws, odds_ratio_draws_weak)))\n",
    "hist(odds_ratio_draws_weak, breaks = 30, col = rgb(0, 0, 1, 0.5), add = TRUE)\n",
    "legend(\"topright\", legend=c(\"Beta(1,1) Prior\", \"Beta(2,2) Prior\"), fill=c(rgb(1, 0, 0, 0.5), rgb(0, 0, 1, 0.5)))\n"
   ]
  },
  {
   "cell_type": "markdown",
   "id": "d4bcc8d4-d4ad-4e8b-acfb-3531f0ceb426",
   "metadata": {},
   "source": [
    "3. Inference for the difference between normal means\n"
   ]
  },
  {
   "cell_type": "code",
   "execution_count": 33,
   "id": "ccc23e5e-44d9-49b9-9b36-60d520b29423",
   "metadata": {
    "tags": []
   },
   "outputs": [
    {
     "data": {
      "text/html": [
       "<style>\n",
       ".list-inline {list-style: none; margin:0; padding: 0}\n",
       ".list-inline>li {display: inline-block}\n",
       ".list-inline>li:not(:last-child)::after {content: \"\\00b7\"; padding: 0 .5ex}\n",
       "</style>\n",
       "<ol class=list-inline><li>15.98</li><li>14.206</li><li>16.011</li><li>17.25</li><li>15.993</li><li>15.722</li></ol>\n"
      ],
      "text/latex": [
       "\\begin{enumerate*}\n",
       "\\item 15.98\n",
       "\\item 14.206\n",
       "\\item 16.011\n",
       "\\item 17.25\n",
       "\\item 15.993\n",
       "\\item 15.722\n",
       "\\end{enumerate*}\n"
      ],
      "text/markdown": [
       "1. 15.98\n",
       "2. 14.206\n",
       "3. 16.011\n",
       "4. 17.25\n",
       "5. 15.993\n",
       "6. 15.722\n",
       "\n",
       "\n"
      ],
      "text/plain": [
       "[1] 15.980 14.206 16.011 17.250 15.993 15.722"
      ]
     },
     "metadata": {},
     "output_type": "display_data"
    }
   ],
   "source": [
    "\n",
    "data(\"windshieldy2\")\n",
    "head(windshieldy2)"
   ]
  },
  {
   "cell_type": "code",
   "execution_count": 34,
   "id": "96d41b40-94ec-4aaf-861a-9643305ba717",
   "metadata": {
    "tags": []
   },
   "outputs": [
    {
     "name": "stdout",
     "output_type": "stream",
     "text": [
      "Summary statistics for y1:\n",
      "Mean: 14.61122 \n",
      "Standard Deviation: 1.474162 \n",
      "Sample Variance: 2.173153 \n",
      "\n",
      "Summary statistics for y2:\n",
      "Mean: 15.82108 \n",
      "Standard Deviation: 0.8726099 \n",
      "Sample Variance: 0.7614481 \n"
     ]
    }
   ],
   "source": [
    "# Install and load the aaltobda package\n",
    "if (!require(aaltobda)) {\n",
    "    install.packages(\"aaltobda\")\n",
    "    library(aaltobda)\n",
    "}\n",
    "\n",
    "# Load the datasets\n",
    "data(\"windshieldy1\", package = \"aaltobda\")\n",
    "data(\"windshieldy2\", package = \"aaltobda\")\n",
    "\n",
    "# Get the hardness measurements for both production lines\n",
    "y1 <- windshieldy1\n",
    "y2 <- windshieldy2\n",
    "\n",
    "# Calculate the sample statistics for both y1 and y2\n",
    "y1_mean <- mean(y1)\n",
    "y2_mean <- mean(y2)\n",
    "\n",
    "y1_var <- var(y1)\n",
    "y2_var <- var(y2)\n",
    "\n",
    "y1_sd <- sd(y1)\n",
    "y2_sd <- sd(y2)\n",
    "\n",
    "n <- length(y1)  # Assuming same number of samples for both y1 and y2\n",
    "\n",
    "# Report summary statistics\n",
    "cat(\"Summary statistics for y1:\\n\")\n",
    "cat(\"Mean:\", y1_mean, \"\\n\")\n",
    "cat(\"Standard Deviation:\", y1_sd, \"\\n\")\n",
    "cat(\"Sample Variance:\", y1_var, \"\\n\\n\")\n",
    "\n",
    "cat(\"Summary statistics for y2:\\n\")\n",
    "cat(\"Mean:\", y2_mean, \"\\n\")\n",
    "cat(\"Standard Deviation:\", y2_sd, \"\\n\")\n",
    "cat(\"Sample Variance:\", y2_var, \"\\n\")\n"
   ]
  },
  {
   "cell_type": "code",
   "execution_count": 35,
   "id": "e7f0686b-84ed-48ec-837c-046cf8386ec7",
   "metadata": {
    "tags": []
   },
   "outputs": [
    {
     "name": "stdout",
     "output_type": "stream",
     "text": [
      "95% posterior interval for mu1: 13.478 - 15.744 \n",
      "95% posterior interval for mu2: 15.15 - 16.492 \n"
     ]
    }
   ],
   "source": [
    "# Calculate 95% posterior intervals for the means (mu1 and mu2)\n",
    "alpha <- 0.05\n",
    "t_critical <- qt(1 - alpha/2, df = n-1)\n",
    "\n",
    "# Posterior interval for mu1\n",
    "mu1_lower <- y1_mean - t_critical * (y1_sd / sqrt(n))\n",
    "mu1_upper <- y1_mean + t_critical * (y1_sd / sqrt(n))\n",
    "\n",
    "# Posterior interval for mu2\n",
    "mu2_lower <- y2_mean - t_critical * (y2_sd / sqrt(n))\n",
    "mu2_upper <- y2_mean + t_critical * (y2_sd / sqrt(n))\n",
    "\n",
    "cat(\"95% posterior interval for mu1:\", round(mu1_lower, 3), \"-\", round(mu1_upper, 3), \"\\n\")\n",
    "cat(\"95% posterior interval for mu2:\", round(mu2_lower, 3), \"-\", round(mu2_upper, 3), \"\\n\")\n"
   ]
  },
  {
   "cell_type": "code",
   "execution_count": 38,
   "id": "3bb161cf-7f58-47a6-96c4-a47d02ee8687",
   "metadata": {
    "tags": []
   },
   "outputs": [
    {
     "name": "stdout",
     "output_type": "stream",
     "text": [
      "Mean of mu_d: -1.214 \n",
      "95% credible interval for mu_d: -2.48 to 0.029 \n"
     ]
    },
    {
     "data": {
      "image/png": "[encoded data removed]",
      "text/plain": [
       "Plot with title “Posterior distribution of mu_d”"
      ]
     },
     "metadata": {
      "image/png": {
       "height": 420,
       "width": 420
      }
     },
     "output_type": "display_data"
    }
   ],
   "source": [
    "# Assuming you have already computed the posterior distributions of mu1 and mu2\n",
    "n1 <- length(y1)\n",
    "n2 <- length(y2)\n",
    "\n",
    "# Number of samples\n",
    "n_samples <- 10000\n",
    "\n",
    "# Calculate degrees of freedom and standard error\n",
    "df1 <- n1 - 1\n",
    "df2 <- n2 - 1\n",
    "\n",
    "# Draw samples from the posterior distributions using rt (Student's t-distribution)\n",
    "mu1_samples <- rt(n_samples, df = df1) * (sd(y1) / sqrt(n1)) + mean(y1)\n",
    "mu2_samples <- rt(n_samples, df = df2) * (sd(y2) / sqrt(n2)) + mean(y2)\n",
    "\n",
    "# Compute the differences between mu1 and mu2\n",
    "mu_d_samples <- mu1_samples - mu2_samples\n",
    "\n",
    "# Summary statistics for mu_d\n",
    "mean_mu_d <- mean(mu_d_samples)\n",
    "ci_mu_d <- quantile(mu_d_samples, probs = c(0.025, 0.975))\n",
    "\n",
    "# Output the results\n",
    "cat(\"Mean of mu_d:\", round(mean_mu_d, 3), \"\\n\")\n",
    "cat(\"95% credible interval for mu_d:\", round(ci_mu_d[1], 3), \"to\", round(ci_mu_d[2], 3), \"\\n\")\n",
    "\n",
    "# Optional: Plot the posterior distribution of mu_d\n",
    "hist(mu_d_samples, breaks=50, probability=TRUE, main=\"Posterior distribution of mu_d\", xlab=\"mu_d\")\n",
    "\n"
   ]
  },
  {
   "cell_type": "code",
   "execution_count": 39,
   "id": "928d1a1c-ba96-41a4-8580-e77940ec8992",
   "metadata": {
    "tags": []
   },
   "outputs": [
    {
     "name": "stdout",
     "output_type": "stream",
     "text": [
      "Point estimate E(mu_d | y1, y2): -1.214 \n"
     ]
    }
   ],
   "source": [
    "# Compute the differences between mu1 and mu2\n",
    "mu_d_samples <- mu1_samples - mu2_samples\n",
    "\n",
    "# Compute the point estimate (mean of the differences)\n",
    "point_estimate_mu_d <- mean(mu_d_samples)\n",
    "\n",
    "# Output the point estimate rounded to three decimal places\n",
    "cat(\"Point estimate E(mu_d | y1, y2):\", round(point_estimate_mu_d, 3), \"\\n\")"
   ]
  },
  {
   "cell_type": "code",
   "execution_count": 40,
   "id": "ddedb1a1-7331-4ab4-92bc-a33fa6c833ea",
   "metadata": {
    "tags": []
   },
   "outputs": [
    {
     "name": "stdout",
     "output_type": "stream",
     "text": [
      "95% credible interval for mu_d: -2.48 to 0.029 \n"
     ]
    }
   ],
   "source": [
    "# Compute the 95% credible interval\n",
    "ci_mu_d <- quantile(mu_d_samples, probs = c(0.025, 0.975))\n",
    "\n",
    "# Output the 95% credible interval for mu_d with three decimal digits\n",
    "cat(\"95% credible interval for mu_d:\", round(ci_mu_d[1], 3), \"to\", round(ci_mu_d[2], 3), \"\\n\")"
   ]
  },
  {
   "cell_type": "code",
   "execution_count": 41,
   "id": "bda7571e-0690-4462-91fc-c54f64365cfc",
   "metadata": {
    "tags": []
   },
   "outputs": [
    {
     "name": "stdout",
     "output_type": "stream",
     "text": [
      "Probability that μ1 < μ2: 0.97 \n"
     ]
    }
   ],
   "source": [
    "# Compute the differences between mu1 and mu2\n",
    "mu_d_samples <- mu1_samples - mu2_samples\n",
    "\n",
    "# Compute the probability that mu1 < mu2 (i.e., mu_d < 0)\n",
    "prob_mu1_less_mu2 <- mean(mu_d_samples < 0)\n",
    "\n",
    "# Output the probability rounded to two decimal places\n",
    "cat(\"Probability that μ1 < μ2:\", round(prob_mu1_less_mu2, 2), \"\\n\")"
   ]
  },
  {
   "cell_type": "code",
   "execution_count": null,
   "id": "c527b98d-c5b0-4aaf-bd42-2fa8687a2c7a",
   "metadata": {},
   "outputs": [],
   "source": []
  }
 ],
 "metadata": {
  "kernelspec": {
   "display_name": "R",
   "language": "R",
   "name": "ir"
  },
  "language_info": {
   "codemirror_mode": "r",
   "file_extension": ".r",
   "mimetype": "text/x-r-source",
   "name": "R",
   "pygments_lexer": "r",
   "version": "4.4.1"
  }
 },
 "nbformat": 4,
 "nbformat_minor": 5
}

{
 "cells": [
  {
   "cell_type": "markdown",
   "id": "ef14ae56-cd3b-4225-aaf5-6ca1ea32bdca",
   "metadata": {},
   "source": [
    "Lecture 6/Chapter 12 of BDA Quiz (96% of grade)\n"
   ]
  },
  {
   "cell_type": "markdown",
   "id": "c638a90c-bfb3-4874-8b05-52e210600507",
   "metadata": {
    "tags": []
   },
   "source": [
    "2. Stan warmup\n"
   ]
  },
  {
   "cell_type": "code",
   "execution_count": 1,
   "id": "01f142a8-2457-4d1d-a86d-23e569e095ed",
   "metadata": {
    "tags": []
   },
   "outputs": [
    {
     "name": "stderr",
     "output_type": "stream",
     "text": [
      "Loading required package: aaltobda\n",
      "\n"
     ]
    }
   ],
   "source": [
    "if(!require(aaltobda)){\n",
    "    install.packages(\"aaltobda\", repos = c(\"https://avehtari.github.io/BDA_course_Aalto/\", getOption(\"repos\")))\n",
    "    library(aaltobda)\n",
    "}"
   ]
  },
  {
   "cell_type": "code",
   "execution_count": 2,
   "id": "a8111038-39d0-4d7e-94e8-523a8f286b3a",
   "metadata": {
    "tags": []
   },
   "outputs": [
    {
     "name": "stderr",
     "output_type": "stream",
     "text": [
      "Loading required package: latex2exp\n",
      "\n"
     ]
    }
   ],
   "source": [
    "if(!require(latex2exp)){\n",
    "    install.packages(\"latex2exp\")\n",
    "    library(latex2exp)\n",
    "}"
   ]
  },
  {
   "cell_type": "code",
   "execution_count": 3,
   "id": "2daaa956-5f32-43c7-938e-27a63b52f65d",
   "metadata": {
    "tags": []
   },
   "outputs": [
    {
     "name": "stderr",
     "output_type": "stream",
     "text": [
      "Loading required package: posterior\n",
      "\n",
      "This is posterior version 1.6.0\n",
      "\n",
      "\n",
      "Attaching package: ‘posterior’\n",
      "\n",
      "\n",
      "The following object is masked from ‘package:aaltobda’:\n",
      "\n",
      "    mcse_quantile\n",
      "\n",
      "\n",
      "The following objects are masked from ‘package:stats’:\n",
      "\n",
      "    mad, sd, var\n",
      "\n",
      "\n",
      "The following objects are masked from ‘package:base’:\n",
      "\n",
      "    %in%, match\n",
      "\n",
      "\n"
     ]
    }
   ],
   "source": [
    "if(!require(posterior)){\n",
    "    install.packages(\"posterior\")\n",
    "    library(posterior)\n",
    "}"
   ]
  },
  {
   "cell_type": "code",
   "execution_count": 4,
   "id": "deca66fc-7772-45e8-88c8-cd8c4a467d9c",
   "metadata": {
    "tags": []
   },
   "outputs": [
    {
     "name": "stderr",
     "output_type": "stream",
     "text": [
      "Loading required package: ggplot2\n",
      "\n"
     ]
    }
   ],
   "source": [
    "if(!require(ggplot2)){\n",
    "    install.packages(\"ggplot2\")\n",
    "    library(ggplot2)\n",
    "}"
   ]
  },
  {
   "cell_type": "code",
   "execution_count": 5,
   "id": "41697459-56c8-4768-97fd-de3dd3275b85",
   "metadata": {
    "tags": []
   },
   "outputs": [
    {
     "name": "stderr",
     "output_type": "stream",
     "text": [
      "Loading required package: bayesplot\n",
      "\n",
      "This is bayesplot version 1.11.1\n",
      "\n",
      "- Online documentation and vignettes at mc-stan.org/bayesplot\n",
      "\n",
      "- bayesplot theme set to bayesplot::theme_default()\n",
      "\n",
      "   * Does _not_ affect other ggplot2 plots\n",
      "\n",
      "   * See ?bayesplot_theme_set for details on theme setting\n",
      "\n",
      "\n",
      "Attaching package: ‘bayesplot’\n",
      "\n",
      "\n",
      "The following object is masked from ‘package:posterior’:\n",
      "\n",
      "    rhat\n",
      "\n",
      "\n"
     ]
    }
   ],
   "source": [
    "if(!require(bayesplot)){\n",
    "    install.packages(\"bayesplot\")\n",
    "    library(bayesplot)\n",
    "}"
   ]
  },
  {
   "cell_type": "code",
   "execution_count": 6,
   "id": "19eab7eb-afb7-4489-be06-bc7b66feb4c2",
   "metadata": {
    "tags": []
   },
   "outputs": [
    {
     "name": "stderr",
     "output_type": "stream",
     "text": [
      "Loading required package: dplyr\n",
      "\n",
      "\n",
      "Attaching package: ‘dplyr’\n",
      "\n",
      "\n",
      "The following objects are masked from ‘package:stats’:\n",
      "\n",
      "    filter, lag\n",
      "\n",
      "\n",
      "The following objects are masked from ‘package:base’:\n",
      "\n",
      "    intersect, setdiff, setequal, union\n",
      "\n",
      "\n"
     ]
    }
   ],
   "source": [
    "if(!require(dplyr)){\n",
    "    install.packages(\"dplyr\")\n",
    "    library(dplyr)\n",
    "}"
   ]
  },
  {
   "cell_type": "code",
   "execution_count": 7,
   "id": "ff50ffa1-2101-455c-966b-7ba09db23111",
   "metadata": {
    "tags": []
   },
   "outputs": [
    {
     "name": "stderr",
     "output_type": "stream",
     "text": [
      "Loading required package: tidyr\n",
      "\n"
     ]
    }
   ],
   "source": [
    "if(!require(tidyr)){\n",
    "    install.packages(\"tidyr\")\n",
    "    library(tidyr)\n",
    "}"
   ]
  },
  {
   "cell_type": "code",
   "execution_count": 8,
   "id": "f457e3a1-26cc-4620-80b6-99be435b799d",
   "metadata": {
    "tags": []
   },
   "outputs": [
    {
     "name": "stderr",
     "output_type": "stream",
     "text": [
      "Loading required package: cmdstanr\n",
      "\n",
      "CmdStan path set to: /coursedata/cmdstan/cmdstan-2.35.0\n",
      "\n",
      "This is cmdstanr version 0.8.0\n",
      "\n",
      "- CmdStanR documentation and vignettes: mc-stan.org/cmdstanr\n",
      "\n",
      "- CmdStan path: /coursedata/cmdstan/cmdstan-2.35.0\n",
      "\n",
      "- CmdStan version: 2.35.0\n",
      "\n"
     ]
    }
   ],
   "source": [
    "if(!require(cmdstanr)){\n",
    "    install.packages(\"cmdstanr\", repos = c(\"https://mc-stan.org/r-packages/\", getOption(\"repos\")))\n",
    "    library(cmdstanr)\n",
    "}"
   ]
  },
  {
   "cell_type": "code",
   "execution_count": 9,
   "id": "c7f71568-3f31-497b-a953-ae8c3f712761",
   "metadata": {
    "tags": []
   },
   "outputs": [],
   "source": [
    "cmdstan_installed <- function(){\n",
    "  res <- try(out <- cmdstanr::cmdstan_path(), silent = TRUE)\n",
    "  !inherits(res, \"try-error\")\n",
    "}\n",
    "if(!cmdstan_installed()){\n",
    "    install_cmdstan()\n",
    "}"
   ]
  },
  {
   "cell_type": "code",
   "execution_count": 10,
   "id": "e1b19a7f-7cc9-4e5c-9049-26ef4dc38f20",
   "metadata": {
    "tags": []
   },
   "outputs": [
    {
     "data": {
      "text/html": [
       "'/coursedata/cmdstan/cmdstan-2.35.0'"
      ],
      "text/latex": [
       "'/coursedata/cmdstan/cmdstan-2.35.0'"
      ],
      "text/markdown": [
       "'/coursedata/cmdstan/cmdstan-2.35.0'"
      ],
      "text/plain": [
       "[1] \"/coursedata/cmdstan/cmdstan-2.35.0\""
      ]
     },
     "metadata": {},
     "output_type": "display_data"
    }
   ],
   "source": [
    "# Check if cmdstanr is installed, install if not\n",
    "if (!requireNamespace(\"cmdstanr\", quietly = TRUE)) {\n",
    "    install.packages(\"cmdstanr\", repos = c(\"https://mc-stan.org/r-packages/\", getOption(\"repos\")))\n",
    "}\n",
    "\n",
    "# Load cmdstanr library\n",
    "library(cmdstanr)\n",
    "\n",
    "# Optional: Check if CmdStan is installed and get the path\n",
    "cmdstan_path()  # This should return the path to your CmdStan installation\n"
   ]
  },
  {
   "cell_type": "code",
   "execution_count": 13,
   "id": "1314de55-1c9c-41ac-b756-6c48aa874ec7",
   "metadata": {
    "tags": []
   },
   "outputs": [],
   "source": [
    "# These are our observations y: the proportion of students handing in each assignment (1-8),\n",
    "# sorted by year (row-wise) and assignment (column-wise).\n",
    "# While the code suggest a matrix structure, \n",
    "# the result will actually be a vector of length N = no_years * no_assignments\n",
    "propstudents<-c(c(176, 174, 158, 135, 138, 129, 126, 123)/176,\n",
    "                c(242, 212, 184, 177, 174, 172, 163, 156)/242,\n",
    "                c(332, 310, 278, 258, 243, 242, 226, 224)/332,\n",
    "                c(301, 269, 231, 232, 217, 208, 193, 191)/301,\n",
    "                c(245, 240, 228, 217, 206, 199, 191, 182)/245,\n",
    "                c(264, 249, 215, 221, 215, 206, 192, 186)/264)\n",
    "# These are our predictors x: for each observation, the corresponding assignment number.\n",
    "assignment <- rep(1:8, 6)\n",
    "# These are in some sense our test data: the proportion of students handing in the last assignment (9),\n",
    "# sorted by year. \n",
    "# Usually, we would not want to split our data like that and instead\n",
    "# use e.g. Leave-One-Out Cross-Validation (LOO-CV, see e.g. http://mc-stan.org/loo/index.html)\n",
    "# to evaluate model performance.\n",
    "propstudents9 = c(121/176, 153/242, 218/332, 190/301, 175/245, 179/264)\n",
    "# The total number of assignments\n",
    "no_assignments = 9\n",
    "# The assignment numbers for which we want to generate predictions\n",
    "x_predictions = 1:no_assignments\n",
    "# (Cmd)Stan(R) expects the data to be passed in the below format:\n",
    "model_data = list(N=length(assignment),\n",
    "                 x=assignment,\n",
    "                 y=propstudents,\n",
    "                 no_predictions=no_assignments,\n",
    "                 x_predictions=x_predictions)"
   ]
  },
  {
   "cell_type": "code",
   "execution_count": 14,
   "id": "4dbd60d1-c36d-49cc-a07e-3639f5d2e91c",
   "metadata": {
    "tags": []
   },
   "outputs": [
    {
     "name": "stderr",
     "output_type": "stream",
     "text": [
      "error: error opening 'src/cmdstan/main_threads.d': Read-only file system\n",
      "1 error generated.\n",
      "\n",
      "\n",
      "error: unable to open output file 'stan/src/stan/model/model_header.hpp.gch/model_header_threads_14_0.hpp.gch': 'Read-only file system'\n",
      "1 error generated.\n",
      "\n",
      "\n",
      "Warning message:\n",
      "“CmdStan's precompiled header (PCH) files may need to be rebuilt.\n",
      "If your model failed to compile please run rebuild_cmdstan().\n",
      "If the issue persists please open a bug report.”\n",
      "make: *** [make/program:28: stan/src/stan/model/model_header.hpp.gch/model_header_threads_14_0.hpp.gch] Error 1\n",
      "\n",
      "\n",
      "Warning message:\n",
      "“CmdStan's precompiled header (PCH) files may need to be rebuilt.\n",
      "If your model failed to compile please run rebuild_cmdstan().\n",
      "If the issue persists please open a bug report.”\n"
     ]
    },
    {
     "ename": "ERROR",
     "evalue": "Error: An error occured during compilation! See the message above for more information.\n",
     "output_type": "error",
     "traceback": [
      "Error: An error occured during compilation! See the message above for more information.\nTraceback:\n",
      "1. CmdStanModel$new(stan_file = stan_file, exe_file = exe_file, \n .     compile = compile, ...)",
      "2. initialize(...)",
      "3. self$compile(...)",
      "4. stop(err_msg, call. = FALSE)",
      "5. .handleSimpleError(function (cnd) \n . {\n .     watcher$capture_plot_and_output()\n .     cnd <- sanitize_call(cnd)\n .     watcher$push(cnd)\n .     switch(on_error, continue = invokeRestart(\"eval_continue\"), \n .         stop = invokeRestart(\"eval_stop\"), error = invokeRestart(\"eval_error\", \n .             cnd))\n . }, \"An error occured during compilation! See the message above for more information.\", \n .     base::quote(NULL))"
     ]
    }
   ],
   "source": [
    "# This reads the file at the specified path and tries to compile it. \n",
    "# If it fails, an error is thrown.\n",
    "retention_model = cmdstan_model(\"assignment6_linear_model.stan\")\n",
    "# This \"out <- capture.output(...)\" construction suppresses output from cmdstanr\n",
    "# See also https://github.com/stan-dev/cmdstanr/issues/646\n",
    "out <- capture.output(\n",
    "    # Sampling from the posterior distribution happens here:\n",
    "    fit <- retention_model$sample(data=model_data, refresh=0, show_messages=FALSE)\n",
    ")"
   ]
  },
  {
   "cell_type": "code",
   "execution_count": 13,
   "id": "359a243f-b8f0-4d01-a46a-3fc0159feb96",
   "metadata": {
    "tags": []
   },
   "outputs": [
    {
     "ename": "ERROR",
     "evalue": "Error: object 'fit' not found\n",
     "output_type": "error",
     "traceback": [
      "Error: object 'fit' not found\nTraceback:\n"
     ]
    }
   ],
   "source": [
    "# This extracts the draws from the sampling result as a data.frame.\n",
    "draws_df = fit$draws(format=\"draws_df\")\n",
    "\n",
    "# This does some data/draws wrangling to compute the 5, 50 and 95 percentiles of \n",
    "# the mean at the specified covariate values (x_predictions). \n",
    "# It can be instructive to play around with each of the data processing steps\n",
    "# to find out what each step does, e.g. by removing parts from the back like \"|>  gather(pct,y,-x)\"\n",
    "# and printing the resulting data.frame.\n",
    "mu_quantiles_df = draws_df |> \n",
    "      subset_draws(variable = c(\"mu_pred\")) |> \n",
    "      summarise_draws(~quantile2(.x, probs = c(0.05, .5, 0.95))) |> \n",
    "      mutate(x = 1:9) |> \n",
    "      pivot_longer(c(q5, q50, q95), names_to = c(\"pct\"))\n",
    "# Same as above, but for the predictions.\n",
    "y_quantiles_df = draws_df |> \n",
    "      subset_draws(variable = c(\"y_pred\")) |> \n",
    "      summarise_draws(~quantile2(.x, probs = c(0.05, .5, 0.95))) |> \n",
    "      mutate(x = 1:9) |> \n",
    "      pivot_longer(c(q5, q50, q95), names_to = c(\"pct\"))"
   ]
  },
  {
   "cell_type": "code",
   "execution_count": 15,
   "id": "a8e88bb9-4562-4e00-aab4-bd621af3055b",
   "metadata": {
    "tags": []
   },
   "outputs": [
    {
     "data": {
      "image/png": "[encoded data removed]",
      "text/plain": [
       "plot without title"
      ]
     },
     "metadata": {
      "image/png": {
       "height": 420,
       "width": 420
      }
     },
     "output_type": "display_data"
    }
   ],
   "source": [
    "set.seed(48927+4)\n",
    "M=1;\n",
    "N=10;\n",
    "x=matrix(sort(rnorm(N)),ncol=M)\n",
    "y=rep(c(0,1), each=N/2)\n",
    "data_logit <-list(M = M, N = N, x = x, y = y)\n",
    "data.frame(data_logit) |>\n",
    "  ggplot(aes(x, y)) +\n",
    "  geom_point(size = 3, shape=1, alpha=0.6) +\n",
    "  scale_y_continuous(breaks=c(0,1))\n"
   ]
  },
  {
   "cell_type": "code",
   "execution_count": 16,
   "id": "6f7e3121-6a81-471b-8351-03eaf89ad565",
   "metadata": {
    "tags": []
   },
   "outputs": [
    {
     "ename": "ERROR",
     "evalue": "Error: attempt to apply non-function\n",
     "output_type": "error",
     "traceback": [
      "Error: attempt to apply non-function\nTraceback:\n"
     ]
    }
   ],
   "source": [
    "data_logit$diagnostic_summary()"
   ]
  },
  {
   "cell_type": "code",
   "execution_count": 17,
   "id": "500ba9a4-4458-4259-88ac-33ec4e1705ac",
   "metadata": {
    "tags": []
   },
   "outputs": [
    {
     "ename": "ERROR",
     "evalue": "Error in initialize(...): Assertion on 'stan_file' failed: File does not exist: 'logistic_regression.stan'.\n",
     "output_type": "error",
     "traceback": [
      "Error in initialize(...): Assertion on 'stan_file' failed: File does not exist: 'logistic_regression.stan'.\nTraceback:\n",
      "1. CmdStanModel$new(stan_file = stan_file, exe_file = exe_file, \n .     compile = compile, ...)",
      "2. initialize(...)",
      "3. assert_file_exists(stan_file, access = \"r\", extension = c(\"stan\", \n .     \"stanfunctions\"))",
      "4. checkmate::makeAssertion(files, res, .var.name, add)",
      "5. mstop(\"Assertion on '%s' failed: %s.\", var.name, res, call. = sys.call(-2L))",
      "6. stop(simpleError(sprintf(msg, ...), call.))"
     ]
    }
   ],
   "source": [
    "model <- cmdstan_model(\"logistic_regression.stan\")"
   ]
  },
  {
   "cell_type": "code",
   "execution_count": null,
   "id": "c5a6d9bd-6db9-4a15-8e8b-d72f605688e5",
   "metadata": {},
   "outputs": [],
   "source": []
  }
 ],
 "metadata": {
  "kernelspec": {
   "display_name": "R",
   "language": "R",
   "name": "ir"
  },
  "language_info": {
   "codemirror_mode": "r",
   "file_extension": ".r",
   "mimetype": "text/x-r-source",
   "name": "R",
   "pygments_lexer": "r",
   "version": "4.4.1"
  }
 },
 "nbformat": 4,
 "nbformat_minor": 5
}

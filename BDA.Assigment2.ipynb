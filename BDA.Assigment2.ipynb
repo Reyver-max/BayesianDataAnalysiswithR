{
 "cells": [
  {
   "cell_type": "code",
   "execution_count": 7,
   "id": "e40d1f7c-71ea-49a2-8b5c-52c30ab042fa",
   "metadata": {
    "tags": []
   },
   "outputs": [
    {
     "name": "stderr",
     "output_type": "stream",
     "text": [
      "Installing package into ‘/usr/local/lib/R/site-library’\n",
      "(as ‘lib’ is unspecified)\n",
      "\n",
      "Warning message:\n",
      "“unable to access index for repository https://avehtari.github.io/BDA_course_Aalto/src/contrib:\n",
      "  cannot open URL 'https://avehtari.github.io/BDA_course_Aalto/src/contrib/PACKAGES'”\n",
      "Warning message:\n",
      "“package ‘aaltobda’ is not available for this version of R\n",
      "\n",
      "A version of this package for your version of R might be available elsewhere,\n",
      "see the ideas at\n",
      "https://cran.r-project.org/doc/manuals/r-patched/R-admin.html#Installing-packages”\n"
     ]
    }
   ],
   "source": [
    "#| cache: true\n",
    "# Caching should be fine here\n",
    "install.packages(\"aaltobda\", repos = c(\"https://avehtari.github.io/BDA_course_Aalto/\", getOption(\"repos\")))"
   ]
  },
  {
   "cell_type": "code",
   "execution_count": 1,
   "id": "4279619b-add0-43f3-9226-a43a43669671",
   "metadata": {
    "tags": []
   },
   "outputs": [
    {
     "name": "stderr",
     "output_type": "stream",
     "text": [
      "\n",
      "Attaching package: ‘dplyr’\n",
      "\n",
      "\n",
      "The following objects are masked from ‘package:stats’:\n",
      "\n",
      "    filter, lag\n",
      "\n",
      "\n",
      "The following objects are masked from ‘package:base’:\n",
      "\n",
      "    intersect, setdiff, setequal, union\n",
      "\n",
      "\n"
     ]
    }
   ],
   "source": [
    "library(aaltobda)\n",
    "library(ggplot2)\n",
    "library(dplyr)"
   ]
  },
  {
   "cell_type": "code",
   "execution_count": 9,
   "id": "e73abb04-6197-43ec-9974-e46f3781c95c",
   "metadata": {
    "tags": []
   },
   "outputs": [],
   "source": [
    "library(latex2exp)\n",
    "data(\"algae\")\n",
    "# The data are now stored in the variable `algae`.\n",
    "# These are the values for the prior required in the assignment\n",
    "prior_alpha = 2\n",
    "prior_beta = 10"
   ]
  },
  {
   "cell_type": "code",
   "execution_count": 10,
   "id": "49db2b98-4f18-49dc-a2e8-f07cc8507be4",
   "metadata": {
    "tags": []
   },
   "outputs": [
    {
     "data": {
      "text/html": [
       "46"
      ],
      "text/latex": [
       "46"
      ],
      "text/markdown": [
       "46"
      ],
      "text/plain": [
       "[1] 46"
      ]
     },
     "metadata": {},
     "output_type": "display_data"
    },
    {
     "data": {
      "text/html": [],
      "text/latex": [],
      "text/markdown": [],
      "text/plain": [
       "numeric(0)"
      ]
     },
     "metadata": {},
     "output_type": "display_data"
    }
   ],
   "source": [
    "# Calculate the number of sites with algae ('1' indicates algae present)\n",
    "n <- nrow(algae)  # Total number of sites\n",
    "X <- sum(algae)   # Number of sites with algae present\n",
    "\n",
    "# Posterior parameters\n",
    "posterior_alpha <- prior_alpha + X\n",
    "posterior_beta <- prior_beta + (n - X)\n",
    "\n",
    "# Display the posterior parameters\n",
    "posterior_alpha\n",
    "posterior_beta"
   ]
  },
  {
   "cell_type": "code",
   "execution_count": 11,
   "id": "250339b3-aaa9-4fbf-8fd7-46c2300c93e2",
   "metadata": {
    "tags": []
   },
   "outputs": [
    {
     "ename": "ERROR",
     "evalue": "Error in data.frame(theta = theta_values, Prior = prior_density, Posterior = posterior_density): arguments imply differing number of rows: 1000, 0\n",
     "output_type": "error",
     "traceback": [
      "Error in data.frame(theta = theta_values, Prior = prior_density, Posterior = posterior_density): arguments imply differing number of rows: 1000, 0\nTraceback:\n",
      "1. data.frame(theta = theta_values, Prior = prior_density, Posterior = posterior_density)",
      "2. stop(gettextf(\"arguments imply differing number of rows: %s\", \n .     paste(unique(nrows), collapse = \", \")), domain = NA)"
     ]
    }
   ],
   "source": [
    "# Create a sequence of theta values for plotting the posterior distribution\n",
    "theta_values <- seq(0, 1, length.out = 1000)\n",
    "\n",
    "# Compute the prior and posterior Beta densities\n",
    "prior_density <- dbeta(theta_values, prior_alpha, prior_beta)\n",
    "posterior_density <- dbeta(theta_values, posterior_alpha, posterior_beta)\n",
    "\n",
    "# Plot the prior and posterior distributions\n",
    "df <- data.frame(\n",
    "  theta = theta_values,\n",
    "  Prior = prior_density,\n",
    "  Posterior = posterior_density\n",
    ")\n",
    "\n",
    "ggplot(df, aes(x = theta)) +\n",
    "  geom_line(aes(y = Prior), color = \"blue\", size = 1, linetype = \"dashed\") +\n",
    "  geom_line(aes(y = Posterior), color = \"red\", size = 1) +\n",
    "  labs(\n",
    "    title = \"Prior and Posterior Distributions for Algae Presence\",\n",
    "    x = TeX(\"$\\\\theta$ (Probability of algae presence)\"),\n",
    "    y = \"Density\"\n",
    "  ) +\n",
    "  theme_minimal() +\n",
    "  scale_y_continuous(expand = c(0, 0))"
   ]
  },
  {
   "cell_type": "code",
   "execution_count": 12,
   "id": "afb09ade-ff4a-4f3f-a69c-0412ba9e24b2",
   "metadata": {
    "tags": []
   },
   "outputs": [
    {
     "data": {
      "text/html": [
       "<style>\n",
       ".list-inline {list-style: none; margin:0; padding: 0}\n",
       ".list-inline>li {display: inline-block}\n",
       ".list-inline>li:not(:last-child)::after {content: \"\\00b7\"; padding: 0 .5ex}\n",
       "</style>\n",
       "<ol class=list-inline><li>0.189124476729917</li><li>0.133574410047818</li></ol>\n"
      ],
      "text/latex": [
       "\\begin{enumerate*}\n",
       "\\item 0.189124476729917\n",
       "\\item 0.133574410047818\n",
       "\\end{enumerate*}\n"
      ],
      "text/markdown": [
       "1. 0.189124476729917\n",
       "2. 0.133574410047818\n",
       "\n",
       "\n"
      ],
      "text/plain": [
       "[1] 0.1891245 0.1335744"
      ]
     },
     "metadata": {},
     "output_type": "display_data"
    }
   ],
   "source": [
    "alpha <- 46\n",
    "beta <- 240\n",
    "\n",
    "lower_bound <- qbeta(0.90, alpha, beta)  # Lower 2.5% quantile\n",
    "upper_bound <- qbeta(0.10, alpha, beta)  # Upper 97.5% quantile\n",
    "# Print the credible interval\n",
    "c(lower_bound, upper_bound)"
   ]
  },
  {
   "cell_type": "code",
   "execution_count": 13,
   "id": "5ce71e7b-aa9a-4e44-84e5-f8223a59e9c6",
   "metadata": {
    "tags": []
   },
   "outputs": [
    {
     "data": {
      "text/html": [
       "0.958613587194853"
      ],
      "text/latex": [
       "0.958613587194853"
      ],
      "text/markdown": [
       "0.958613587194853"
      ],
      "text/plain": [
       "[1] 0.9586136"
      ]
     },
     "metadata": {},
     "output_type": "display_data"
    }
   ],
   "source": [
    "theta_0 <- 0.2\n",
    "# Compute P(θ ≤ 0.2 | y) using the CDF of the Beta distribution\n",
    "posterior_prob <- pbeta(theta_0, alpha, beta)\n",
    "\n",
    "posterior_prob"
   ]
  },
  {
   "cell_type": "code",
   "execution_count": 14,
   "id": "382f8fad-ea20-4293-82f1-79fdd8be4d49",
   "metadata": {
    "tags": []
   },
   "outputs": [
    {
     "data": {
      "text/html": [
       "0.958613587194853"
      ],
      "text/latex": [
       "0.958613587194853"
      ],
      "text/markdown": [
       "0.958613587194853"
      ],
      "text/plain": [
       "[1] 0.9586136"
      ]
     },
     "metadata": {},
     "output_type": "display_data"
    }
   ],
   "source": [
    "alpha <- 46\n",
    "beta <- 240\n",
    "theta_0 <- 0.2\n",
    "\n",
    "# Compute P(θ ≤ 0.2 | y) using the CDF of the Beta distribution\n",
    "posterior_prob <- pbeta(theta_0, alpha, beta)\n",
    "\n",
    "posterior_prob\n"
   ]
  },
  {
   "cell_type": "code",
   "execution_count": 20,
   "id": "c1d1e4d7-c4b9-4cc2-b229-06379f747e5b",
   "metadata": {
    "tags": []
   },
   "outputs": [
    {
     "data": {
      "text/html": [
       "<style>\n",
       ".list-inline {list-style: none; margin:0; padding: 0}\n",
       ".list-inline>li {display: inline-block}\n",
       ".list-inline>li:not(:last-child)::after {content: \"\\00b7\"; padding: 0 .5ex}\n",
       "</style>\n",
       "<ol class=list-inline><li>0.191997134394057</li><li>0.13514067873013</li></ol>\n"
      ],
      "text/latex": [
       "\\begin{enumerate*}\n",
       "\\item 0.191997134394057\n",
       "\\item 0.13514067873013\n",
       "\\end{enumerate*}\n"
      ],
      "text/markdown": [
       "1. 0.191997134394057\n",
       "2. 0.13514067873013\n",
       "\n",
       "\n"
      ],
      "text/plain": [
       "[1] 0.1919971 0.1351407"
      ]
     },
     "metadata": {},
     "output_type": "display_data"
    }
   ],
   "source": [
    "alpha<- 45\n",
    "beta<- 231\n",
    "lower_bound <- qbeta(0.90, alpha, beta)  \n",
    "upper_bound <- qbeta(0.10, alpha, beta)  \n",
    "# Print the credible interval\n",
    "c(lower_bound, upper_bound)"
   ]
  },
  {
   "cell_type": "code",
   "execution_count": 19,
   "id": "2d120196-6ccc-4f7d-aea1-a1b9485e0255",
   "metadata": {
    "tags": []
   },
   "outputs": [
    {
     "data": {
      "text/html": [
       "0.191997134394057"
      ],
      "text/latex": [
       "0.191997134394057"
      ],
      "text/markdown": [
       "0.191997134394057"
      ],
      "text/plain": [
       "[1] 0.1919971"
      ]
     },
     "metadata": {},
     "output_type": "display_data"
    }
   ],
   "source": [
    "alpha <- 45\n",
    "beta <- 231\n",
    "\n",
    "# Calculate the lower bound of the 90% credible interval\n",
    "lower_bound_90 <- qbeta(0.90, alpha, beta)\n",
    "\n",
    "lower_bound_90"
   ]
  },
  {
   "cell_type": "code",
   "execution_count": 21,
   "id": "73c81731-3c9c-4d96-8316-c8a9cf4679ec",
   "metadata": {
    "tags": []
   },
   "outputs": [
    {
     "data": {
      "text/html": [
       "0.127968119547381"
      ],
      "text/latex": [
       "0.127968119547381"
      ],
      "text/markdown": [
       "0.127968119547381"
      ],
      "text/plain": [
       "[1] 0.1279681"
      ]
     },
     "metadata": {},
     "output_type": "display_data"
    }
   ],
   "source": [
    "alpha <- 45\n",
    "beta <- 231\n",
    "\n",
    "# Calculate the lower bound of the 90% credible interval\n",
    "lower_bound_90 <- qbeta(0.05, alpha, beta)\n",
    "\n",
    "lower_bound_90"
   ]
  },
  {
   "cell_type": "code",
   "execution_count": 22,
   "id": "1f164a8e-1801-48e2-9db9-b1bef039622f",
   "metadata": {
    "tags": []
   },
   "outputs": [
    {
     "data": {
      "text/html": [
       "0.946141149081393"
      ],
      "text/latex": [
       "0.946141149081393"
      ],
      "text/markdown": [
       "0.946141149081393"
      ],
      "text/plain": [
       "[1] 0.9461411"
      ]
     },
     "metadata": {},
     "output_type": "display_data"
    }
   ],
   "source": [
    "alpha <- 45\n",
    "beta <- 231\n",
    "theta_0 <- 0.2\n",
    "\n",
    "# Compute P(θ ≤ 0.2 | y) using the CDF of the Beta distribution\n",
    "posterior_prob <- pbeta(theta_0, alpha, beta)\n",
    "\n",
    "posterior_prob"
   ]
  },
  {
   "cell_type": "code",
   "execution_count": 27,
   "id": "e68ec755-6583-49a4-a783-63c91dc22b79",
   "metadata": {
    "tags": []
   },
   "outputs": [
    {
     "data": {
      "text/html": [
       "<style>\n",
       ".list-inline {list-style: none; margin:0; padding: 0}\n",
       ".list-inline>li {display: inline-block}\n",
       ".list-inline>li:not(:last-child)::after {content: \"\\00b7\"; padding: 0 .5ex}\n",
       "</style>\n",
       "<ol class=list-inline><li>0.136821905084829</li><li>0.193933452005965</li></ol>\n"
      ],
      "text/latex": [
       "\\begin{enumerate*}\n",
       "\\item 0.136821905084829\n",
       "\\item 0.193933452005965\n",
       "\\end{enumerate*}\n"
      ],
      "text/markdown": [
       "1. 0.136821905084829\n",
       "2. 0.193933452005965\n",
       "\n",
       "\n"
      ],
      "text/plain": [
       "[1] 0.1368219 0.1939335"
      ]
     },
     "metadata": {},
     "output_type": "display_data"
    }
   ],
   "source": [
    "alpha <- 45.5\n",
    "beta <- 230.5\n",
    "\n",
    "lower_bound <- qbeta(0.10, alpha, beta)  \n",
    "upper_bound <- qbeta(0.90, alpha, beta)  \n",
    "# Print the credible interval\n",
    "c(lower_bound, upper_bound)"
   ]
  },
  {
   "cell_type": "code",
   "execution_count": 28,
   "id": "d7926710-9993-4285-9ca2-c13f2078720f",
   "metadata": {
    "tags": []
   },
   "outputs": [
    {
     "data": {
      "text/html": [
       "0.936886283104333"
      ],
      "text/latex": [
       "0.936886283104333"
      ],
      "text/markdown": [
       "0.936886283104333"
      ],
      "text/plain": [
       "[1] 0.9368863"
      ]
     },
     "metadata": {},
     "output_type": "display_data"
    }
   ],
   "source": [
    "# Compute P(θ ≤ 0.2 | y) using the CDF of the Beta distribution\n",
    "posterior_prob <- pbeta(theta_0, alpha, beta)\n",
    "\n",
    "posterior_prob"
   ]
  },
  {
   "cell_type": "code",
   "execution_count": 29,
   "id": "177c4cbd-0140-4490-937f-03dabfa9eedc",
   "metadata": {
    "tags": []
   },
   "outputs": [
    {
     "data": {
      "text/html": [
       "<style>\n",
       ".list-inline {list-style: none; margin:0; padding: 0}\n",
       ".list-inline>li {display: inline-block}\n",
       ".list-inline>li:not(:last-child)::after {content: \"\\00b7\"; padding: 0 .5ex}\n",
       "</style>\n",
       "<ol class=list-inline><li>0.415223499500241</li><li>0.351001531932274</li></ol>\n"
      ],
      "text/latex": [
       "\\begin{enumerate*}\n",
       "\\item 0.415223499500241\n",
       "\\item 0.351001531932274\n",
       "\\end{enumerate*}\n"
      ],
      "text/markdown": [
       "1. 0.415223499500241\n",
       "2. 0.351001531932274\n",
       "\n",
       "\n"
      ],
      "text/plain": [
       "[1] 0.4152235 0.3510015"
      ]
     },
     "metadata": {},
     "output_type": "display_data"
    }
   ],
   "source": [
    "alpha <- 144\n",
    "beta <- 232\n",
    "\n",
    "lower_bound <- qbeta(0.90, alpha, beta)  \n",
    "upper_bound <- qbeta(0.10, alpha, beta)  \n",
    "# Print the credible interval\n",
    "c(lower_bound, upper_bound)"
   ]
  },
  {
   "cell_type": "code",
   "execution_count": 30,
   "id": "33d7f9c7-91a5-40a7-a6ff-73e92db923a8",
   "metadata": {
    "tags": []
   },
   "outputs": [
    {
     "data": {
      "text/html": [
       "1.86399782700309e-16"
      ],
      "text/latex": [
       "1.86399782700309e-16"
      ],
      "text/markdown": [
       "1.86399782700309e-16"
      ],
      "text/plain": [
       "[1] 1.863998e-16"
      ]
     },
     "metadata": {},
     "output_type": "display_data"
    }
   ],
   "source": [
    "posterior_prob <- pbeta(theta_0, alpha, beta)\n",
    "\n",
    "posterior_prob"
   ]
  },
  {
   "cell_type": "code",
   "execution_count": 32,
   "id": "3509453e-9ff4-4e17-80a0-a9568a7c35c7",
   "metadata": {
    "tags": []
   },
   "outputs": [
    {
     "name": "stderr",
     "output_type": "stream",
     "text": [
      "Warning message:\n",
      "“\u001b[1m\u001b[22mUsing `size` aesthetic for lines was deprecated in ggplot2 3.4.0.\n",
      "\u001b[36mℹ\u001b[39m Please use `linewidth` instead.”\n"
     ]
    },
    {
     "data": {
      "image/png": "[encoded data removed]",
      "text/plain": [
       "plot without title"
      ]
     },
     "metadata": {
      "image/png": {
       "height": 420,
       "width": 420
      }
     },
     "output_type": "display_data"
    }
   ],
   "source": [
    "# Beta distribution density function\n",
    "beta_density <- function(x, shape1, shape2) {\n",
    "  dbeta(x, shape1, shape2)\n",
    "}\n",
    "\n",
    "# Binomial likelihood density function\n",
    "binomial_likelihood <- function(x, n, k) {\n",
    "  choose(n, k) * x^k * (1 - x)^(n - k)\n",
    "}\n",
    "\n",
    "# Parameters for the Beta prior distributions\n",
    "priors <- list(c(45, 231), c(45.5, 230.5), c(144, 232)) # Define three different priors here priors, (alpha, beta)\n",
    "\n",
    "# Parameters for the binomial likelihood (number of trials and successes)\n",
    "n <- 274 # number of trials\n",
    "k <-  44 # number of successes\n",
    "\n",
    "# Create a sequence of x values from 0 to 1\n",
    "x <- seq(0, 1, length.out = 100)\n",
    "\n",
    "\n",
    "# Create a data frame with densities\n",
    "densities_list <- lapply(priors, function(prior) {\n",
    "  alpha_prior <- prior[1]\n",
    "  beta_prior <- prior[2]\n",
    "  alpha_posterior <- alpha_prior + k\n",
    "  beta_posterior <- beta_prior + n - k\n",
    "  \n",
    "  data.frame(\n",
    "    x = rep(x, 2),\n",
    "    density = c(beta_density(x, alpha_prior, beta_prior),\n",
    "                beta_density(x, alpha_posterior, beta_posterior)),\n",
    "    distribution = factor(rep(c(\"Prior\", \"Posterior\"), each = length(x))),\n",
    "    prior = paste(\"Prior: Alpha =\", alpha_prior, \"Beta =\", beta_prior)\n",
    "  )\n",
    "})\n",
    "\n",
    "df <- bind_rows(densities_list)\n",
    "\n",
    "# Plot the densities using ggplot2\n",
    "ggplot(df, aes(x = x, y = density, color = distribution)) +\n",
    "  geom_line(size = 1) +\n",
    "  facet_wrap(~ prior, scales = \"fixed\", nrow = 3) +\n",
    "  labs(title = \"Prior and Posterior Densities for Different Priors\", \n",
    "       x = TeX(\"$\\\\theta$\"), \n",
    "       y = \"Density\", \n",
    "       color = \"Distribution\") +\n",
    "  theme_minimal()"
   ]
  },
  {
   "cell_type": "code",
   "execution_count": 37,
   "id": "790bff28-da56-41c4-8748-0bad0a87199d",
   "metadata": {
    "tags": []
   },
   "outputs": [],
   "source": [
    "library(ggplot2)\n",
    "library(dplyr)\n",
    "library(latex2exp)\n",
    "library(aaltobda)"
   ]
  },
  {
   "cell_type": "code",
   "execution_count": 38,
   "id": "5a0f8e23-61ae-4c36-a2c2-dc316866d7ce",
   "metadata": {
    "tags": []
   },
   "outputs": [],
   "source": [
    "# Beta distribution density function\n",
    "beta_density <- function(x, shape1, shape2) {\n",
    "  dbeta(x, shape1, shape2)\n",
    "}\n",
    "\n",
    "# Binomial likelihood density function\n",
    "binomial_likelihood <- function(x, n, k) {\n",
    "  choose(n, k) * x^k * (1 - x)^(n - k)\n",
    "}\n",
    "\n",
    "# Parameters for the Beta prior distributions\n",
    "priors <- list(c(45, 231), c(45.5, 230.5), c(144, 232)) # Define three different priors here priors, (alpha, beta)\n",
    "\n",
    "# Parameters for the binomial likelihood (number of trials and successes)\n",
    "n <- 274 # number of trials\n",
    "k <-  44 # number of successes\n",
    "\n",
    "# Create a sequence of x values from 0 to 1\n",
    "x <- seq(0, 1, length.out = 100)\n"
   ]
  },
  {
   "cell_type": "code",
   "execution_count": 39,
   "id": "31c9ba92-7819-4397-a38e-0faf125fdef1",
   "metadata": {
    "tags": []
   },
   "outputs": [
    {
     "ename": "ERROR",
     "evalue": "Error in parse(text = x, srcfile = src): <text>:22:0: unexpected end of input\n20:     prior = paste(\"Alpha =\", alpha_prior, \"Beta =\", beta_prior)\n21:   )\n   ^\n",
     "output_type": "error",
     "traceback": [
      "Error in parse(text = x, srcfile = src): <text>:22:0: unexpected end of input\n20:     prior = paste(\"Alpha =\", alpha_prior, \"Beta =\", beta_prior)\n21:   )\n   ^\nTraceback:\n"
     ]
    }
   ],
   "source": [
    "# Create a data frame with densities\n",
    "densities_list <- lapply(priors, function(prior) {\n",
    "  alpha_prior <- prior[1]\n",
    "  beta_prior <- prior[2]\n",
    "  alpha_posterior <- alpha_prior + k\n",
    "  beta_posterior <- beta_prior + n - k\n",
    "  \n",
    "  # Create separate data frames for prior and posterior densities\n",
    "  prior_df <- data.frame(\n",
    "    x = x,\n",
    "    density = beta_density(x, alpha_prior, beta_prior),\n",
    "    distribution = \"Prior\",\n",
    "    prior = paste(\"Alpha =\", alpha_prior, \"Beta =\", beta_prior)\n",
    "  )\n",
    "  \n",
    "  posterior_df <- data.frame(\n",
    "    x = x,\n",
    "    density = beta_density(x, alpha_posterior, beta_posterior),\n",
    "    distribution = \"Posterior\",\n",
    "    prior = paste(\"Alpha =\", alpha_prior, \"Beta =\", beta_prior)\n",
    "  )"
   ]
  },
  {
   "cell_type": "code",
   "execution_count": 1,
   "id": "4188280c-d0e3-4396-8949-0aef1ce539a9",
   "metadata": {
    "tags": []
   },
   "outputs": [
    {
     "name": "stderr",
     "output_type": "stream",
     "text": [
      "\n",
      "Attaching package: ‘dplyr’\n",
      "\n",
      "\n",
      "The following objects are masked from ‘package:stats’:\n",
      "\n",
      "    filter, lag\n",
      "\n",
      "\n",
      "The following objects are masked from ‘package:base’:\n",
      "\n",
      "    intersect, setdiff, setequal, union\n",
      "\n",
      "\n",
      "Warning message:\n",
      "“\u001b[1m\u001b[22mUsing `size` aesthetic for lines was deprecated in ggplot2 3.4.0.\n",
      "\u001b[36mℹ\u001b[39m Please use `linewidth` instead.”\n"
     ]
    },
    {
     "data": {
      "image/png": "[encoded data removed]",
      "text/plain": [
       "plot without title"
      ]
     },
     "metadata": {
      "image/png": {
       "height": 420,
       "width": 420
      }
     },
     "output_type": "display_data"
    }
   ],
   "source": [
    "library(ggplot2)\n",
    "library(dplyr)\n",
    "library(latex2exp)\n",
    "library(aaltobda)\n",
    "\n",
    "# Beta distribution density function\n",
    "beta_density <- function(x, shape1, shape2) {\n",
    "  dbeta(x, shape1, shape2)\n",
    "}\n",
    "\n",
    "# Binomial likelihood density function\n",
    "binomial_likelihood <- function(x, n, k) {\n",
    "  choose(n, k) * x^k * (1 - x)^(n - k)\n",
    "}\n",
    "\n",
    "# Parameters for the Beta prior distributions\n",
    "priors <- list(c(45, 231), c(45.5, 230.5), c(144, 232)) # Define three different priors here priors, (alpha, beta)\n",
    "\n",
    "# Parameters for the binomial likelihood (number of trials and successes)\n",
    "n <- 274 # number of trials\n",
    "k <-  44 # number of successes\n",
    "\n",
    "# Create a sequence of x values from 0 to 1\n",
    "x <- seq(0, 1, length.out = 100)\n",
    "\n",
    "# Create a data frame with densities\n",
    "densities_list <- lapply(priors, function(prior) {\n",
    "  alpha_prior <- prior[1]\n",
    "  beta_prior <- prior[2]\n",
    "  alpha_posterior <- alpha_prior + k\n",
    "  beta_posterior <- beta_prior + n - k\n",
    "  \n",
    "  # Create separate data frames for prior and posterior densities\n",
    "  prior_df <- data.frame(\n",
    "    x = x,\n",
    "    density = beta_density(x, alpha_prior, beta_prior),\n",
    "    distribution = \"Prior\",\n",
    "    prior = paste(\"Alpha =\", alpha_prior, \"Beta =\", beta_prior)\n",
    "  )\n",
    "  \n",
    "  posterior_df <- data.frame(\n",
    "    x = x,\n",
    "    density = beta_density(x, alpha_posterior, beta_posterior),\n",
    "    distribution = \"Posterior\",\n",
    "    prior = paste(\"Alpha =\", alpha_prior, \"Beta =\", beta_prior)\n",
    "  )\n",
    "  \n",
    "  # Combine prior and posterior data frames\n",
    "  rbind(prior_df, posterior_df)\n",
    "})\n",
    "\n",
    "df <- bind_rows(densities_list)\n",
    "\n",
    "# Plot the densities using ggplot2\n",
    "ggplot(df, aes(x = x, y = density, color = distribution)) +\n",
    "  geom_line(size = 1) +\n",
    "  facet_wrap(~ prior, scales = \"fixed\", nrow = 3) +\n",
    "  labs(title = \"Prior and Posterior Densities for Different Priors\", \n",
    "       x = TeX(\"$\\\\theta$\"), \n",
    "       y = \"Density\", \n",
    "       color = \"Distribution\") +\n",
    "  theme_minimal()\n"
   ]
  },
  {
   "cell_type": "code",
   "execution_count": null,
   "id": "c1d820c7-7933-485c-b2e6-d72ab219e999",
   "metadata": {},
   "outputs": [],
   "source": []
  }
 ],
 "metadata": {
  "kernelspec": {
   "display_name": "R",
   "language": "R",
   "name": "ir"
  },
  "language_info": {
   "codemirror_mode": "r",
   "file_extension": ".r",
   "mimetype": "text/x-r-source",
   "name": "R",
   "pygments_lexer": "r",
   "version": "4.4.1"
  }
 },
 "nbformat": 4,
 "nbformat_minor": 5
}

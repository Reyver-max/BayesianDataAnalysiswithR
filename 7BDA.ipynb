{
 "cells": [
  {
   "cell_type": "markdown",
   "id": "2cf5594e-16fd-4e8e-824e-8edef28c6db9",
   "metadata": {},
   "source": [
    "Notebook for Assignment 7"
   ]
  },
  {
   "cell_type": "code",
   "execution_count": 1,
   "id": "2159a159-c37d-438f-93af-7db6d5797b36",
   "metadata": {
    "tags": []
   },
   "outputs": [
    {
     "name": "stderr",
     "output_type": "stream",
     "text": [
      "Loading required package: tidybayes\n",
      "\n",
      "Warning message in library(package, lib.loc = lib.loc, character.only = TRUE, logical.return = TRUE, :\n",
      "“there is no package called ‘tidybayes’”\n",
      "Installing package into ‘/usr/local/lib/R/site-library’\n",
      "(as ‘lib’ is unspecified)\n",
      "\n",
      "also installing the dependencies ‘svUnit’, ‘arrayhelpers’\n",
      "\n",
      "\n"
     ]
    }
   ],
   "source": [
    "if (!require(tidybayes)) {\n",
    "    install.packages(\"tidybayes\")\n",
    "    library(tidybayes)\n",
    "}"
   ]
  },
  {
   "cell_type": "code",
   "execution_count": 2,
   "id": "baa6efe1-b580-48e5-a9a4-a7cd6b834733",
   "metadata": {
    "tags": []
   },
   "outputs": [
    {
     "name": "stderr",
     "output_type": "stream",
     "text": [
      "Loading required package: brms\n",
      "\n",
      "Loading required package: Rcpp\n",
      "\n",
      "Loading 'brms' package (version 2.22.5). Useful instructions\n",
      "can be found by typing help('brms'). A more detailed introduction\n",
      "to the package is available through vignette('brms_overview').\n",
      "\n",
      "\n",
      "Attaching package: ‘brms’\n",
      "\n",
      "\n",
      "The following objects are masked from ‘package:tidybayes’:\n",
      "\n",
      "    dstudent_t, pstudent_t, qstudent_t, rstudent_t\n",
      "\n",
      "\n",
      "The following object is masked from ‘package:stats’:\n",
      "\n",
      "    ar\n",
      "\n",
      "\n"
     ]
    }
   ],
   "source": [
    "if (!require(brms)) {\n",
    "    install.packages(\"brms\")\n",
    "    library(brms)\n",
    "}"
   ]
  },
  {
   "cell_type": "code",
   "execution_count": 3,
   "id": "2c32db20-98d0-40d7-a926-26c205eb6fd6",
   "metadata": {
    "tags": []
   },
   "outputs": [
    {
     "name": "stderr",
     "output_type": "stream",
     "text": [
      "Loading required package: metadat\n",
      "\n",
      "Warning message in library(package, lib.loc = lib.loc, character.only = TRUE, logical.return = TRUE, :\n",
      "“there is no package called ‘metadat’”\n",
      "Installing package into ‘/usr/local/lib/R/site-library’\n",
      "(as ‘lib’ is unspecified)\n",
      "\n",
      "also installing the dependency ‘mathjaxr’\n",
      "\n",
      "\n"
     ]
    }
   ],
   "source": [
    "if (!require(metadat)) {\n",
    "  install.packages(\"metadat\")\n",
    "  library(metadat)\n",
    "}"
   ]
  },
  {
   "cell_type": "code",
   "execution_count": 4,
   "id": "4b4a4c74-6897-4a50-80d7-a87d616d9063",
   "metadata": {
    "tags": []
   },
   "outputs": [],
   "source": [
    "if (!require(metadat)) {\n",
    "  install.packages(\"metadat\")\n",
    "  library(metadat)\n",
    "}"
   ]
  },
  {
   "cell_type": "code",
   "execution_count": 5,
   "id": "198a35d2-1bd5-4a85-9317-c613dcda9d38",
   "metadata": {
    "tags": []
   },
   "outputs": [
    {
     "name": "stderr",
     "output_type": "stream",
     "text": [
      "Loading required package: cmdstanr\n",
      "\n",
      "CmdStan path set to: /coursedata/cmdstan/cmdstan-2.35.0\n",
      "\n",
      "This is cmdstanr version 0.8.0\n",
      "\n",
      "- CmdStanR documentation and vignettes: mc-stan.org/cmdstanr\n",
      "\n",
      "- CmdStan path: /coursedata/cmdstan/cmdstan-2.35.0\n",
      "\n",
      "- CmdStan version: 2.35.0\n",
      "\n"
     ]
    }
   ],
   "source": [
    "if(!require(cmdstanr)){\n",
    "    install.packages(\"cmdstanr\", repos = c(\"https://mc-stan.org/r-packages/\", getOption(\"repos\")))\n",
    "    library(cmdstanr)\n",
    "}"
   ]
  },
  {
   "cell_type": "code",
   "execution_count": 6,
   "id": "cb9ed7ed-85bf-4bbf-83e4-d26ca909aedc",
   "metadata": {
    "tags": []
   },
   "outputs": [],
   "source": [
    "cmdstan_installed <- function(){\n",
    "  res <- try(out <- cmdstanr::cmdstan_path(), silent = TRUE)\n",
    "  !inherits(res, \"try-error\")\n",
    "}\n",
    "if(!cmdstan_installed()){\n",
    "    install_cmdstan()\n",
    "}"
   ]
  },
  {
   "cell_type": "code",
   "execution_count": 7,
   "id": "3f67003a-4b14-4c38-9f12-5130ff0d6d7e",
   "metadata": {
    "tags": []
   },
   "outputs": [],
   "source": [
    "hierarchical_sim <- function(group_pop_mean,\n",
    "                             between_group_sd,\n",
    "                             within_group_sd,\n",
    "                             n_groups,\n",
    "                             n_obs_per_group\n",
    "                             ) {\n",
    "  # Generate group means\n",
    "  group_means <- rnorm(\n",
    "    n = n_groups,\n",
    "    mean = group_pop_mean,\n",
    "    sd = between_group_sd\n",
    "  )\n",
    "\n",
    "  # Generate observations\n",
    "\n",
    "  ## Create an empty vector for observations\n",
    "  y <- numeric()\n",
    "  ## Create a vector for the group identifier\n",
    "  group <- rep(1:n_groups, each = n_obs_per_group)\n",
    "  \n",
    "  for (j in 1:n_groups) {\n",
    "    ### Generate one group observations\n",
    "    group_y <- rnorm(\n",
    "      n = n_obs_per_group,\n",
    "      mean = group_means[j],\n",
    "      sd = within_group_sd\n",
    "    )\n",
    "    ### Append the group observations to the vector\n",
    "    y <- c(y, group_y)\n",
    "  }\n",
    "\n",
    "  # Combine into a data frame\n",
    "  data <- data.frame(\n",
    "    group = factor(group),\n",
    "    y = y\n",
    "  )\n",
    "\n",
    "  # Plot the data\n",
    "  ggplot(data, aes(x = y, y = group)) +\n",
    "    geom_point() +\n",
    "    geom_vline(xintercept = group_pop_mean, linetype = \"dashed\")\n",
    "}"
   ]
  },
  {
   "cell_type": "code",
   "execution_count": 8,
   "id": "0f6601d6-9de7-4702-8983-fc1cbf30e117",
   "metadata": {
    "tags": []
   },
   "outputs": [
    {
     "name": "stderr",
     "output_type": "stream",
     "text": [
      "Loading required package: ggplot2\n",
      "\n"
     ]
    }
   ],
   "source": [
    "if(!require(ggplot2)){\n",
    "    install.packages(\"ggplot2\")\n",
    "    library(ggplot2)\n",
    "}"
   ]
  },
  {
   "cell_type": "code",
   "execution_count": 9,
   "id": "af4acc66-f6a6-4cb0-9dee-5f3cc5e739a9",
   "metadata": {
    "tags": []
   },
   "outputs": [
    {
     "data": {
      "image/png": "[encoded data removed]",
      "text/plain": [
       "plot without title"
      ]
     },
     "metadata": {
      "image/png": {
       "height": 420,
       "width": 420
      }
     },
     "output_type": "display_data"
    }
   ],
   "source": [
    "hierarchical_sim(\n",
    "  group_pop_mean = 0,\n",
    "  between_group_sd = 10,\n",
    "  within_group_sd = 1,\n",
    "  n_groups = 8,\n",
    "  n_obs_per_group = 5\n",
    "  )"
   ]
  },
  {
   "cell_type": "markdown",
   "id": "90cea324-86cf-466f-9fd7-2b673c306606",
   "metadata": {},
   "source": [
    "3 Sleep deprivation"
   ]
  },
  {
   "cell_type": "code",
   "execution_count": 10,
   "id": "f1ef2c1e-85d8-4983-95bd-fff58fbbe0c9",
   "metadata": {
    "tags": []
   },
   "outputs": [],
   "source": [
    "# Load library and data\n",
    "library(brms)\n",
    "data(sleepstudy, package = \"lme4\")"
   ]
  },
  {
   "cell_type": "code",
   "execution_count": 11,
   "id": "54c9fb78-7da3-4ba1-96d8-8b6f3cd505b1",
   "metadata": {
    "tags": []
   },
   "outputs": [],
   "source": [
    "#Define the formula with the varying intercept per subject\n",
    "\n",
    "sleepstudy_hierarchical_formula <- bf(\n",
    "  Reaction ~ 1 + Days +(1 | Subject),\n",
    "  family = \"gaussian\",\n",
    "  center = FALSE\n",
    ")"
   ]
  },
  {
   "cell_type": "code",
   "execution_count": 12,
   "id": "346f5a92-dd2e-4a00-b684-3658e5516d73",
   "metadata": {
    "tags": []
   },
   "outputs": [
    {
     "name": "stdout",
     "output_type": "stream",
     "text": [
      "Reaction ~ 1 + Days + (1 | Subject) \n"
     ]
    }
   ],
   "source": [
    "# Confirm the formula has been created\n",
    "print(sleepstudy_hierarchical_formula)"
   ]
  },
  {
   "cell_type": "code",
   "execution_count": 13,
   "id": "6cd3f99b-38af-44e9-b82c-c9c2d96f92e9",
   "metadata": {
    "tags": []
   },
   "outputs": [
    {
     "data": {
      "text/html": [
       "<table class=\"dataframe\">\n",
       "<caption>A brmsprior: 7 × 10</caption>\n",
       "<thead>\n",
       "\t<tr><th scope=col>prior</th><th scope=col>class</th><th scope=col>coef</th><th scope=col>group</th><th scope=col>resp</th><th scope=col>dpar</th><th scope=col>nlpar</th><th scope=col>lb</th><th scope=col>ub</th><th scope=col>source</th></tr>\n",
       "\t<tr><th scope=col>&lt;chr&gt;</th><th scope=col>&lt;chr&gt;</th><th scope=col>&lt;chr&gt;</th><th scope=col>&lt;chr&gt;</th><th scope=col>&lt;chr&gt;</th><th scope=col>&lt;chr&gt;</th><th scope=col>&lt;chr&gt;</th><th scope=col>&lt;chr&gt;</th><th scope=col>&lt;chr&gt;</th><th scope=col>&lt;chr&gt;</th></tr>\n",
       "</thead>\n",
       "<tbody>\n",
       "\t<tr><td>                     </td><td>b    </td><td>         </td><td>       </td><td></td><td></td><td></td><td> </td><td></td><td>default</td></tr>\n",
       "\t<tr><td>                     </td><td>b    </td><td>Days     </td><td>       </td><td></td><td></td><td></td><td> </td><td></td><td>default</td></tr>\n",
       "\t<tr><td>                     </td><td>b    </td><td>Intercept</td><td>       </td><td></td><td></td><td></td><td> </td><td></td><td>default</td></tr>\n",
       "\t<tr><td>student_t(3, 0, 59.3)</td><td>sd   </td><td>         </td><td>       </td><td></td><td></td><td></td><td>0</td><td></td><td>default</td></tr>\n",
       "\t<tr><td>                     </td><td>sd   </td><td>         </td><td>Subject</td><td></td><td></td><td></td><td> </td><td></td><td>default</td></tr>\n",
       "\t<tr><td>                     </td><td>sd   </td><td>Intercept</td><td>Subject</td><td></td><td></td><td></td><td> </td><td></td><td>default</td></tr>\n",
       "\t<tr><td>student_t(3, 0, 59.3)</td><td>sigma</td><td>         </td><td>       </td><td></td><td></td><td></td><td>0</td><td></td><td>default</td></tr>\n",
       "</tbody>\n",
       "</table>\n"
      ],
      "text/latex": [
       "A brmsprior: 7 × 10\n",
       "\\begin{tabular}{llllllllll}\n",
       " prior & class & coef & group & resp & dpar & nlpar & lb & ub & source\\\\\n",
       " <chr> & <chr> & <chr> & <chr> & <chr> & <chr> & <chr> & <chr> & <chr> & <chr>\\\\\n",
       "\\hline\n",
       "\t                       & b     &           &         &  &  &  &   &  & default\\\\\n",
       "\t                       & b     & Days      &         &  &  &  &   &  & default\\\\\n",
       "\t                       & b     & Intercept &         &  &  &  &   &  & default\\\\\n",
       "\t student\\_t(3, 0, 59.3) & sd    &           &         &  &  &  & 0 &  & default\\\\\n",
       "\t                       & sd    &           & Subject &  &  &  &   &  & default\\\\\n",
       "\t                       & sd    & Intercept & Subject &  &  &  &   &  & default\\\\\n",
       "\t student\\_t(3, 0, 59.3) & sigma &           &         &  &  &  & 0 &  & default\\\\\n",
       "\\end{tabular}\n"
      ],
      "text/markdown": [
       "\n",
       "A brmsprior: 7 × 10\n",
       "\n",
       "| prior &lt;chr&gt; | class &lt;chr&gt; | coef &lt;chr&gt; | group &lt;chr&gt; | resp &lt;chr&gt; | dpar &lt;chr&gt; | nlpar &lt;chr&gt; | lb &lt;chr&gt; | ub &lt;chr&gt; | source &lt;chr&gt; |\n",
       "|---|---|---|---|---|---|---|---|---|---|\n",
       "| <!----> | b     | <!----> | <!----> | <!----> | <!----> | <!----> | <!----> | <!----> | default |\n",
       "| <!----> | b     | Days      | <!----> | <!----> | <!----> | <!----> | <!----> | <!----> | default |\n",
       "| <!----> | b     | Intercept | <!----> | <!----> | <!----> | <!----> | <!----> | <!----> | default |\n",
       "| student_t(3, 0, 59.3) | sd    | <!----> | <!----> | <!----> | <!----> | <!----> | 0 | <!----> | default |\n",
       "| <!----> | sd    | <!----> | Subject | <!----> | <!----> | <!----> | <!----> | <!----> | default |\n",
       "| <!----> | sd    | Intercept | Subject | <!----> | <!----> | <!----> | <!----> | <!----> | default |\n",
       "| student_t(3, 0, 59.3) | sigma | <!----> | <!----> | <!----> | <!----> | <!----> | 0 | <!----> | default |\n",
       "\n"
      ],
      "text/plain": [
       "  prior                 class coef      group   resp dpar nlpar lb ub source \n",
       "1                       b                                             default\n",
       "2                       b     Days                                    default\n",
       "3                       b     Intercept                               default\n",
       "4 student_t(3, 0, 59.3) sd                                      0     default\n",
       "5                       sd              Subject                       default\n",
       "6                       sd    Intercept Subject                       default\n",
       "7 student_t(3, 0, 59.3) sigma                                   0     default"
      ]
     },
     "metadata": {},
     "output_type": "display_data"
    }
   ],
   "source": [
    "# Generate default priors to see parameter names\n",
    "default_prior(sleepstudy_hierarchical_formula, data = sleepstudy)"
   ]
  },
  {
   "cell_type": "code",
   "execution_count": 14,
   "id": "dcea9931-33c2-47af-8553-eefc93b862e1",
   "metadata": {
    "tags": []
   },
   "outputs": [],
   "source": [
    "#Define the priors \n",
    "\n",
    "# Define the priors based on the specification provided\n",
    "sleepstudy_hierarchical_priors <- c(\n",
    "  prior(normal(250, 100), class = \"b\", coef =\"Intercept\"),  # population-level intercept\n",
    "  prior(normal(0, 20), class = \"b\", coef = \"Days\"),  # effect of Days\n",
    "  prior(normal(0, 100), class = \"sd\", group = \"Subject\"),  # varying intercept per subject\n",
    "  prior(normal(0, 100), class = \"sigma\")  # residual standard deviation\n",
    ")\n"
   ]
  },
  {
   "cell_type": "code",
   "execution_count": 15,
   "id": "d88db164-e320-41cc-bb3a-92b23a20a02b",
   "metadata": {
    "tags": []
   },
   "outputs": [
    {
     "name": "stdout",
     "output_type": "stream",
     "text": [
      "            prior class      coef   group resp dpar nlpar   lb   ub source\n",
      " normal(250, 100)     b Intercept                         <NA> <NA>   user\n",
      "    normal(0, 20)     b      Days                         <NA> <NA>   user\n",
      "   normal(0, 100)    sd           Subject                 <NA> <NA>   user\n",
      "   normal(0, 100) sigma                                   <NA> <NA>   user\n"
     ]
    }
   ],
   "source": [
    "# Confirm the priors have been created\n",
    "print(sleepstudy_hierarchical_priors)"
   ]
  },
  {
   "cell_type": "code",
   "execution_count": 16,
   "id": "f50a314d-6245-4142-aeb2-39b78f14dd8f",
   "metadata": {
    "tags": []
   },
   "outputs": [
    {
     "name": "stderr",
     "output_type": "stream",
     "text": [
      "Compiling Stan program...\n",
      "\n",
      "Start sampling\n",
      "\n"
     ]
    }
   ],
   "source": [
    "sleepstudy_hierarchical_model <- brm(\n",
    "  formula = sleepstudy_hierarchical_formula,\n",
    "  data = sleepstudy,\n",
    "  prior = sleepstudy_hierarchical_priors,\n",
    "  chains = 4,\n",
    "  cores = 4,\n",
    "  iter = 2000,\n",
    "  seed = 123\n",
    ")"
   ]
  },
  {
   "cell_type": "code",
   "execution_count": 17,
   "id": "3c44b38a-607a-45c6-8e69-3a490323a79f",
   "metadata": {
    "tags": []
   },
   "outputs": [
    {
     "data": {
      "text/plain": [
       " Family: gaussian \n",
       "  Links: mu = identity; sigma = identity \n",
       "Formula: Reaction ~ 1 + Days + (1 | Subject) \n",
       "   Data: sleepstudy (Number of observations: 180) \n",
       "  Draws: 4 chains, each with iter = 2000; warmup = 1000; thin = 1;\n",
       "         total post-warmup draws = 4000\n",
       "\n",
       "Multilevel Hyperparameters:\n",
       "~Subject (Number of levels: 18) \n",
       "              Estimate Est.Error l-95% CI u-95% CI Rhat Bulk_ESS Tail_ESS\n",
       "sd(Intercept)    39.50      7.53    27.53    57.69 1.01      697     1245\n",
       "\n",
       "Regression Coefficients:\n",
       "          Estimate Est.Error l-95% CI u-95% CI Rhat Bulk_ESS Tail_ESS\n",
       "Intercept   251.71     10.68   230.80   273.20 1.01      469      845\n",
       "Days         10.46      0.80     8.89    12.03 1.00     3587     2637\n",
       "\n",
       "Further Distributional Parameters:\n",
       "      Estimate Est.Error l-95% CI u-95% CI Rhat Bulk_ESS Tail_ESS\n",
       "sigma    31.23      1.74    28.01    34.81 1.00     3374     3065\n",
       "\n",
       "Draws were sampled using sampling(NUTS). For each parameter, Bulk_ESS\n",
       "and Tail_ESS are effective sample size measures, and Rhat is the potential\n",
       "scale reduction factor on split chains (at convergence, Rhat = 1)."
      ]
     },
     "metadata": {},
     "output_type": "display_data"
    }
   ],
   "source": [
    "# Summarize the model to view estimates\n",
    "summary(sleepstudy_hierarchical_model)"
   ]
  },
  {
   "cell_type": "code",
   "execution_count": 18,
   "id": "208d33d2-f709-411e-b1a6-4ba2519be1a0",
   "metadata": {
    "tags": []
   },
   "outputs": [
    {
     "data": {
      "text/html": [
       "251.705557868506"
      ],
      "text/latex": [
       "251.705557868506"
      ],
      "text/markdown": [
       "251.705557868506"
      ],
      "text/plain": [
       "[1] 251.7056"
      ]
     },
     "metadata": {},
     "output_type": "display_data"
    }
   ],
   "source": [
    "# Extract the posterior summary for only the population-level intercept\n",
    "posterior_summary <- posterior_summary(sleepstudy_hierarchical_model)\n",
    "population_level_intercept <- posterior_summary[\"b_Intercept\", \"Estimate\"]\n",
    "\n",
    "population_level_intercept"
   ]
  },
  {
   "cell_type": "code",
   "execution_count": 19,
   "id": "b2b0e3b6-e223-45c0-be8f-97d2f0f897a8",
   "metadata": {
    "tags": []
   },
   "outputs": [
    {
     "data": {
      "text/html": [
       "10.4605399449796"
      ],
      "text/latex": [
       "10.4605399449796"
      ],
      "text/markdown": [
       "10.4605399449796"
      ],
      "text/plain": [
       "[1] 10.46054"
      ]
     },
     "metadata": {},
     "output_type": "display_data"
    }
   ],
   "source": [
    "posterior_summary <- posterior_summary(sleepstudy_hierarchical_model)\n",
    "population_level_effect_days <- posterior_summary[\"b_Days\", \"Estimate\"]\n",
    "\n",
    "population_level_effect_days\n"
   ]
  },
  {
   "cell_type": "code",
   "execution_count": 52,
   "id": "3201c9a7-aacb-40cc-b0b3-5c28f31599f8",
   "metadata": {
    "tags": []
   },
   "outputs": [
    {
     "data": {
      "text/html": [
       "<table class=\"dataframe\">\n",
       "<caption>A brmsprior: 3 × 10</caption>\n",
       "<thead>\n",
       "\t<tr><th scope=col>prior</th><th scope=col>class</th><th scope=col>coef</th><th scope=col>group</th><th scope=col>resp</th><th scope=col>dpar</th><th scope=col>nlpar</th><th scope=col>lb</th><th scope=col>ub</th><th scope=col>source</th></tr>\n",
       "\t<tr><th scope=col>&lt;chr&gt;</th><th scope=col>&lt;chr&gt;</th><th scope=col>&lt;chr&gt;</th><th scope=col>&lt;chr&gt;</th><th scope=col>&lt;chr&gt;</th><th scope=col>&lt;chr&gt;</th><th scope=col>&lt;chr&gt;</th><th scope=col>&lt;chr&gt;</th><th scope=col>&lt;chr&gt;</th><th scope=col>&lt;chr&gt;</th></tr>\n",
       "</thead>\n",
       "<tbody>\n",
       "\t<tr><td>normal(250, 100)</td><td>b    </td><td>Intercept</td><td></td><td></td><td></td><td></td><td>NA</td><td>NA</td><td>user</td></tr>\n",
       "\t<tr><td>normal(0, 20)   </td><td>b    </td><td>Days     </td><td></td><td></td><td></td><td></td><td>NA</td><td>NA</td><td>user</td></tr>\n",
       "\t<tr><td>normal(0, 100)  </td><td>sigma</td><td>         </td><td></td><td></td><td></td><td></td><td>NA</td><td>NA</td><td>user</td></tr>\n",
       "</tbody>\n",
       "</table>\n"
      ],
      "text/latex": [
       "A brmsprior: 3 × 10\n",
       "\\begin{tabular}{llllllllll}\n",
       " prior & class & coef & group & resp & dpar & nlpar & lb & ub & source\\\\\n",
       " <chr> & <chr> & <chr> & <chr> & <chr> & <chr> & <chr> & <chr> & <chr> & <chr>\\\\\n",
       "\\hline\n",
       "\t normal(250, 100) & b     & Intercept &  &  &  &  & NA & NA & user\\\\\n",
       "\t normal(0, 20)    & b     & Days      &  &  &  &  & NA & NA & user\\\\\n",
       "\t normal(0, 100)   & sigma &           &  &  &  &  & NA & NA & user\\\\\n",
       "\\end{tabular}\n"
      ],
      "text/markdown": [
       "\n",
       "A brmsprior: 3 × 10\n",
       "\n",
       "| prior &lt;chr&gt; | class &lt;chr&gt; | coef &lt;chr&gt; | group &lt;chr&gt; | resp &lt;chr&gt; | dpar &lt;chr&gt; | nlpar &lt;chr&gt; | lb &lt;chr&gt; | ub &lt;chr&gt; | source &lt;chr&gt; |\n",
       "|---|---|---|---|---|---|---|---|---|---|\n",
       "| normal(250, 100) | b     | Intercept | <!----> | <!----> | <!----> | <!----> | NA | NA | user |\n",
       "| normal(0, 20)    | b     | Days      | <!----> | <!----> | <!----> | <!----> | NA | NA | user |\n",
       "| normal(0, 100)   | sigma | <!----> | <!----> | <!----> | <!----> | <!----> | NA | NA | user |\n",
       "\n"
      ],
      "text/plain": [
       "  prior            class coef      group resp dpar nlpar lb ub source\n",
       "1 normal(250, 100) b     Intercept                       NA NA user  \n",
       "2 normal(0, 20)    b     Days                            NA NA user  \n",
       "3 normal(0, 100)   sigma                                 NA NA user  "
      ]
     },
     "metadata": {},
     "output_type": "display_data"
    },
    {
     "name": "stderr",
     "output_type": "stream",
     "text": [
      "Compiling Stan program...\n",
      "\n",
      "Start sampling\n",
      "\n"
     ]
    },
    {
     "name": "stdout",
     "output_type": "stream",
     "text": [
      "\n",
      "SAMPLING FOR MODEL 'anon_model' NOW (CHAIN 1).\n",
      "Chain 1: \n",
      "Chain 1: Gradient evaluation took 2.2e-05 seconds\n",
      "Chain 1: 1000 transitions using 10 leapfrog steps per transition would take 0.22 seconds.\n",
      "Chain 1: Adjust your expectations accordingly!\n",
      "Chain 1: \n",
      "Chain 1: \n",
      "Chain 1: Iteration:    1 / 2000 [  0%]  (Warmup)\n",
      "Chain 1: Iteration:  200 / 2000 [ 10%]  (Warmup)\n",
      "Chain 1: Iteration:  400 / 2000 [ 20%]  (Warmup)\n",
      "Chain 1: Iteration:  600 / 2000 [ 30%]  (Warmup)\n",
      "Chain 1: Iteration:  800 / 2000 [ 40%]  (Warmup)\n",
      "Chain 1: Iteration: 1000 / 2000 [ 50%]  (Warmup)\n",
      "Chain 1: Iteration: 1001 / 2000 [ 50%]  (Sampling)\n",
      "Chain 1: Iteration: 1200 / 2000 [ 60%]  (Sampling)\n",
      "Chain 1: Iteration: 1400 / 2000 [ 70%]  (Sampling)\n",
      "Chain 1: Iteration: 1600 / 2000 [ 80%]  (Sampling)\n",
      "Chain 1: Iteration: 1800 / 2000 [ 90%]  (Sampling)\n",
      "Chain 1: Iteration: 2000 / 2000 [100%]  (Sampling)\n",
      "Chain 1: \n",
      "Chain 1:  Elapsed Time: 0.091 seconds (Warm-up)\n",
      "Chain 1:                0.06 seconds (Sampling)\n",
      "Chain 1:                0.151 seconds (Total)\n",
      "Chain 1: \n",
      "\n",
      "SAMPLING FOR MODEL 'anon_model' NOW (CHAIN 2).\n",
      "Chain 2: \n",
      "Chain 2: Gradient evaluation took 5e-06 seconds\n",
      "Chain 2: 1000 transitions using 10 leapfrog steps per transition would take 0.05 seconds.\n",
      "Chain 2: Adjust your expectations accordingly!\n",
      "Chain 2: \n",
      "Chain 2: \n",
      "Chain 2: Iteration:    1 / 2000 [  0%]  (Warmup)\n",
      "Chain 2: Iteration:  200 / 2000 [ 10%]  (Warmup)\n",
      "Chain 2: Iteration:  400 / 2000 [ 20%]  (Warmup)\n",
      "Chain 2: Iteration:  600 / 2000 [ 30%]  (Warmup)\n",
      "Chain 2: Iteration:  800 / 2000 [ 40%]  (Warmup)\n",
      "Chain 2: Iteration: 1000 / 2000 [ 50%]  (Warmup)\n",
      "Chain 2: Iteration: 1001 / 2000 [ 50%]  (Sampling)\n",
      "Chain 2: Iteration: 1200 / 2000 [ 60%]  (Sampling)\n",
      "Chain 2: Iteration: 1400 / 2000 [ 70%]  (Sampling)\n",
      "Chain 2: Iteration: 1600 / 2000 [ 80%]  (Sampling)\n",
      "Chain 2: Iteration: 1800 / 2000 [ 90%]  (Sampling)\n",
      "Chain 2: Iteration: 2000 / 2000 [100%]  (Sampling)\n",
      "Chain 2: \n",
      "Chain 2:  Elapsed Time: 0.09 seconds (Warm-up)\n",
      "Chain 2:                0.059 seconds (Sampling)\n",
      "Chain 2:                0.149 seconds (Total)\n",
      "Chain 2: \n",
      "\n",
      "SAMPLING FOR MODEL 'anon_model' NOW (CHAIN 3).\n",
      "Chain 3: \n",
      "Chain 3: Gradient evaluation took 7e-06 seconds\n",
      "Chain 3: 1000 transitions using 10 leapfrog steps per transition would take 0.07 seconds.\n",
      "Chain 3: Adjust your expectations accordingly!\n",
      "Chain 3: \n",
      "Chain 3: \n",
      "Chain 3: Iteration:    1 / 2000 [  0%]  (Warmup)\n",
      "Chain 3: Iteration:  200 / 2000 [ 10%]  (Warmup)\n",
      "Chain 3: Iteration:  400 / 2000 [ 20%]  (Warmup)\n",
      "Chain 3: Iteration:  600 / 2000 [ 30%]  (Warmup)\n",
      "Chain 3: Iteration:  800 / 2000 [ 40%]  (Warmup)\n",
      "Chain 3: Iteration: 1000 / 2000 [ 50%]  (Warmup)\n",
      "Chain 3: Iteration: 1001 / 2000 [ 50%]  (Sampling)\n",
      "Chain 3: Iteration: 1200 / 2000 [ 60%]  (Sampling)\n",
      "Chain 3: Iteration: 1400 / 2000 [ 70%]  (Sampling)\n",
      "Chain 3: Iteration: 1600 / 2000 [ 80%]  (Sampling)\n",
      "Chain 3: Iteration: 1800 / 2000 [ 90%]  (Sampling)\n",
      "Chain 3: Iteration: 2000 / 2000 [100%]  (Sampling)\n",
      "Chain 3: \n",
      "Chain 3:  Elapsed Time: 0.084 seconds (Warm-up)\n",
      "Chain 3:                0.056 seconds (Sampling)\n",
      "Chain 3:                0.14 seconds (Total)\n",
      "Chain 3: \n",
      "\n",
      "SAMPLING FOR MODEL 'anon_model' NOW (CHAIN 4).\n",
      "Chain 4: \n",
      "Chain 4: Gradient evaluation took 7e-06 seconds\n",
      "Chain 4: 1000 transitions using 10 leapfrog steps per transition would take 0.07 seconds.\n",
      "Chain 4: Adjust your expectations accordingly!\n",
      "Chain 4: \n",
      "Chain 4: \n",
      "Chain 4: Iteration:    1 / 2000 [  0%]  (Warmup)\n",
      "Chain 4: Iteration:  200 / 2000 [ 10%]  (Warmup)\n",
      "Chain 4: Iteration:  400 / 2000 [ 20%]  (Warmup)\n",
      "Chain 4: Iteration:  600 / 2000 [ 30%]  (Warmup)\n",
      "Chain 4: Iteration:  800 / 2000 [ 40%]  (Warmup)\n",
      "Chain 4: Iteration: 1000 / 2000 [ 50%]  (Warmup)\n",
      "Chain 4: Iteration: 1001 / 2000 [ 50%]  (Sampling)\n",
      "Chain 4: Iteration: 1200 / 2000 [ 60%]  (Sampling)\n",
      "Chain 4: Iteration: 1400 / 2000 [ 70%]  (Sampling)\n",
      "Chain 4: Iteration: 1600 / 2000 [ 80%]  (Sampling)\n",
      "Chain 4: Iteration: 1800 / 2000 [ 90%]  (Sampling)\n",
      "Chain 4: Iteration: 2000 / 2000 [100%]  (Sampling)\n",
      "Chain 4: \n",
      "Chain 4:  Elapsed Time: 0.085 seconds (Warm-up)\n",
      "Chain 4:                0.058 seconds (Sampling)\n",
      "Chain 4:                0.143 seconds (Total)\n",
      "Chain 4: \n"
     ]
    }
   ],
   "source": [
    "sleepstudy_pooled_formula <- bf(\n",
    "  Reaction ~ 1 + Days,\n",
    "  family = \"gaussian\",\n",
    "  center = FALSE\n",
    ")\n",
    "\n",
    "#specify the priors:\n",
    "(sleepstudy_pooled_priors <- c(\n",
    "  prior(\n",
    "    normal(250, 100),\n",
    "    class = \"b\",\n",
    "    coef = \"Intercept\"\n",
    "  ),\n",
    "  prior(\n",
    "    normal(0, 20),\n",
    "    class = \"b\",\n",
    "    coef = \"Days\"\n",
    "  ),\n",
    "  prior(\n",
    "    normal(0, 100),\n",
    "    class = \"sigma\"\n",
    "  )\n",
    "))\n",
    "\n",
    "#fit the model\n",
    "sleepstudy_pooled_fit <- brm(\n",
    "  formula = sleepstudy_pooled_formula,\n",
    "  prior = sleepstudy_pooled_priors,\n",
    "  data = sleepstudy\n",
    ")\n",
    "\n"
   ]
  },
  {
   "cell_type": "code",
   "execution_count": 53,
   "id": "20233d9a-c36d-4964-903b-706d21c3a76d",
   "metadata": {
    "tags": []
   },
   "outputs": [
    {
     "data": {
      "text/plain": [
       "\n",
       "Computed from 4000 by 180 log-likelihood matrix.\n",
       "\n",
       "         Estimate   SE\n",
       "elpd_loo   -953.4 10.5\n",
       "p_loo         3.3  0.5\n",
       "looic      1906.7 20.9\n",
       "------\n",
       "MCSE of elpd_loo is 0.0.\n",
       "MCSE and ESS estimates assume MCMC draws (r_eff in [0.3, 1.2]).\n",
       "\n",
       "All Pareto k estimates are good (k < 0.7).\n",
       "See help('pareto-k-diagnostic') for details."
      ]
     },
     "metadata": {},
     "output_type": "display_data"
    }
   ],
   "source": [
    "#LOO with CV\n",
    "sleepstudy_pooled_fit <- add_criterion(\n",
    "  sleepstudy_pooled_fit,\n",
    "  criterion = \"loo\"\n",
    ")\n",
    "\n",
    "loo(sleepstudy_pooled_fit)"
   ]
  },
  {
   "cell_type": "code",
   "execution_count": 56,
   "id": "43048626-f340-4922-aa5f-2c28625b7662",
   "metadata": {
    "tags": []
   },
   "outputs": [
    {
     "name": "stderr",
     "output_type": "stream",
     "text": [
      "Using 10 posterior draws for ppc type 'dens_overlay' by default.\n",
      "\n"
     ]
    },
    {
     "data": {
      "image/png": "[encoded data removed]",
      "text/plain": [
       "plot without title"
      ]
     },
     "metadata": {
      "image/png": {
       "height": 420,
       "width": 420
      }
     },
     "output_type": "display_data"
    }
   ],
   "source": [
    "pp_check(sleepstudy_pooled_fit)"
   ]
  },
  {
   "cell_type": "code",
   "execution_count": 57,
   "id": "35ef5443-f929-42e5-9ee7-e1e4bae50090",
   "metadata": {
    "tags": []
   },
   "outputs": [
    {
     "ename": "ERROR",
     "evalue": "Error: Variable 'Subject' could not be found in the data.\n",
     "output_type": "error",
     "traceback": [
      "Error: Variable 'Subject' could not be found in the data.\nTraceback:\n",
      "1. pp_check.brmsfit(sleepstudy_pooled_fit, type = \"intervals_grouped\", \n .     x = \"Days\", group = \"Subject\")",
      "2. stop2(\"Variable '\", group, \"' could not be found in the data.\")",
      "3. stop(..., call. = FALSE)",
      "4. .handleSimpleError(function (cnd) \n . {\n .     watcher$capture_plot_and_output()\n .     cnd <- sanitize_call(cnd)\n .     watcher$push(cnd)\n .     switch(on_error, continue = invokeRestart(\"eval_continue\"), \n .         stop = invokeRestart(\"eval_stop\"), error = invokeRestart(\"eval_error\", \n .             cnd))\n . }, \"Variable 'Subject' could not be found in the data.\", base::quote(NULL))"
     ]
    }
   ],
   "source": []
  },
  {
   "cell_type": "code",
   "execution_count": null,
   "id": "668d60ec-e01f-4dd9-a0fd-bb383e4d6d2b",
   "metadata": {},
   "outputs": [],
   "source": []
  },
  {
   "cell_type": "code",
   "execution_count": 62,
   "id": "a45e2eee-905b-4363-9b46-0780437a29c4",
   "metadata": {
    "tags": []
   },
   "outputs": [
    {
     "name": "stderr",
     "output_type": "stream",
     "text": [
      "This is loo version 2.8.0.9000\n",
      "\n",
      "- Online documentation and vignettes at mc-stan.org/loo\n",
      "\n",
      "- As of v2.0.0 loo defaults to 1 core but we recommend using as many as possible. Use the 'cores' argument or set options(mc.cores = NUM_CORES) for an entire session. \n",
      "\n",
      "Warning message:\n",
      "“Found 3 observations with a pareto_k > 0.7 in model 'sleepstudy_model'. We recommend to set 'moment_match = TRUE' in order to perform moment matching for problematic observations. ”\n"
     ]
    },
    {
     "data": {
      "text/html": [
       "<table class=\"dataframe\">\n",
       "<caption>A compare.loo: 2 × 8 of type dbl</caption>\n",
       "<thead>\n",
       "\t<tr><th></th><th scope=col>elpd_diff</th><th scope=col>se_diff</th><th scope=col>elpd_loo</th><th scope=col>se_elpd_loo</th><th scope=col>p_loo</th><th scope=col>se_p_loo</th><th scope=col>looic</th><th scope=col>se_looic</th></tr>\n",
       "</thead>\n",
       "<tbody>\n",
       "\t<tr><th scope=row>sleepstudy_model</th><td>  0.00000</td><td> 0.00000</td><td>-861.3373</td><td>22.63988</td><td>34.414940</td><td>8.6223731</td><td>1722.675</td><td>45.27977</td></tr>\n",
       "\t<tr><th scope=row>sleepstudy_pooled_fit</th><td>-92.03625</td><td>21.23372</td><td>-953.3736</td><td>10.46389</td><td> 3.257801</td><td>0.4959992</td><td>1906.747</td><td>20.92778</td></tr>\n",
       "</tbody>\n",
       "</table>\n"
      ],
      "text/latex": [
       "A compare.loo: 2 × 8 of type dbl\n",
       "\\begin{tabular}{r|llllllll}\n",
       "  & elpd\\_diff & se\\_diff & elpd\\_loo & se\\_elpd\\_loo & p\\_loo & se\\_p\\_loo & looic & se\\_looic\\\\\n",
       "\\hline\n",
       "\tsleepstudy\\_model &   0.00000 &  0.00000 & -861.3373 & 22.63988 & 34.414940 & 8.6223731 & 1722.675 & 45.27977\\\\\n",
       "\tsleepstudy\\_pooled\\_fit & -92.03625 & 21.23372 & -953.3736 & 10.46389 &  3.257801 & 0.4959992 & 1906.747 & 20.92778\\\\\n",
       "\\end{tabular}\n"
      ],
      "text/markdown": [
       "\n",
       "A compare.loo: 2 × 8 of type dbl\n",
       "\n",
       "| <!--/--> | elpd_diff | se_diff | elpd_loo | se_elpd_loo | p_loo | se_p_loo | looic | se_looic |\n",
       "|---|---|---|---|---|---|---|---|---|\n",
       "| sleepstudy_model |   0.00000 |  0.00000 | -861.3373 | 22.63988 | 34.414940 | 8.6223731 | 1722.675 | 45.27977 |\n",
       "| sleepstudy_pooled_fit | -92.03625 | 21.23372 | -953.3736 | 10.46389 |  3.257801 | 0.4959992 | 1906.747 | 20.92778 |\n",
       "\n"
      ],
      "text/plain": [
       "                      elpd_diff se_diff  elpd_loo  se_elpd_loo p_loo    \n",
       "sleepstudy_model        0.00000  0.00000 -861.3373 22.63988    34.414940\n",
       "sleepstudy_pooled_fit -92.03625 21.23372 -953.3736 10.46389     3.257801\n",
       "                      se_p_loo  looic    se_looic\n",
       "sleepstudy_model      8.6223731 1722.675 45.27977\n",
       "sleepstudy_pooled_fit 0.4959992 1906.747 20.92778"
      ]
     },
     "metadata": {},
     "output_type": "display_data"
    }
   ],
   "source": [
    "library(loo)\n",
    "\n",
    "# Calculate LOO-CV for both models\n",
    "loo_sleepstudy <- loo(sleepstudy_model)\n",
    "loo_sleepstudy_pooled <- loo(sleepstudy_pooled_fit)\n",
    "\n",
    "# Compare the models\n",
    "loo_compare(loo_sleepstudy, loo_sleepstudy_pooled)"
   ]
  },
  {
   "cell_type": "markdown",
   "id": "11ee0bcb-b408-46a7-80d1-87822e3a5c74",
   "metadata": {},
   "source": [
    "a model with Subject-specific effects of Days in addition to the other terms."
   ]
  },
  {
   "cell_type": "code",
   "execution_count": 20,
   "id": "ad444667-f1ed-4eba-87b1-16ccf0ca6008",
   "metadata": {
    "tags": []
   },
   "outputs": [],
   "source": [
    "# Define the formula with population-level and subject-specific effects\n",
    "sleepstudy_model_formula <- bf(\n",
    "  Reaction ~ 1 + Days + (1 + Days | Subject),  # Include both intercept and slope for each subject\n",
    "  family = gaussian(),\n",
    "  center = FALSE\n",
    ")\n"
   ]
  },
  {
   "cell_type": "code",
   "execution_count": 21,
   "id": "83ba2a13-e0f5-46f1-ade4-5af16ca06323",
   "metadata": {
    "tags": []
   },
   "outputs": [],
   "source": [
    "# Define the priors\n",
    "sleepstudy_model_priors <- c(\n",
    "  prior(normal(0, 100), class = \"b\", coef=\"Intercept\"),  # Population-level intercept\n",
    "  prior(normal(0, 20), class = \"b\", coef = \"Days\"),  # Population-level effect of Days\n",
    "  prior(normal(0, 100), class = \"sd\", group = \"Subject\", coef = \"Intercept\"),  # Varying intercept\n",
    "  prior(normal(0, 20), class = \"sd\", group = \"Subject\", coef = \"Days\"),  # Varying slope\n",
    "  #prior(normal(0, 100), class = \"tau\", coef = \"alpha\"),  # Prior for τα\n",
    "  #prior(normal(0, 20), class = \"tau\", coef = \"beta\"),  # Prior for τβ\n",
    "  prior(lkj(2), class = \"cor\")  # Correlation matrix prior\n",
    ")"
   ]
  },
  {
   "cell_type": "code",
   "execution_count": 22,
   "id": "4dee781c-87a5-43ec-92d3-b7f0b0d8cf80",
   "metadata": {
    "tags": []
   },
   "outputs": [
    {
     "name": "stderr",
     "output_type": "stream",
     "text": [
      "Compiling Stan program...\n",
      "\n",
      "Start sampling\n",
      "\n"
     ]
    }
   ],
   "source": [
    "# Fit the model\n",
    "sleepstudy_model <- brm(\n",
    "  formula = sleepstudy_model_formula,\n",
    "  data = sleepstudy,\n",
    "  prior = sleepstudy_model_priors,\n",
    "  chains = 4,\n",
    "  cores = 4,\n",
    "  iter = 2000,\n",
    "  seed = 123\n",
    ")\n"
   ]
  },
  {
   "cell_type": "code",
   "execution_count": 23,
   "id": "f44ff069-e119-466a-9f6d-5c67fe86c852",
   "metadata": {
    "tags": []
   },
   "outputs": [
    {
     "data": {
      "text/plain": [
       " Family: gaussian \n",
       "  Links: mu = identity; sigma = identity \n",
       "Formula: Reaction ~ 1 + Days + (1 + Days | Subject) \n",
       "   Data: sleepstudy (Number of observations: 180) \n",
       "  Draws: 4 chains, each with iter = 2000; warmup = 1000; thin = 1;\n",
       "         total post-warmup draws = 4000\n",
       "\n",
       "Multilevel Hyperparameters:\n",
       "~Subject (Number of levels: 18) \n",
       "                    Estimate Est.Error l-95% CI u-95% CI Rhat Bulk_ESS Tail_ESS\n",
       "sd(Intercept)          27.18      6.96    15.70    42.61 1.00     1726     2325\n",
       "sd(Days)                6.49      1.44     4.18     9.73 1.00     1854     2834\n",
       "cor(Intercept,Days)     0.09      0.27    -0.42     0.62 1.00     1362     2335\n",
       "\n",
       "Regression Coefficients:\n",
       "          Estimate Est.Error l-95% CI u-95% CI Rhat Bulk_ESS Tail_ESS\n",
       "Intercept   250.18      7.54   235.13   264.60 1.00     1286     1868\n",
       "Days         10.39      1.69     7.03    13.62 1.00     1933     2676\n",
       "\n",
       "Further Distributional Parameters:\n",
       "      Estimate Est.Error l-95% CI u-95% CI Rhat Bulk_ESS Tail_ESS\n",
       "sigma    25.87      1.59    23.04    29.31 1.00     2926     2852\n",
       "\n",
       "Draws were sampled using sampling(NUTS). For each parameter, Bulk_ESS\n",
       "and Tail_ESS are effective sample size measures, and Rhat is the potential\n",
       "scale reduction factor on split chains (at convergence, Rhat = 1)."
      ]
     },
     "metadata": {},
     "output_type": "display_data"
    }
   ],
   "source": [
    "# Summarize the model to view estimates\n",
    "summary(sleepstudy_model)"
   ]
  },
  {
   "cell_type": "code",
   "execution_count": 59,
   "id": "78507756-7f09-45c2-b472-a4437b22448c",
   "metadata": {
    "tags": []
   },
   "outputs": [
    {
     "name": "stderr",
     "output_type": "stream",
     "text": [
      "Using all posterior draws for ppc type 'intervals_grouped' by default.\n",
      "\n"
     ]
    },
    {
     "data": {
      "image/png": "[encoded data removed]",
      "text/plain": [
       "plot without title"
      ]
     },
     "metadata": {
      "image/png": {
       "height": 420,
       "width": 420
      }
     },
     "output_type": "display_data"
    }
   ],
   "source": [
    "pp_check(sleepstudy_model, type = \"intervals_grouped\", x = \"Days\", group = \"Subject\")"
   ]
  },
  {
   "cell_type": "code",
   "execution_count": 61,
   "id": "0e4dec10-cab9-42b5-8cef-dbf7858b0f7a",
   "metadata": {
    "tags": []
   },
   "outputs": [
    {
     "name": "stderr",
     "output_type": "stream",
     "text": [
      "Warning message:\n",
      "“Found 3 observations with a pareto_k > 0.7 in model 'sleepstudy_model'. We recommend to set 'moment_match = TRUE' in order to perform moment matching for problematic observations. ”\n",
      "Warning message:\n",
      "“Found 3 observations with a pareto_k > 0.7 in model 'sleepstudy_model'. We recommend to set 'moment_match = TRUE' in order to perform moment matching for problematic observations. ”\n"
     ]
    },
    {
     "data": {
      "text/plain": [
       "\n",
       "Computed from 4000 by 180 log-likelihood matrix.\n",
       "\n",
       "         Estimate   SE\n",
       "elpd_loo   -861.3 22.6\n",
       "p_loo        34.4  8.6\n",
       "looic      1722.7 45.3\n",
       "------\n",
       "MCSE of elpd_loo is NA.\n",
       "MCSE and ESS estimates assume MCMC draws (r_eff in [0.5, 1.2]).\n",
       "\n",
       "Pareto k diagnostic values:\n",
       "                         Count Pct.    Min. ESS\n",
       "(-Inf, 0.7]   (good)     177   98.3%   561     \n",
       "   (0.7, 1]   (bad)        2    1.1%   <NA>    \n",
       "   (1, Inf)   (very bad)   1    0.6%   <NA>    \n",
       "See help('pareto-k-diagnostic') for details."
      ]
     },
     "metadata": {},
     "output_type": "display_data"
    }
   ],
   "source": [
    "#LOO with CV\n",
    "sleepstudy_model_fit <- add_criterion(\n",
    "  sleepstudy_model,\n",
    "  criterion = \"loo\"\n",
    ")\n",
    "\n",
    "loo(sleepstudy_model)"
   ]
  },
  {
   "cell_type": "markdown",
   "id": "4915fb51-1f82-4363-a69d-58e1a524d185",
   "metadata": {},
   "source": [
    "7. School calendar dataset"
   ]
  },
  {
   "cell_type": "code",
   "execution_count": 24,
   "id": "815792e0-b678-4d14-9d32-80296e32ab0e",
   "metadata": {
    "tags": []
   },
   "outputs": [],
   "source": [
    "data(dat.konstantopoulos2011, package = \"metadat\")"
   ]
  },
  {
   "cell_type": "code",
   "execution_count": 25,
   "id": "7831f710-34dc-45ea-9fbb-43cd5265835f",
   "metadata": {
    "tags": []
   },
   "outputs": [],
   "source": [
    "schoolcalendar_data <- dat.konstantopoulos2011 |>\n",
    "  dplyr::mutate(\n",
    "    school = factor(school),\n",
    "    district = factor(district),\n",
    "    district_school = interaction(district, school, drop = TRUE, sep = \"_\")\n",
    "  )"
   ]
  },
  {
   "cell_type": "code",
   "execution_count": 26,
   "id": "1df87165-316c-42ed-8aa9-d783f16bcc89",
   "metadata": {
    "tags": []
   },
   "outputs": [
    {
     "name": "stderr",
     "output_type": "stream",
     "text": [
      "Compiling Stan program...\n",
      "\n",
      "Start sampling\n",
      "\n"
     ]
    },
    {
     "name": "stdout",
     "output_type": "stream",
     "text": [
      "\n",
      "SAMPLING FOR MODEL 'anon_model' NOW (CHAIN 1).\n",
      "Chain 1: \n",
      "Chain 1: Gradient evaluation took 1.8e-05 seconds\n",
      "Chain 1: 1000 transitions using 10 leapfrog steps per transition would take 0.18 seconds.\n",
      "Chain 1: Adjust your expectations accordingly!\n",
      "Chain 1: \n",
      "Chain 1: \n",
      "Chain 1: Iteration:    1 / 2000 [  0%]  (Warmup)\n",
      "Chain 1: Iteration:  200 / 2000 [ 10%]  (Warmup)\n",
      "Chain 1: Iteration:  400 / 2000 [ 20%]  (Warmup)\n",
      "Chain 1: Iteration:  600 / 2000 [ 30%]  (Warmup)\n",
      "Chain 1: Iteration:  800 / 2000 [ 40%]  (Warmup)\n",
      "Chain 1: Iteration: 1000 / 2000 [ 50%]  (Warmup)\n",
      "Chain 1: Iteration: 1001 / 2000 [ 50%]  (Sampling)\n",
      "Chain 1: Iteration: 1200 / 2000 [ 60%]  (Sampling)\n",
      "Chain 1: Iteration: 1400 / 2000 [ 70%]  (Sampling)\n",
      "Chain 1: Iteration: 1600 / 2000 [ 80%]  (Sampling)\n",
      "Chain 1: Iteration: 1800 / 2000 [ 90%]  (Sampling)\n",
      "Chain 1: Iteration: 2000 / 2000 [100%]  (Sampling)\n",
      "Chain 1: \n",
      "Chain 1:  Elapsed Time: 0.026 seconds (Warm-up)\n",
      "Chain 1:                0.028 seconds (Sampling)\n",
      "Chain 1:                0.054 seconds (Total)\n",
      "Chain 1: \n",
      "\n",
      "SAMPLING FOR MODEL 'anon_model' NOW (CHAIN 2).\n",
      "Chain 2: \n",
      "Chain 2: Gradient evaluation took 8e-06 seconds\n",
      "Chain 2: 1000 transitions using 10 leapfrog steps per transition would take 0.08 seconds.\n",
      "Chain 2: Adjust your expectations accordingly!\n",
      "Chain 2: \n",
      "Chain 2: \n",
      "Chain 2: Iteration:    1 / 2000 [  0%]  (Warmup)\n",
      "Chain 2: Iteration:  200 / 2000 [ 10%]  (Warmup)\n",
      "Chain 2: Iteration:  400 / 2000 [ 20%]  (Warmup)\n",
      "Chain 2: Iteration:  600 / 2000 [ 30%]  (Warmup)\n",
      "Chain 2: Iteration:  800 / 2000 [ 40%]  (Warmup)\n",
      "Chain 2: Iteration: 1000 / 2000 [ 50%]  (Warmup)\n",
      "Chain 2: Iteration: 1001 / 2000 [ 50%]  (Sampling)\n",
      "Chain 2: Iteration: 1200 / 2000 [ 60%]  (Sampling)\n",
      "Chain 2: Iteration: 1400 / 2000 [ 70%]  (Sampling)\n",
      "Chain 2: Iteration: 1600 / 2000 [ 80%]  (Sampling)\n",
      "Chain 2: Iteration: 1800 / 2000 [ 90%]  (Sampling)\n",
      "Chain 2: Iteration: 2000 / 2000 [100%]  (Sampling)\n",
      "Chain 2: \n",
      "Chain 2:  Elapsed Time: 0.025 seconds (Warm-up)\n",
      "Chain 2:                0.028 seconds (Sampling)\n",
      "Chain 2:                0.053 seconds (Total)\n",
      "Chain 2: \n",
      "\n",
      "SAMPLING FOR MODEL 'anon_model' NOW (CHAIN 3).\n",
      "Chain 3: \n",
      "Chain 3: Gradient evaluation took 8e-06 seconds\n",
      "Chain 3: 1000 transitions using 10 leapfrog steps per transition would take 0.08 seconds.\n",
      "Chain 3: Adjust your expectations accordingly!\n",
      "Chain 3: \n",
      "Chain 3: \n",
      "Chain 3: Iteration:    1 / 2000 [  0%]  (Warmup)\n",
      "Chain 3: Iteration:  200 / 2000 [ 10%]  (Warmup)\n",
      "Chain 3: Iteration:  400 / 2000 [ 20%]  (Warmup)\n",
      "Chain 3: Iteration:  600 / 2000 [ 30%]  (Warmup)\n",
      "Chain 3: Iteration:  800 / 2000 [ 40%]  (Warmup)\n",
      "Chain 3: Iteration: 1000 / 2000 [ 50%]  (Warmup)\n",
      "Chain 3: Iteration: 1001 / 2000 [ 50%]  (Sampling)\n",
      "Chain 3: Iteration: 1200 / 2000 [ 60%]  (Sampling)\n",
      "Chain 3: Iteration: 1400 / 2000 [ 70%]  (Sampling)\n",
      "Chain 3: Iteration: 1600 / 2000 [ 80%]  (Sampling)\n",
      "Chain 3: Iteration: 1800 / 2000 [ 90%]  (Sampling)\n",
      "Chain 3: Iteration: 2000 / 2000 [100%]  (Sampling)\n",
      "Chain 3: \n",
      "Chain 3:  Elapsed Time: 0.025 seconds (Warm-up)\n",
      "Chain 3:                0.028 seconds (Sampling)\n",
      "Chain 3:                0.053 seconds (Total)\n",
      "Chain 3: \n",
      "\n",
      "SAMPLING FOR MODEL 'anon_model' NOW (CHAIN 4).\n",
      "Chain 4: \n",
      "Chain 4: Gradient evaluation took 8e-06 seconds\n",
      "Chain 4: 1000 transitions using 10 leapfrog steps per transition would take 0.08 seconds.\n",
      "Chain 4: Adjust your expectations accordingly!\n",
      "Chain 4: \n",
      "Chain 4: \n",
      "Chain 4: Iteration:    1 / 2000 [  0%]  (Warmup)\n",
      "Chain 4: Iteration:  200 / 2000 [ 10%]  (Warmup)\n",
      "Chain 4: Iteration:  400 / 2000 [ 20%]  (Warmup)\n",
      "Chain 4: Iteration:  600 / 2000 [ 30%]  (Warmup)\n",
      "Chain 4: Iteration:  800 / 2000 [ 40%]  (Warmup)\n",
      "Chain 4: Iteration: 1000 / 2000 [ 50%]  (Warmup)\n",
      "Chain 4: Iteration: 1001 / 2000 [ 50%]  (Sampling)\n",
      "Chain 4: Iteration: 1200 / 2000 [ 60%]  (Sampling)\n",
      "Chain 4: Iteration: 1400 / 2000 [ 70%]  (Sampling)\n",
      "Chain 4: Iteration: 1600 / 2000 [ 80%]  (Sampling)\n",
      "Chain 4: Iteration: 1800 / 2000 [ 90%]  (Sampling)\n",
      "Chain 4: Iteration: 2000 / 2000 [100%]  (Sampling)\n",
      "Chain 4: \n",
      "Chain 4:  Elapsed Time: 0.032 seconds (Warm-up)\n",
      "Chain 4:                0.026 seconds (Sampling)\n",
      "Chain 4:                0.058 seconds (Total)\n",
      "Chain 4: \n"
     ]
    }
   ],
   "source": [
    "schoolcalendar_pooled_formula <- bf(\n",
    "  formula = yi | se(sqrt(vi)) ~ 1,\n",
    "  family = \"gaussian\"\n",
    ")  \n",
    "\n",
    "schoolcalendar_pooled_fit <- brm(\n",
    "  formula = schoolcalendar_pooled_formula,\n",
    "  data = schoolcalendar_data\n",
    ")"
   ]
  },
  {
   "cell_type": "code",
   "execution_count": 27,
   "id": "6be6b3a5-92b5-4a4b-a14b-08f11c491894",
   "metadata": {
    "tags": []
   },
   "outputs": [
    {
     "data": {
      "text/plain": [
       " Family: gaussian \n",
       "  Links: mu = identity; sigma = identity \n",
       "Formula: yi | se(sqrt(vi)) ~ 1 \n",
       "   Data: schoolcalendar_data (Number of observations: 56) \n",
       "  Draws: 4 chains, each with iter = 2000; warmup = 1000; thin = 1;\n",
       "         total post-warmup draws = 4000\n",
       "\n",
       "Regression Coefficients:\n",
       "          Estimate Est.Error l-95% CI u-95% CI Rhat Bulk_ESS Tail_ESS\n",
       "Intercept     0.05      0.01     0.03     0.06 1.00     1587     1812\n",
       "\n",
       "Further Distributional Parameters:\n",
       "      Estimate Est.Error l-95% CI u-95% CI Rhat Bulk_ESS Tail_ESS\n",
       "sigma     0.00      0.00     0.00     0.00   NA       NA       NA\n",
       "\n",
       "Draws were sampled using sampling(NUTS). For each parameter, Bulk_ESS\n",
       "and Tail_ESS are effective sample size measures, and Rhat is the potential\n",
       "scale reduction factor on split chains (at convergence, Rhat = 1)."
      ]
     },
     "metadata": {},
     "output_type": "display_data"
    }
   ],
   "source": [
    "# Summarize the model to view estimates\n",
    "summary(schoolcalendar_pooled_fit)"
   ]
  },
  {
   "cell_type": "code",
   "execution_count": 28,
   "id": "7d36ed7f-ef63-4d81-a952-ad17e520e3b0",
   "metadata": {
    "tags": []
   },
   "outputs": [],
   "source": [
    "new_school <- data.frame(\n",
    "  school = factor(1),\n",
    "  district = factor(1),\n",
    "  district_school = factor(\"1_1\"),\n",
    "  vi = 0 # the expectation of the prediction is not affected by the sampling variance, so this can be any number\n",
    ")\n",
    "  \n",
    "\n",
    "schoolcalendar_post_epred <- posterior_epred(\n",
    "    schoolcalendar_pooled_fit,\n",
    "    newdata = new_school,\n",
    "    allow_new_levels = TRUE\n",
    "  )"
   ]
  },
  {
   "cell_type": "code",
   "execution_count": 29,
   "id": "5f0df568-ca63-4e39-8cb1-c5767b3c439a",
   "metadata": {
    "tags": []
   },
   "outputs": [],
   "source": [
    "plot_school_posteriors <- function(fit, dataset) {\n",
    "  tidybayes::add_predicted_draws(dataset, fit) |>\n",
    "    ggplot(\n",
    "      aes(\n",
    "        x = .prediction,\n",
    "        y = interaction(district, school, sep = \", \", lex.order = TRUE))) +\n",
    "    tidybayes::stat_halfeye() +\n",
    "    ylab(\"District, school\") +\n",
    "    xlab(\"Posterior effect\")\n",
    "}"
   ]
  },
  {
   "cell_type": "code",
   "execution_count": 30,
   "id": "7904cdd9-ef5a-45be-b3c3-e258c703c9ba",
   "metadata": {
    "tags": []
   },
   "outputs": [
    {
     "data": {
      "image/png": "[encoded data removed]",
      "text/plain": [
       "plot without title"
      ]
     },
     "metadata": {
      "image/png": {
       "height": 420,
       "width": 420
      }
     },
     "output_type": "display_data"
    }
   ],
   "source": [
    "plot_school_posteriors(\n",
    "  fit = schoolcalendar_pooled_fit,\n",
    "  dataset = schoolcalendar_data\n",
    ")"
   ]
  },
  {
   "cell_type": "code",
   "execution_count": 31,
   "id": "7823e0a6-45a8-4ae1-badf-210647b8ed04",
   "metadata": {
    "tags": []
   },
   "outputs": [
    {
     "data": {
      "text/plain": [
       "       V1         \n",
       " Min.   :0.01647  \n",
       " 1st Qu.:0.04053  \n",
       " Median :0.04655  \n",
       " Mean   :0.04667  \n",
       " 3rd Qu.:0.05256  \n",
       " Max.   :0.07845  "
      ]
     },
     "metadata": {},
     "output_type": "display_data"
    }
   ],
   "source": [
    "summary(schoolcalendar_post_epred)"
   ]
  },
  {
   "cell_type": "code",
   "execution_count": 32,
   "id": "0db7fc53-18e2-4365-96bf-f75a7027eace",
   "metadata": {
    "tags": []
   },
   "outputs": [
    {
     "name": "stderr",
     "output_type": "stream",
     "text": [
      "Compiling Stan program...\n",
      "\n",
      "Start sampling\n",
      "\n"
     ]
    },
    {
     "name": "stdout",
     "output_type": "stream",
     "text": [
      "\n",
      "SAMPLING FOR MODEL 'anon_model' NOW (CHAIN 1).\n",
      "Chain 1: \n",
      "Chain 1: Gradient evaluation took 2.7e-05 seconds\n",
      "Chain 1: 1000 transitions using 10 leapfrog steps per transition would take 0.27 seconds.\n",
      "Chain 1: Adjust your expectations accordingly!\n",
      "Chain 1: \n",
      "Chain 1: \n",
      "Chain 1: Iteration:    1 / 2000 [  0%]  (Warmup)\n",
      "Chain 1: Iteration:  200 / 2000 [ 10%]  (Warmup)\n",
      "Chain 1: Iteration:  400 / 2000 [ 20%]  (Warmup)\n",
      "Chain 1: Iteration:  600 / 2000 [ 30%]  (Warmup)\n",
      "Chain 1: Iteration:  800 / 2000 [ 40%]  (Warmup)\n",
      "Chain 1: Iteration: 1000 / 2000 [ 50%]  (Warmup)\n",
      "Chain 1: Iteration: 1001 / 2000 [ 50%]  (Sampling)\n",
      "Chain 1: Iteration: 1200 / 2000 [ 60%]  (Sampling)\n",
      "Chain 1: Iteration: 1400 / 2000 [ 70%]  (Sampling)\n",
      "Chain 1: Iteration: 1600 / 2000 [ 80%]  (Sampling)\n",
      "Chain 1: Iteration: 1800 / 2000 [ 90%]  (Sampling)\n",
      "Chain 1: Iteration: 2000 / 2000 [100%]  (Sampling)\n",
      "Chain 1: \n",
      "Chain 1:  Elapsed Time: 0.03 seconds (Warm-up)\n",
      "Chain 1:                0.026 seconds (Sampling)\n",
      "Chain 1:                0.056 seconds (Total)\n",
      "Chain 1: \n",
      "\n",
      "SAMPLING FOR MODEL 'anon_model' NOW (CHAIN 2).\n",
      "Chain 2: \n",
      "Chain 2: Gradient evaluation took 6e-06 seconds\n",
      "Chain 2: 1000 transitions using 10 leapfrog steps per transition would take 0.06 seconds.\n",
      "Chain 2: Adjust your expectations accordingly!\n",
      "Chain 2: \n",
      "Chain 2: \n",
      "Chain 2: Iteration:    1 / 2000 [  0%]  (Warmup)\n",
      "Chain 2: Iteration:  200 / 2000 [ 10%]  (Warmup)\n",
      "Chain 2: Iteration:  400 / 2000 [ 20%]  (Warmup)\n",
      "Chain 2: Iteration:  600 / 2000 [ 30%]  (Warmup)\n",
      "Chain 2: Iteration:  800 / 2000 [ 40%]  (Warmup)\n",
      "Chain 2: Iteration: 1000 / 2000 [ 50%]  (Warmup)\n",
      "Chain 2: Iteration: 1001 / 2000 [ 50%]  (Sampling)\n",
      "Chain 2: Iteration: 1200 / 2000 [ 60%]  (Sampling)\n",
      "Chain 2: Iteration: 1400 / 2000 [ 70%]  (Sampling)\n",
      "Chain 2: Iteration: 1600 / 2000 [ 80%]  (Sampling)\n",
      "Chain 2: Iteration: 1800 / 2000 [ 90%]  (Sampling)\n",
      "Chain 2: Iteration: 2000 / 2000 [100%]  (Sampling)\n",
      "Chain 2: \n",
      "Chain 2:  Elapsed Time: 0.03 seconds (Warm-up)\n",
      "Chain 2:                0.027 seconds (Sampling)\n",
      "Chain 2:                0.057 seconds (Total)\n",
      "Chain 2: \n",
      "\n",
      "SAMPLING FOR MODEL 'anon_model' NOW (CHAIN 3).\n",
      "Chain 3: \n",
      "Chain 3: Gradient evaluation took 6e-06 seconds\n",
      "Chain 3: 1000 transitions using 10 leapfrog steps per transition would take 0.06 seconds.\n",
      "Chain 3: Adjust your expectations accordingly!\n",
      "Chain 3: \n",
      "Chain 3: \n",
      "Chain 3: Iteration:    1 / 2000 [  0%]  (Warmup)\n",
      "Chain 3: Iteration:  200 / 2000 [ 10%]  (Warmup)\n",
      "Chain 3: Iteration:  400 / 2000 [ 20%]  (Warmup)\n",
      "Chain 3: Iteration:  600 / 2000 [ 30%]  (Warmup)\n",
      "Chain 3: Iteration:  800 / 2000 [ 40%]  (Warmup)\n",
      "Chain 3: Iteration: 1000 / 2000 [ 50%]  (Warmup)\n",
      "Chain 3: Iteration: 1001 / 2000 [ 50%]  (Sampling)\n",
      "Chain 3: Iteration: 1200 / 2000 [ 60%]  (Sampling)\n",
      "Chain 3: Iteration: 1400 / 2000 [ 70%]  (Sampling)\n",
      "Chain 3: Iteration: 1600 / 2000 [ 80%]  (Sampling)\n",
      "Chain 3: Iteration: 1800 / 2000 [ 90%]  (Sampling)\n",
      "Chain 3: Iteration: 2000 / 2000 [100%]  (Sampling)\n",
      "Chain 3: \n",
      "Chain 3:  Elapsed Time: 0.027 seconds (Warm-up)\n",
      "Chain 3:                0.029 seconds (Sampling)\n",
      "Chain 3:                0.056 seconds (Total)\n",
      "Chain 3: \n",
      "\n",
      "SAMPLING FOR MODEL 'anon_model' NOW (CHAIN 4).\n",
      "Chain 4: \n",
      "Chain 4: Gradient evaluation took 6e-06 seconds\n",
      "Chain 4: 1000 transitions using 10 leapfrog steps per transition would take 0.06 seconds.\n",
      "Chain 4: Adjust your expectations accordingly!\n",
      "Chain 4: \n",
      "Chain 4: \n",
      "Chain 4: Iteration:    1 / 2000 [  0%]  (Warmup)\n",
      "Chain 4: Iteration:  200 / 2000 [ 10%]  (Warmup)\n",
      "Chain 4: Iteration:  400 / 2000 [ 20%]  (Warmup)\n",
      "Chain 4: Iteration:  600 / 2000 [ 30%]  (Warmup)\n",
      "Chain 4: Iteration:  800 / 2000 [ 40%]  (Warmup)\n",
      "Chain 4: Iteration: 1000 / 2000 [ 50%]  (Warmup)\n",
      "Chain 4: Iteration: 1001 / 2000 [ 50%]  (Sampling)\n",
      "Chain 4: Iteration: 1200 / 2000 [ 60%]  (Sampling)\n",
      "Chain 4: Iteration: 1400 / 2000 [ 70%]  (Sampling)\n",
      "Chain 4: Iteration: 1600 / 2000 [ 80%]  (Sampling)\n",
      "Chain 4: Iteration: 1800 / 2000 [ 90%]  (Sampling)\n",
      "Chain 4: Iteration: 2000 / 2000 [100%]  (Sampling)\n",
      "Chain 4: \n",
      "Chain 4:  Elapsed Time: 0.029 seconds (Warm-up)\n",
      "Chain 4:                0.026 seconds (Sampling)\n",
      "Chain 4:                0.055 seconds (Total)\n",
      "Chain 4: \n"
     ]
    }
   ],
   "source": [
    "schoolcalendar_pooled_formula <- bf(\n",
    "  formula = yi | se(sqrt(vi)) ~ 1,\n",
    "  family = \"gaussian\"\n",
    ")  \n",
    "\n",
    "schoolcalendar_pooled_fit <- brm(\n",
    "  formula = schoolcalendar_pooled_formula,\n",
    "  data = schoolcalendar_data\n",
    ")"
   ]
  },
  {
   "cell_type": "code",
   "execution_count": 33,
   "id": "b5df7ae6-9ad3-4c84-b1e5-d60233f2281f",
   "metadata": {
    "tags": []
   },
   "outputs": [],
   "source": [
    "new_school2 <- data.frame(\n",
    "  school = factor(9),\n",
    "  district = factor(86),\n",
    "  district_school = factor(\"9_86\"),\n",
    "  vi = 0 # the expectation of the prediction is not affected by the sampling variance, so this can be any number\n",
    ")\n",
    "  \n",
    "\n",
    "schoolcalendar_post_epred <- posterior_epred(\n",
    "    schoolcalendar_pooled_fit,\n",
    "    newdata = new_school2,\n",
    "    allow_new_levels = TRUE\n",
    "  )"
   ]
  },
  {
   "cell_type": "code",
   "execution_count": 34,
   "id": "9f10a769-0412-479c-9b86-6b8630aec616",
   "metadata": {
    "tags": []
   },
   "outputs": [
    {
     "data": {
      "text/plain": [
       "       V1         \n",
       " Min.   :0.01430  \n",
       " 1st Qu.:0.04062  \n",
       " Median :0.04689  \n",
       " Mean   :0.04687  \n",
       " 3rd Qu.:0.05323  \n",
       " Max.   :0.07504  "
      ]
     },
     "metadata": {},
     "output_type": "display_data"
    }
   ],
   "source": [
    "summary(schoolcalendar_post_epred)"
   ]
  },
  {
   "cell_type": "code",
   "execution_count": 35,
   "id": "c707464e-c0f6-4e9f-b317-f1f8311f6ba6",
   "metadata": {
    "tags": []
   },
   "outputs": [
    {
     "data": {
      "text/plain": [
       "       V1         \n",
       " Min.   :0.01430  \n",
       " 1st Qu.:0.04062  \n",
       " Median :0.04689  \n",
       " Mean   :0.04687  \n",
       " 3rd Qu.:0.05323  \n",
       " Max.   :0.07504  "
      ]
     },
     "metadata": {},
     "output_type": "display_data"
    }
   ],
   "source": [
    "# Create new data for prediction\n",
    "new_school2 <- data.frame(\n",
    "  school = factor(9),\n",
    "  district = factor(86),\n",
    "  district_school = factor(\"9_86\"),\n",
    "  vi = 0\n",
    ")\n",
    "\n",
    "# Get posterior predictions\n",
    "posterior_predictions <- posterior_epred(\n",
    "  schoolcalendar_pooled_fit,\n",
    "  newdata = new_school2,\n",
    "  allow_new_levels = TRUE\n",
    ")\n",
    "\n",
    "# Summarize the posterior predictions\n",
    "summary(posterior_predictions)"
   ]
  },
  {
   "cell_type": "code",
   "execution_count": 36,
   "id": "13ac46e1-a405-4323-9919-907ecf297603",
   "metadata": {
    "tags": []
   },
   "outputs": [
    {
     "name": "stderr",
     "output_type": "stream",
     "text": [
      "Compiling Stan program...\n",
      "\n",
      "Start sampling\n",
      "\n"
     ]
    },
    {
     "name": "stdout",
     "output_type": "stream",
     "text": [
      "\n",
      "SAMPLING FOR MODEL 'anon_model' NOW (CHAIN 1).\n",
      "Chain 1: \n",
      "Chain 1: Gradient evaluation took 3.1e-05 seconds\n",
      "Chain 1: 1000 transitions using 10 leapfrog steps per transition would take 0.31 seconds.\n",
      "Chain 1: Adjust your expectations accordingly!\n",
      "Chain 1: \n",
      "Chain 1: \n",
      "Chain 1: Iteration:    1 / 2000 [  0%]  (Warmup)\n",
      "Chain 1: Iteration:  200 / 2000 [ 10%]  (Warmup)\n",
      "Chain 1: Iteration:  400 / 2000 [ 20%]  (Warmup)\n",
      "Chain 1: Iteration:  600 / 2000 [ 30%]  (Warmup)\n",
      "Chain 1: Iteration:  800 / 2000 [ 40%]  (Warmup)\n",
      "Chain 1: Iteration: 1000 / 2000 [ 50%]  (Warmup)\n",
      "Chain 1: Iteration: 1001 / 2000 [ 50%]  (Sampling)\n",
      "Chain 1: Iteration: 1200 / 2000 [ 60%]  (Sampling)\n",
      "Chain 1: Iteration: 1400 / 2000 [ 70%]  (Sampling)\n",
      "Chain 1: Iteration: 1600 / 2000 [ 80%]  (Sampling)\n",
      "Chain 1: Iteration: 1800 / 2000 [ 90%]  (Sampling)\n",
      "Chain 1: Iteration: 2000 / 2000 [100%]  (Sampling)\n",
      "Chain 1: \n",
      "Chain 1:  Elapsed Time: 0.029 seconds (Warm-up)\n",
      "Chain 1:                0.035 seconds (Sampling)\n",
      "Chain 1:                0.064 seconds (Total)\n",
      "Chain 1: \n",
      "\n",
      "SAMPLING FOR MODEL 'anon_model' NOW (CHAIN 2).\n",
      "Chain 2: \n",
      "Chain 2: Gradient evaluation took 1e-05 seconds\n",
      "Chain 2: 1000 transitions using 10 leapfrog steps per transition would take 0.1 seconds.\n",
      "Chain 2: Adjust your expectations accordingly!\n",
      "Chain 2: \n",
      "Chain 2: \n",
      "Chain 2: Iteration:    1 / 2000 [  0%]  (Warmup)\n",
      "Chain 2: Iteration:  200 / 2000 [ 10%]  (Warmup)\n",
      "Chain 2: Iteration:  400 / 2000 [ 20%]  (Warmup)\n",
      "Chain 2: Iteration:  600 / 2000 [ 30%]  (Warmup)\n",
      "Chain 2: Iteration:  800 / 2000 [ 40%]  (Warmup)\n",
      "Chain 2: Iteration: 1000 / 2000 [ 50%]  (Warmup)\n",
      "Chain 2: Iteration: 1001 / 2000 [ 50%]  (Sampling)\n",
      "Chain 2: Iteration: 1200 / 2000 [ 60%]  (Sampling)\n",
      "Chain 2: Iteration: 1400 / 2000 [ 70%]  (Sampling)\n",
      "Chain 2: Iteration: 1600 / 2000 [ 80%]  (Sampling)\n",
      "Chain 2: Iteration: 1800 / 2000 [ 90%]  (Sampling)\n",
      "Chain 2: Iteration: 2000 / 2000 [100%]  (Sampling)\n",
      "Chain 2: \n",
      "Chain 2:  Elapsed Time: 0.027 seconds (Warm-up)\n",
      "Chain 2:                0.026 seconds (Sampling)\n",
      "Chain 2:                0.053 seconds (Total)\n",
      "Chain 2: \n",
      "\n",
      "SAMPLING FOR MODEL 'anon_model' NOW (CHAIN 3).\n",
      "Chain 3: \n",
      "Chain 3: Gradient evaluation took 7e-06 seconds\n",
      "Chain 3: 1000 transitions using 10 leapfrog steps per transition would take 0.07 seconds.\n",
      "Chain 3: Adjust your expectations accordingly!\n",
      "Chain 3: \n",
      "Chain 3: \n",
      "Chain 3: Iteration:    1 / 2000 [  0%]  (Warmup)\n",
      "Chain 3: Iteration:  200 / 2000 [ 10%]  (Warmup)\n",
      "Chain 3: Iteration:  400 / 2000 [ 20%]  (Warmup)\n",
      "Chain 3: Iteration:  600 / 2000 [ 30%]  (Warmup)\n",
      "Chain 3: Iteration:  800 / 2000 [ 40%]  (Warmup)\n",
      "Chain 3: Iteration: 1000 / 2000 [ 50%]  (Warmup)\n",
      "Chain 3: Iteration: 1001 / 2000 [ 50%]  (Sampling)\n",
      "Chain 3: Iteration: 1200 / 2000 [ 60%]  (Sampling)\n",
      "Chain 3: Iteration: 1400 / 2000 [ 70%]  (Sampling)\n",
      "Chain 3: Iteration: 1600 / 2000 [ 80%]  (Sampling)\n",
      "Chain 3: Iteration: 1800 / 2000 [ 90%]  (Sampling)\n",
      "Chain 3: Iteration: 2000 / 2000 [100%]  (Sampling)\n",
      "Chain 3: \n",
      "Chain 3:  Elapsed Time: 0.028 seconds (Warm-up)\n",
      "Chain 3:                0.03 seconds (Sampling)\n",
      "Chain 3:                0.058 seconds (Total)\n",
      "Chain 3: \n",
      "\n",
      "SAMPLING FOR MODEL 'anon_model' NOW (CHAIN 4).\n",
      "Chain 4: \n",
      "Chain 4: Gradient evaluation took 8e-06 seconds\n",
      "Chain 4: 1000 transitions using 10 leapfrog steps per transition would take 0.08 seconds.\n",
      "Chain 4: Adjust your expectations accordingly!\n",
      "Chain 4: \n",
      "Chain 4: \n",
      "Chain 4: Iteration:    1 / 2000 [  0%]  (Warmup)\n",
      "Chain 4: Iteration:  200 / 2000 [ 10%]  (Warmup)\n",
      "Chain 4: Iteration:  400 / 2000 [ 20%]  (Warmup)\n",
      "Chain 4: Iteration:  600 / 2000 [ 30%]  (Warmup)\n",
      "Chain 4: Iteration:  800 / 2000 [ 40%]  (Warmup)\n",
      "Chain 4: Iteration: 1000 / 2000 [ 50%]  (Warmup)\n",
      "Chain 4: Iteration: 1001 / 2000 [ 50%]  (Sampling)\n",
      "Chain 4: Iteration: 1200 / 2000 [ 60%]  (Sampling)\n",
      "Chain 4: Iteration: 1400 / 2000 [ 70%]  (Sampling)\n",
      "Chain 4: Iteration: 1600 / 2000 [ 80%]  (Sampling)\n",
      "Chain 4: Iteration: 1800 / 2000 [ 90%]  (Sampling)\n",
      "Chain 4: Iteration: 2000 / 2000 [100%]  (Sampling)\n",
      "Chain 4: \n",
      "Chain 4:  Elapsed Time: 0.031 seconds (Warm-up)\n",
      "Chain 4:                0.028 seconds (Sampling)\n",
      "Chain 4:                0.059 seconds (Total)\n",
      "Chain 4: \n"
     ]
    }
   ],
   "source": [
    "schoolcalendar_pooled_formula <- bf(\n",
    "  formula = yi | se(sqrt(vi)) ~ 1,\n",
    "  family = \"gaussian\"\n",
    ")  \n",
    "\n",
    "schoolcalendar_pooled_fit <- brm(\n",
    "  formula = schoolcalendar_pooled_formula,\n",
    "  data = schoolcalendar_data\n",
    ")"
   ]
  },
  {
   "cell_type": "code",
   "execution_count": 37,
   "id": "39228c06-08eb-405d-ab5c-1c03ccac9069",
   "metadata": {
    "tags": []
   },
   "outputs": [],
   "source": [
    "new_school3 <- data.frame(\n",
    "  school = factor(1),\n",
    "  district = factor(30),\n",
    "  district_school = factor(\"1_30\"),\n",
    "  vi = 0 # the expectation of the prediction is not affected by the sampling variance, so this can be any number\n",
    ")\n",
    "  \n",
    "\n",
    "schoolcalendar_post_epred <- posterior_epred(\n",
    "    schoolcalendar_pooled_fit,\n",
    "    newdata = new_school3,\n",
    "    allow_new_levels = TRUE\n",
    "  )"
   ]
  },
  {
   "cell_type": "code",
   "execution_count": 38,
   "id": "c687cb58-8f0b-4481-84a8-e908a943a2ca",
   "metadata": {
    "tags": []
   },
   "outputs": [
    {
     "data": {
      "text/plain": [
       "       V1         \n",
       " Min.   :0.01430  \n",
       " 1st Qu.:0.04062  \n",
       " Median :0.04689  \n",
       " Mean   :0.04687  \n",
       " 3rd Qu.:0.05323  \n",
       " Max.   :0.07504  "
      ]
     },
     "metadata": {},
     "output_type": "display_data"
    }
   ],
   "source": [
    "# Summarize the posterior predictions\n",
    "summary(posterior_predictions)"
   ]
  },
  {
   "cell_type": "code",
   "execution_count": null,
   "id": "fc2d776c-2add-43b7-a832-8aa03fd5e1a4",
   "metadata": {},
   "outputs": [],
   "source": []
  },
  {
   "cell_type": "markdown",
   "id": "17c7e67c-f20e-4955-b460-93e8799c0463",
   "metadata": {},
   "source": [
    "Separate model:"
   ]
  },
  {
   "cell_type": "code",
   "execution_count": 39,
   "id": "a54e5302-28c8-469d-b16a-7ea1d298d3a5",
   "metadata": {
    "tags": []
   },
   "outputs": [
    {
     "name": "stderr",
     "output_type": "stream",
     "text": [
      "Compiling Stan program...\n",
      "\n",
      "Start sampling\n",
      "\n"
     ]
    },
    {
     "name": "stdout",
     "output_type": "stream",
     "text": [
      "\n",
      "SAMPLING FOR MODEL 'anon_model' NOW (CHAIN 1).\n",
      "Chain 1: \n",
      "Chain 1: Gradient evaluation took 3.7e-05 seconds\n",
      "Chain 1: 1000 transitions using 10 leapfrog steps per transition would take 0.37 seconds.\n",
      "Chain 1: Adjust your expectations accordingly!\n",
      "Chain 1: \n",
      "Chain 1: \n",
      "Chain 1: Iteration:    1 / 2000 [  0%]  (Warmup)\n",
      "Chain 1: Iteration:  200 / 2000 [ 10%]  (Warmup)\n",
      "Chain 1: Iteration:  400 / 2000 [ 20%]  (Warmup)\n",
      "Chain 1: Iteration:  600 / 2000 [ 30%]  (Warmup)\n",
      "Chain 1: Iteration:  800 / 2000 [ 40%]  (Warmup)\n",
      "Chain 1: Iteration: 1000 / 2000 [ 50%]  (Warmup)\n",
      "Chain 1: Iteration: 1001 / 2000 [ 50%]  (Sampling)\n",
      "Chain 1: Iteration: 1200 / 2000 [ 60%]  (Sampling)\n",
      "Chain 1: Iteration: 1400 / 2000 [ 70%]  (Sampling)\n",
      "Chain 1: Iteration: 1600 / 2000 [ 80%]  (Sampling)\n",
      "Chain 1: Iteration: 1800 / 2000 [ 90%]  (Sampling)\n",
      "Chain 1: Iteration: 2000 / 2000 [100%]  (Sampling)\n",
      "Chain 1: \n",
      "Chain 1:  Elapsed Time: 0.195 seconds (Warm-up)\n",
      "Chain 1:                0.129 seconds (Sampling)\n",
      "Chain 1:                0.324 seconds (Total)\n",
      "Chain 1: \n",
      "\n",
      "SAMPLING FOR MODEL 'anon_model' NOW (CHAIN 2).\n",
      "Chain 2: \n",
      "Chain 2: Gradient evaluation took 1.6e-05 seconds\n",
      "Chain 2: 1000 transitions using 10 leapfrog steps per transition would take 0.16 seconds.\n",
      "Chain 2: Adjust your expectations accordingly!\n",
      "Chain 2: \n",
      "Chain 2: \n",
      "Chain 2: Iteration:    1 / 2000 [  0%]  (Warmup)\n",
      "Chain 2: Iteration:  200 / 2000 [ 10%]  (Warmup)\n",
      "Chain 2: Iteration:  400 / 2000 [ 20%]  (Warmup)\n",
      "Chain 2: Iteration:  600 / 2000 [ 30%]  (Warmup)\n",
      "Chain 2: Iteration:  800 / 2000 [ 40%]  (Warmup)\n",
      "Chain 2: Iteration: 1000 / 2000 [ 50%]  (Warmup)\n",
      "Chain 2: Iteration: 1001 / 2000 [ 50%]  (Sampling)\n",
      "Chain 2: Iteration: 1200 / 2000 [ 60%]  (Sampling)\n",
      "Chain 2: Iteration: 1400 / 2000 [ 70%]  (Sampling)\n",
      "Chain 2: Iteration: 1600 / 2000 [ 80%]  (Sampling)\n",
      "Chain 2: Iteration: 1800 / 2000 [ 90%]  (Sampling)\n",
      "Chain 2: Iteration: 2000 / 2000 [100%]  (Sampling)\n",
      "Chain 2: \n",
      "Chain 2:  Elapsed Time: 0.2 seconds (Warm-up)\n",
      "Chain 2:                0.125 seconds (Sampling)\n",
      "Chain 2:                0.325 seconds (Total)\n",
      "Chain 2: \n",
      "\n",
      "SAMPLING FOR MODEL 'anon_model' NOW (CHAIN 3).\n",
      "Chain 3: \n",
      "Chain 3: Gradient evaluation took 1.7e-05 seconds\n",
      "Chain 3: 1000 transitions using 10 leapfrog steps per transition would take 0.17 seconds.\n",
      "Chain 3: Adjust your expectations accordingly!\n",
      "Chain 3: \n",
      "Chain 3: \n",
      "Chain 3: Iteration:    1 / 2000 [  0%]  (Warmup)\n",
      "Chain 3: Iteration:  200 / 2000 [ 10%]  (Warmup)\n",
      "Chain 3: Iteration:  400 / 2000 [ 20%]  (Warmup)\n",
      "Chain 3: Iteration:  600 / 2000 [ 30%]  (Warmup)\n",
      "Chain 3: Iteration:  800 / 2000 [ 40%]  (Warmup)\n",
      "Chain 3: Iteration: 1000 / 2000 [ 50%]  (Warmup)\n",
      "Chain 3: Iteration: 1001 / 2000 [ 50%]  (Sampling)\n",
      "Chain 3: Iteration: 1200 / 2000 [ 60%]  (Sampling)\n",
      "Chain 3: Iteration: 1400 / 2000 [ 70%]  (Sampling)\n",
      "Chain 3: Iteration: 1600 / 2000 [ 80%]  (Sampling)\n",
      "Chain 3: Iteration: 1800 / 2000 [ 90%]  (Sampling)\n",
      "Chain 3: Iteration: 2000 / 2000 [100%]  (Sampling)\n",
      "Chain 3: \n",
      "Chain 3:  Elapsed Time: 0.189 seconds (Warm-up)\n",
      "Chain 3:                0.125 seconds (Sampling)\n",
      "Chain 3:                0.314 seconds (Total)\n",
      "Chain 3: \n",
      "\n",
      "SAMPLING FOR MODEL 'anon_model' NOW (CHAIN 4).\n",
      "Chain 4: \n",
      "Chain 4: Gradient evaluation took 1.8e-05 seconds\n",
      "Chain 4: 1000 transitions using 10 leapfrog steps per transition would take 0.18 seconds.\n",
      "Chain 4: Adjust your expectations accordingly!\n",
      "Chain 4: \n",
      "Chain 4: \n",
      "Chain 4: Iteration:    1 / 2000 [  0%]  (Warmup)\n",
      "Chain 4: Iteration:  200 / 2000 [ 10%]  (Warmup)\n",
      "Chain 4: Iteration:  400 / 2000 [ 20%]  (Warmup)\n",
      "Chain 4: Iteration:  600 / 2000 [ 30%]  (Warmup)\n",
      "Chain 4: Iteration:  800 / 2000 [ 40%]  (Warmup)\n",
      "Chain 4: Iteration: 1000 / 2000 [ 50%]  (Warmup)\n",
      "Chain 4: Iteration: 1001 / 2000 [ 50%]  (Sampling)\n",
      "Chain 4: Iteration: 1200 / 2000 [ 60%]  (Sampling)\n",
      "Chain 4: Iteration: 1400 / 2000 [ 70%]  (Sampling)\n",
      "Chain 4: Iteration: 1600 / 2000 [ 80%]  (Sampling)\n",
      "Chain 4: Iteration: 1800 / 2000 [ 90%]  (Sampling)\n",
      "Chain 4: Iteration: 2000 / 2000 [100%]  (Sampling)\n",
      "Chain 4: \n",
      "Chain 4:  Elapsed Time: 0.201 seconds (Warm-up)\n",
      "Chain 4:                0.131 seconds (Sampling)\n",
      "Chain 4:                0.332 seconds (Total)\n",
      "Chain 4: \n"
     ]
    }
   ],
   "source": [
    "data(dat.konstantopoulos2011, package = \"metadat\")\n",
    "\n",
    "schoolcalendar_data <- dat.konstantopoulos2011 |>\n",
    "  dplyr::mutate(\n",
    "    school = factor(school),\n",
    "    district = factor(district),\n",
    "    district_school = interaction(district, school, drop = TRUE, sep = \"_\")\n",
    "  )\n",
    "\n",
    "schoolcalendar_separate_formula <- bf(\n",
    "  formula = yi | se(sqrt(vi)) ~ 0 + district_school,\n",
    "  family = \"gaussian\"\n",
    ")  \n",
    "\n",
    "schoolcalendar_separate_fit <- brm(\n",
    "  formula = schoolcalendar_separate_formula,\n",
    "  data = schoolcalendar_data\n",
    ")"
   ]
  },
  {
   "cell_type": "code",
   "execution_count": 40,
   "id": "5d3f2bb5-97db-417f-a9ab-1cc2e70f55aa",
   "metadata": {
    "tags": []
   },
   "outputs": [
    {
     "data": {
      "text/plain": [
       " Family: gaussian \n",
       "  Links: mu = identity; sigma = identity \n",
       "Formula: yi | se(sqrt(vi)) ~ 0 + district_school \n",
       "   Data: schoolcalendar_data (Number of observations: 56) \n",
       "  Draws: 4 chains, each with iter = 2000; warmup = 1000; thin = 1;\n",
       "         total post-warmup draws = 4000\n",
       "\n",
       "Regression Coefficients:\n",
       "                     Estimate Est.Error l-95% CI u-95% CI Rhat Bulk_ESS\n",
       "district_school11_1     -0.19      0.34    -0.86     0.47 1.00     6732\n",
       "district_school12_1      0.13      0.12    -0.11     0.36 1.00     6067\n",
       "district_school18_1      0.45      0.15     0.15     0.75 1.00     6787\n",
       "district_school27_1      0.16      0.14    -0.12     0.45 1.00     7157\n",
       "district_school56_1      0.08      0.14    -0.20     0.36 1.00     5544\n",
       "district_school58_1     -0.18      0.14    -0.46     0.09 1.00     6215\n",
       "district_school71_1      0.30      0.12     0.07     0.53 1.00     6118\n",
       "district_school86_1     -0.07      0.03    -0.13    -0.01 1.00     6974\n",
       "district_school91_1      0.50      0.10     0.31     0.69 1.00     5914\n",
       "district_school108_1    -0.52      0.18    -0.87    -0.17 1.00     5903\n",
       "district_school644_1     0.12      0.29    -0.43     0.68 1.00     5809\n",
       "district_school11_2     -0.22      0.34    -0.88     0.43 1.00     6189\n",
       "district_school12_2     -0.26      0.12    -0.49    -0.03 1.00     6034\n",
       "district_school18_2      0.38      0.21    -0.02     0.78 1.00     7358\n",
       "district_school27_2      0.65      0.06     0.53     0.78 1.00     6906\n",
       "district_school56_2      0.04      0.08    -0.12     0.21 1.00     7018\n",
       "district_school58_2     -0.00      0.14    -0.27     0.27 1.00     5523\n",
       "district_school71_2      0.98      0.10     0.77     1.18 1.00     6548\n",
       "district_school86_2     -0.05      0.03    -0.11     0.01 1.00     7210\n",
       "district_school91_2      0.66      0.11     0.45     0.87 1.00     6514\n",
       "district_school108_2     0.70      0.17     0.37     1.03 1.00     6780\n",
       "district_school644_2     0.61      0.28     0.05     1.17 1.00     7804\n",
       "district_school11_3      0.23      0.37    -0.49     0.94 1.00     6807\n",
       "district_school12_3      0.19      0.12    -0.05     0.42 1.00     6012\n",
       "district_school18_3      0.29      0.11     0.08     0.49 1.00     5974\n",
       "district_school27_3      0.36      0.06     0.23     0.48 1.00     6887\n",
       "district_school56_3      0.19      0.07     0.05     0.33 1.00     7050\n",
       "district_school58_3      0.00      0.14    -0.27     0.28 1.00     5807\n",
       "district_school71_3      1.19      0.10     1.00     1.38 1.00     6598\n",
       "district_school86_3     -0.01      0.03    -0.07     0.05 1.00     5905\n",
       "district_school91_3      0.20      0.10     0.00     0.39 1.00     6363\n",
       "district_school108_3    -0.03      0.17    -0.36     0.30 1.00     5576\n",
       "district_school644_3     0.04      0.26    -0.47     0.55 1.01     6368\n",
       "district_school11_4     -0.31      0.39    -1.06     0.46 1.00     6246\n",
       "district_school12_4      0.32      0.15     0.01     0.62 1.00     7168\n",
       "district_school27_4      0.60      0.08     0.44     0.76 1.00     6613\n",
       "district_school56_4     -0.06      0.06    -0.19     0.06 1.00     6985\n",
       "district_school58_4     -0.28      0.15    -0.58     0.01 1.00     5920\n",
       "district_school86_4      0.02      0.03    -0.04     0.08 1.00     5634\n",
       "district_school91_4     -0.00      0.09    -0.18     0.18 1.00     6227\n",
       "district_school108_4     0.27      0.17    -0.06     0.61 1.00     6862\n",
       "district_school644_4    -0.05      0.26    -0.56     0.46 1.00     6155\n",
       "district_school58_5     -0.04      0.14    -0.33     0.24 1.00     7113\n",
       "district_school86_5     -0.03      0.03    -0.09     0.03 1.00     5952\n",
       "district_school91_5      0.05      0.11    -0.17     0.27 1.00     5732\n",
       "district_school108_5    -0.34      0.18    -0.68     0.00 1.00     5541\n",
       "district_school58_6     -0.30      0.15    -0.58    -0.02 1.00     5885\n",
       "district_school86_6     -0.00      0.03    -0.06     0.06 1.00     7520\n",
       "district_school91_6      0.07      0.11    -0.16     0.30 1.00     7618\n",
       "district_school58_7      0.07      0.08    -0.08     0.22 1.01     5832\n",
       "district_school86_7      0.01      0.03    -0.05     0.07 1.00     6632\n",
       "district_school58_8     -0.00      0.08    -0.16     0.16 1.00     6052\n",
       "district_school86_8     -0.10      0.03    -0.16    -0.04 1.00     6967\n",
       "district_school58_9      0.05      0.08    -0.12     0.21 1.00     6117\n",
       "district_school58_10    -0.08      0.08    -0.25     0.08 1.00     5707\n",
       "district_school58_11    -0.09      0.08    -0.26     0.07 1.00     6379\n",
       "                     Tail_ESS\n",
       "district_school11_1      2849\n",
       "district_school12_1      3241\n",
       "district_school18_1      2813\n",
       "district_school27_1      3156\n",
       "district_school56_1      2981\n",
       "district_school58_1      2937\n",
       "district_school71_1      2873\n",
       "district_school86_1      3013\n",
       "district_school91_1      3041\n",
       "district_school108_1     2532\n",
       "district_school644_1     2881\n",
       "district_school11_2      3304\n",
       "district_school12_2      2644\n",
       "district_school18_2      3018\n",
       "district_school27_2      3040\n",
       "district_school56_2      3180\n",
       "district_school58_2      2782\n",
       "district_school71_2      3242\n",
       "district_school86_2      3019\n",
       "district_school91_2      2919\n",
       "district_school108_2     2765\n",
       "district_school644_2     2602\n",
       "district_school11_3      3486\n",
       "district_school12_3      2972\n",
       "district_school18_3      2873\n",
       "district_school27_3      2545\n",
       "district_school56_3      2998\n",
       "district_school58_3      2629\n",
       "district_school71_3      2849\n",
       "district_school86_3      2978\n",
       "district_school91_3      2798\n",
       "district_school108_3     3060\n",
       "district_school644_3     2140\n",
       "district_school11_4      2888\n",
       "district_school12_4      2687\n",
       "district_school27_4      3111\n",
       "district_school56_4      2635\n",
       "district_school58_4      2811\n",
       "district_school86_4      2811\n",
       "district_school91_4      3072\n",
       "district_school108_4     3022\n",
       "district_school644_4     3057\n",
       "district_school58_5      2598\n",
       "district_school86_5      3331\n",
       "district_school91_5      3110\n",
       "district_school108_5     3156\n",
       "district_school58_6      3092\n",
       "district_school86_6      2592\n",
       "district_school91_6      2893\n",
       "district_school58_7      2854\n",
       "district_school86_7      2898\n",
       "district_school58_8      2495\n",
       "district_school86_8      2863\n",
       "district_school58_9      2852\n",
       "district_school58_10     3335\n",
       "district_school58_11     2258\n",
       "\n",
       "Further Distributional Parameters:\n",
       "      Estimate Est.Error l-95% CI u-95% CI Rhat Bulk_ESS Tail_ESS\n",
       "sigma     0.00      0.00     0.00     0.00   NA       NA       NA\n",
       "\n",
       "Draws were sampled using sampling(NUTS). For each parameter, Bulk_ESS\n",
       "and Tail_ESS are effective sample size measures, and Rhat is the potential\n",
       "scale reduction factor on split chains (at convergence, Rhat = 1)."
      ]
     },
     "metadata": {},
     "output_type": "display_data"
    }
   ],
   "source": [
    "# Summarize the model to view estimates\n",
    "summary(schoolcalendar_separate_fit)"
   ]
  },
  {
   "cell_type": "code",
   "execution_count": 41,
   "id": "8c938ac7-39fc-495d-9fdc-9cbc9d34145f",
   "metadata": {
    "tags": []
   },
   "outputs": [],
   "source": [
    "new_school <- data.frame(\n",
    "  district = factor(71),\n",
    "  school = factor(3),\n",
    "  district_school = factor(\"71_3\"),\n",
    "  vi = 0 # the expectation of the prediction is not affected by the sampling variance, so this can be any number\n",
    ")\n",
    "  \n",
    "\n",
    "schoolcalendar_post_epred <- posterior_epred(\n",
    "    schoolcalendar_separate_fit,\n",
    "    newdata = new_school,\n",
    "    allow_new_levels = TRUE\n",
    "  )"
   ]
  },
  {
   "cell_type": "code",
   "execution_count": 42,
   "id": "31a0908c-e73e-49d8-a614-503eb8c55923",
   "metadata": {
    "tags": []
   },
   "outputs": [
    {
     "data": {
      "text/plain": [
       "       V1        \n",
       " Min.   :0.8256  \n",
       " 1st Qu.:1.1236  \n",
       " Median :1.1904  \n",
       " Mean   :1.1903  \n",
       " 3rd Qu.:1.2564  \n",
       " Max.   :1.5699  "
      ]
     },
     "metadata": {},
     "output_type": "display_data"
    }
   ],
   "source": [
    "# Summarize the posterior predictions\n",
    "summary(schoolcalendar_post_epred)"
   ]
  },
  {
   "cell_type": "code",
   "execution_count": 43,
   "id": "d63310f2-e7a6-4dd8-ab98-e4c9816b5ea2",
   "metadata": {
    "tags": []
   },
   "outputs": [
    {
     "data": {
      "text/plain": [
       "       V1          \n",
       " Min.   :-0.11891  \n",
       " 1st Qu.:-0.01043  \n",
       " Median : 0.01035  \n",
       " Mean   : 0.01053  \n",
       " 3rd Qu.: 0.03140  \n",
       " Max.   : 0.11474  "
      ]
     },
     "metadata": {},
     "output_type": "display_data"
    }
   ],
   "source": [
    "new_school <- data.frame(\n",
    "  district = factor(86),\n",
    "  school = factor(7),\n",
    "  district_school = factor(\"86_7\"),\n",
    "  vi = 0 # the expectation of the prediction is not affected by the sampling variance, so this can be any number\n",
    ")\n",
    "  \n",
    "\n",
    "schoolcalendar_post_epred <- posterior_epred(\n",
    "    schoolcalendar_separate_fit,\n",
    "    newdata = new_school,\n",
    "    allow_new_levels = TRUE\n",
    "  )\n",
    "\n",
    "# Summarize the posterior predictions\n",
    "summary(schoolcalendar_post_epred)"
   ]
  },
  {
   "cell_type": "code",
   "execution_count": null,
   "id": "d4abb2f7-5b19-4e4f-80a0-62ecfbc4a534",
   "metadata": {},
   "outputs": [],
   "source": []
  },
  {
   "cell_type": "markdown",
   "id": "84c7e6f9-65d2-4f9f-afcc-bd9795631439",
   "metadata": {},
   "source": [
    "Partially pooled model for schools."
   ]
  },
  {
   "cell_type": "code",
   "execution_count": 44,
   "id": "870c06c4-9fe1-4fea-ae99-e9d429ac0e5c",
   "metadata": {
    "tags": []
   },
   "outputs": [
    {
     "name": "stderr",
     "output_type": "stream",
     "text": [
      "Compiling Stan program...\n",
      "\n",
      "Start sampling\n",
      "\n"
     ]
    },
    {
     "name": "stdout",
     "output_type": "stream",
     "text": [
      "\n",
      "SAMPLING FOR MODEL 'anon_model' NOW (CHAIN 1).\n",
      "Chain 1: \n",
      "Chain 1: Gradient evaluation took 7.1e-05 seconds\n",
      "Chain 1: 1000 transitions using 10 leapfrog steps per transition would take 0.71 seconds.\n",
      "Chain 1: Adjust your expectations accordingly!\n",
      "Chain 1: \n",
      "Chain 1: \n",
      "Chain 1: Iteration:    1 / 2000 [  0%]  (Warmup)\n",
      "Chain 1: Iteration:  200 / 2000 [ 10%]  (Warmup)\n",
      "Chain 1: Iteration:  400 / 2000 [ 20%]  (Warmup)\n",
      "Chain 1: Iteration:  600 / 2000 [ 30%]  (Warmup)\n",
      "Chain 1: Iteration:  800 / 2000 [ 40%]  (Warmup)\n",
      "Chain 1: Iteration: 1000 / 2000 [ 50%]  (Warmup)\n",
      "Chain 1: Iteration: 1001 / 2000 [ 50%]  (Sampling)\n",
      "Chain 1: Iteration: 1200 / 2000 [ 60%]  (Sampling)\n",
      "Chain 1: Iteration: 1400 / 2000 [ 70%]  (Sampling)\n",
      "Chain 1: Iteration: 1600 / 2000 [ 80%]  (Sampling)\n",
      "Chain 1: Iteration: 1800 / 2000 [ 90%]  (Sampling)\n",
      "Chain 1: Iteration: 2000 / 2000 [100%]  (Sampling)\n",
      "Chain 1: \n",
      "Chain 1:  Elapsed Time: 0.74 seconds (Warm-up)\n",
      "Chain 1:                0.323 seconds (Sampling)\n",
      "Chain 1:                1.063 seconds (Total)\n",
      "Chain 1: \n",
      "\n",
      "SAMPLING FOR MODEL 'anon_model' NOW (CHAIN 2).\n",
      "Chain 2: \n",
      "Chain 2: Gradient evaluation took 2.2e-05 seconds\n",
      "Chain 2: 1000 transitions using 10 leapfrog steps per transition would take 0.22 seconds.\n",
      "Chain 2: Adjust your expectations accordingly!\n",
      "Chain 2: \n",
      "Chain 2: \n",
      "Chain 2: Iteration:    1 / 2000 [  0%]  (Warmup)\n",
      "Chain 2: Iteration:  200 / 2000 [ 10%]  (Warmup)\n",
      "Chain 2: Iteration:  400 / 2000 [ 20%]  (Warmup)\n",
      "Chain 2: Iteration:  600 / 2000 [ 30%]  (Warmup)\n",
      "Chain 2: Iteration:  800 / 2000 [ 40%]  (Warmup)\n",
      "Chain 2: Iteration: 1000 / 2000 [ 50%]  (Warmup)\n",
      "Chain 2: Iteration: 1001 / 2000 [ 50%]  (Sampling)\n",
      "Chain 2: Iteration: 1200 / 2000 [ 60%]  (Sampling)\n",
      "Chain 2: Iteration: 1400 / 2000 [ 70%]  (Sampling)\n",
      "Chain 2: Iteration: 1600 / 2000 [ 80%]  (Sampling)\n",
      "Chain 2: Iteration: 1800 / 2000 [ 90%]  (Sampling)\n",
      "Chain 2: Iteration: 2000 / 2000 [100%]  (Sampling)\n",
      "Chain 2: \n",
      "Chain 2:  Elapsed Time: 0.65 seconds (Warm-up)\n",
      "Chain 2:                0.373 seconds (Sampling)\n",
      "Chain 2:                1.023 seconds (Total)\n",
      "Chain 2: \n",
      "\n",
      "SAMPLING FOR MODEL 'anon_model' NOW (CHAIN 3).\n",
      "Chain 3: \n",
      "Chain 3: Gradient evaluation took 2.5e-05 seconds\n",
      "Chain 3: 1000 transitions using 10 leapfrog steps per transition would take 0.25 seconds.\n",
      "Chain 3: Adjust your expectations accordingly!\n",
      "Chain 3: \n",
      "Chain 3: \n",
      "Chain 3: Iteration:    1 / 2000 [  0%]  (Warmup)\n",
      "Chain 3: Iteration:  200 / 2000 [ 10%]  (Warmup)\n",
      "Chain 3: Iteration:  400 / 2000 [ 20%]  (Warmup)\n",
      "Chain 3: Iteration:  600 / 2000 [ 30%]  (Warmup)\n",
      "Chain 3: Iteration:  800 / 2000 [ 40%]  (Warmup)\n",
      "Chain 3: Iteration: 1000 / 2000 [ 50%]  (Warmup)\n",
      "Chain 3: Iteration: 1001 / 2000 [ 50%]  (Sampling)\n",
      "Chain 3: Iteration: 1200 / 2000 [ 60%]  (Sampling)\n",
      "Chain 3: Iteration: 1400 / 2000 [ 70%]  (Sampling)\n",
      "Chain 3: Iteration: 1600 / 2000 [ 80%]  (Sampling)\n",
      "Chain 3: Iteration: 1800 / 2000 [ 90%]  (Sampling)\n",
      "Chain 3: Iteration: 2000 / 2000 [100%]  (Sampling)\n",
      "Chain 3: \n",
      "Chain 3:  Elapsed Time: 0.756 seconds (Warm-up)\n",
      "Chain 3:                0.411 seconds (Sampling)\n",
      "Chain 3:                1.167 seconds (Total)\n",
      "Chain 3: \n",
      "\n",
      "SAMPLING FOR MODEL 'anon_model' NOW (CHAIN 4).\n",
      "Chain 4: \n",
      "Chain 4: Gradient evaluation took 1.7e-05 seconds\n",
      "Chain 4: 1000 transitions using 10 leapfrog steps per transition would take 0.17 seconds.\n",
      "Chain 4: Adjust your expectations accordingly!\n",
      "Chain 4: \n",
      "Chain 4: \n",
      "Chain 4: Iteration:    1 / 2000 [  0%]  (Warmup)\n",
      "Chain 4: Iteration:  200 / 2000 [ 10%]  (Warmup)\n",
      "Chain 4: Iteration:  400 / 2000 [ 20%]  (Warmup)\n",
      "Chain 4: Iteration:  600 / 2000 [ 30%]  (Warmup)\n",
      "Chain 4: Iteration:  800 / 2000 [ 40%]  (Warmup)\n",
      "Chain 4: Iteration: 1000 / 2000 [ 50%]  (Warmup)\n",
      "Chain 4: Iteration: 1001 / 2000 [ 50%]  (Sampling)\n",
      "Chain 4: Iteration: 1200 / 2000 [ 60%]  (Sampling)\n",
      "Chain 4: Iteration: 1400 / 2000 [ 70%]  (Sampling)\n",
      "Chain 4: Iteration: 1600 / 2000 [ 80%]  (Sampling)\n",
      "Chain 4: Iteration: 1800 / 2000 [ 90%]  (Sampling)\n",
      "Chain 4: Iteration: 2000 / 2000 [100%]  (Sampling)\n",
      "Chain 4: \n",
      "Chain 4:  Elapsed Time: 0.828 seconds (Warm-up)\n",
      "Chain 4:                0.259 seconds (Sampling)\n",
      "Chain 4:                1.087 seconds (Total)\n",
      "Chain 4: \n"
     ]
    },
    {
     "name": "stderr",
     "output_type": "stream",
     "text": [
      "Warning message:\n",
      "“Bulk Effective Samples Size (ESS) is too low, indicating posterior means and medians may be unreliable.\n",
      "Running the chains for more iterations may help. See\n",
      "https://mc-stan.org/misc/warnings.html#bulk-ess”\n"
     ]
    },
    {
     "data": {
      "text/plain": [
       " Family: gaussian \n",
       "  Links: mu = identity; sigma = identity \n",
       "Formula: yi | se(sqrt(vi)) ~ 1 + (1 | district_school) \n",
       "   Data: schoolcalendar_data (Number of observations: 56) \n",
       "  Draws: 4 chains, each with iter = 2000; warmup = 1000; thin = 1;\n",
       "         total post-warmup draws = 4000\n",
       "\n",
       "Multilevel Hyperparameters:\n",
       "~district_school (Number of levels: 56) \n",
       "              Estimate Est.Error l-95% CI u-95% CI Rhat Bulk_ESS Tail_ESS\n",
       "sd(Intercept)     0.30      0.04     0.24     0.38 1.01      714     1054\n",
       "\n",
       "Regression Coefficients:\n",
       "          Estimate Est.Error l-95% CI u-95% CI Rhat Bulk_ESS Tail_ESS\n",
       "Intercept     0.13      0.04     0.04     0.22 1.02      332      547\n",
       "\n",
       "Further Distributional Parameters:\n",
       "      Estimate Est.Error l-95% CI u-95% CI Rhat Bulk_ESS Tail_ESS\n",
       "sigma     0.00      0.00     0.00     0.00   NA       NA       NA\n",
       "\n",
       "Draws were sampled using sampling(NUTS). For each parameter, Bulk_ESS\n",
       "and Tail_ESS are effective sample size measures, and Rhat is the potential\n",
       "scale reduction factor on split chains (at convergence, Rhat = 1)."
      ]
     },
     "metadata": {},
     "output_type": "display_data"
    }
   ],
   "source": [
    "data(dat.konstantopoulos2011, package = \"metadat\")\n",
    "\n",
    "schoolcalendar_data <- dat.konstantopoulos2011 |>\n",
    "  dplyr::mutate(\n",
    "    school = factor(school),\n",
    "    district = factor(district),\n",
    "    district_school = interaction(district, school, drop = TRUE, sep = \"_\")\n",
    "  )\n",
    "\n",
    "schoolcalendar_PPS_formula <- bf(\n",
    "  formula = yi | se(sqrt(vi)) ~ 1 + (1 | district_school),\n",
    "  family = \"gaussian\"\n",
    ")  \n",
    "\n",
    "schoolcalendar_pps_fit <- brm(\n",
    "  formula = schoolcalendar_PPS_formula,\n",
    "  data = schoolcalendar_data\n",
    ")\n",
    "\n",
    "# Summarize the model to view estimates\n",
    "summary(schoolcalendar_pps_fit)"
   ]
  },
  {
   "cell_type": "code",
   "execution_count": 45,
   "id": "0861fe19-66d4-4969-96d0-3ea9ad6d577e",
   "metadata": {
    "tags": []
   },
   "outputs": [
    {
     "data": {
      "text/plain": [
       "       V1        \n",
       " Min.   :0.7286  \n",
       " 1st Qu.:1.0163  \n",
       " Median :1.0837  \n",
       " Mean   :1.0820  \n",
       " 3rd Qu.:1.1491  \n",
       " Max.   :1.4217  "
      ]
     },
     "metadata": {},
     "output_type": "display_data"
    }
   ],
   "source": [
    "new_school <- data.frame(\n",
    "  district = factor(71),\n",
    "  school = factor(3),\n",
    "  district_school = factor(\"71_3\"),\n",
    "  vi = 0 # the expectation of the prediction is not affected by the sampling variance, so this can be any number\n",
    ")\n",
    "  \n",
    "\n",
    "schoolcalendar_post_epred <- posterior_epred(\n",
    "    schoolcalendar_pps_fit,\n",
    "    newdata = new_school,\n",
    "    allow_new_levels = TRUE\n",
    "  )\n",
    "\n",
    "# Summarize the posterior predictions\n",
    "summary(schoolcalendar_post_epred)"
   ]
  },
  {
   "cell_type": "code",
   "execution_count": 46,
   "id": "24109e29-d2eb-4054-a048-2fdeb7e5845e",
   "metadata": {
    "tags": []
   },
   "outputs": [
    {
     "data": {
      "text/plain": [
       "       V1          \n",
       " Min.   :-0.09747  \n",
       " 1st Qu.:-0.00965  \n",
       " Median : 0.01147  \n",
       " Mean   : 0.01144  \n",
       " 3rd Qu.: 0.03265  \n",
       " Max.   : 0.11962  "
      ]
     },
     "metadata": {},
     "output_type": "display_data"
    }
   ],
   "source": [
    "new_school <- data.frame(\n",
    "  district = factor(86),\n",
    "  school = factor(7),\n",
    "  district_school = factor(\"86_7\"),\n",
    "  vi = 0 # the expectation of the prediction is not affected by the sampling variance, so this can be any number\n",
    ")\n",
    "  \n",
    "\n",
    "schoolcalendar_post_epred <- posterior_epred(\n",
    "    schoolcalendar_pps_fit,\n",
    "    newdata = new_school,\n",
    "    allow_new_levels = TRUE\n",
    "  )\n",
    "\n",
    "# Summarize the posterior predictions\n",
    "summary(schoolcalendar_post_epred)"
   ]
  },
  {
   "cell_type": "code",
   "execution_count": 47,
   "id": "6b41b008-7c3d-4bb0-b8ad-4c2b7e4db6d9",
   "metadata": {
    "tags": []
   },
   "outputs": [
    {
     "data": {
      "text/plain": [
       "       V1          \n",
       " Min.   :-0.69808  \n",
       " 1st Qu.:-0.05050  \n",
       " Median : 0.05858  \n",
       " Mean   : 0.12630  \n",
       " 3rd Qu.: 0.26891  \n",
       " Max.   : 1.27821  "
      ]
     },
     "metadata": {},
     "output_type": "display_data"
    }
   ],
   "source": [
    "new_school <- data.frame(\n",
    "  district = factor(86),\n",
    "  school = factor(9),\n",
    "  district_school = factor(\"86_9\"),\n",
    "  vi = 0 # the expectation of the prediction is not affected by the sampling variance, so this can be any number\n",
    ")\n",
    "  \n",
    "\n",
    "schoolcalendar_post_epred <- posterior_epred(\n",
    "    schoolcalendar_pps_fit,\n",
    "    newdata = new_school,\n",
    "    allow_new_levels = TRUE\n",
    "  )\n",
    "\n",
    "# Summarize the posterior predictions\n",
    "summary(schoolcalendar_post_epred)"
   ]
  },
  {
   "cell_type": "code",
   "execution_count": 48,
   "id": "4c6c1d13-bc72-4e83-ad7a-b8f780e13a16",
   "metadata": {
    "tags": []
   },
   "outputs": [
    {
     "data": {
      "text/plain": [
       "       V1          \n",
       " Min.   :-0.69617  \n",
       " 1st Qu.:-0.05611  \n",
       " Median : 0.05194  \n",
       " Mean   : 0.12680  \n",
       " 3rd Qu.: 0.26437  \n",
       " Max.   : 1.29024  "
      ]
     },
     "metadata": {},
     "output_type": "display_data"
    }
   ],
   "source": [
    "new_school <- data.frame(\n",
    "  district = factor(30),\n",
    "  school = factor(1),\n",
    "  district_school = factor(\"30_1\"),\n",
    "  vi = 0 # the expectation of the prediction is not affected by the sampling variance, so this can be any number\n",
    ")\n",
    "  \n",
    "\n",
    "schoolcalendar_post_epred <- posterior_epred(\n",
    "    schoolcalendar_pps_fit,\n",
    "    newdata = new_school,\n",
    "    allow_new_levels = TRUE\n",
    "  )\n",
    "\n",
    "# Summarize the posterior predictions\n",
    "summary(schoolcalendar_post_epred)"
   ]
  },
  {
   "cell_type": "markdown",
   "id": "93fc896b-da3c-42f3-8f64-8f1b5a777854",
   "metadata": {},
   "source": [
    "Partially pooled model for schools in districts:"
   ]
  },
  {
   "cell_type": "code",
   "execution_count": 49,
   "id": "ca5ec828-b76f-4cbf-831a-b0fe17bb9712",
   "metadata": {
    "tags": []
   },
   "outputs": [
    {
     "name": "stderr",
     "output_type": "stream",
     "text": [
      "Compiling Stan program...\n",
      "\n",
      "Start sampling\n",
      "\n"
     ]
    },
    {
     "name": "stdout",
     "output_type": "stream",
     "text": [
      "\n",
      "SAMPLING FOR MODEL 'anon_model' NOW (CHAIN 1).\n",
      "Chain 1: \n",
      "Chain 1: Gradient evaluation took 8.4e-05 seconds\n",
      "Chain 1: 1000 transitions using 10 leapfrog steps per transition would take 0.84 seconds.\n",
      "Chain 1: Adjust your expectations accordingly!\n",
      "Chain 1: \n",
      "Chain 1: \n",
      "Chain 1: Iteration:    1 / 2000 [  0%]  (Warmup)\n",
      "Chain 1: Iteration:  200 / 2000 [ 10%]  (Warmup)\n",
      "Chain 1: Iteration:  400 / 2000 [ 20%]  (Warmup)\n",
      "Chain 1: Iteration:  600 / 2000 [ 30%]  (Warmup)\n",
      "Chain 1: Iteration:  800 / 2000 [ 40%]  (Warmup)\n",
      "Chain 1: Iteration: 1000 / 2000 [ 50%]  (Warmup)\n",
      "Chain 1: Iteration: 1001 / 2000 [ 50%]  (Sampling)\n",
      "Chain 1: Iteration: 1200 / 2000 [ 60%]  (Sampling)\n",
      "Chain 1: Iteration: 1400 / 2000 [ 70%]  (Sampling)\n",
      "Chain 1: Iteration: 1600 / 2000 [ 80%]  (Sampling)\n",
      "Chain 1: Iteration: 1800 / 2000 [ 90%]  (Sampling)\n",
      "Chain 1: Iteration: 2000 / 2000 [100%]  (Sampling)\n",
      "Chain 1: \n",
      "Chain 1:  Elapsed Time: 1.826 seconds (Warm-up)\n",
      "Chain 1:                1.356 seconds (Sampling)\n",
      "Chain 1:                3.182 seconds (Total)\n",
      "Chain 1: \n",
      "\n",
      "SAMPLING FOR MODEL 'anon_model' NOW (CHAIN 2).\n",
      "Chain 2: \n",
      "Chain 2: Gradient evaluation took 2.5e-05 seconds\n",
      "Chain 2: 1000 transitions using 10 leapfrog steps per transition would take 0.25 seconds.\n",
      "Chain 2: Adjust your expectations accordingly!\n",
      "Chain 2: \n",
      "Chain 2: \n",
      "Chain 2: Iteration:    1 / 2000 [  0%]  (Warmup)\n",
      "Chain 2: Iteration:  200 / 2000 [ 10%]  (Warmup)\n",
      "Chain 2: Iteration:  400 / 2000 [ 20%]  (Warmup)\n",
      "Chain 2: Iteration:  600 / 2000 [ 30%]  (Warmup)\n",
      "Chain 2: Iteration:  800 / 2000 [ 40%]  (Warmup)\n",
      "Chain 2: Iteration: 1000 / 2000 [ 50%]  (Warmup)\n",
      "Chain 2: Iteration: 1001 / 2000 [ 50%]  (Sampling)\n",
      "Chain 2: Iteration: 1200 / 2000 [ 60%]  (Sampling)\n",
      "Chain 2: Iteration: 1400 / 2000 [ 70%]  (Sampling)\n",
      "Chain 2: Iteration: 1600 / 2000 [ 80%]  (Sampling)\n",
      "Chain 2: Iteration: 1800 / 2000 [ 90%]  (Sampling)\n",
      "Chain 2: Iteration: 2000 / 2000 [100%]  (Sampling)\n",
      "Chain 2: \n",
      "Chain 2:  Elapsed Time: 1.74 seconds (Warm-up)\n",
      "Chain 2:                1.322 seconds (Sampling)\n",
      "Chain 2:                3.062 seconds (Total)\n",
      "Chain 2: \n",
      "\n",
      "SAMPLING FOR MODEL 'anon_model' NOW (CHAIN 3).\n",
      "Chain 3: \n",
      "Chain 3: Gradient evaluation took 3.4e-05 seconds\n",
      "Chain 3: 1000 transitions using 10 leapfrog steps per transition would take 0.34 seconds.\n",
      "Chain 3: Adjust your expectations accordingly!\n",
      "Chain 3: \n",
      "Chain 3: \n",
      "Chain 3: Iteration:    1 / 2000 [  0%]  (Warmup)\n",
      "Chain 3: Iteration:  200 / 2000 [ 10%]  (Warmup)\n",
      "Chain 3: Iteration:  400 / 2000 [ 20%]  (Warmup)\n",
      "Chain 3: Iteration:  600 / 2000 [ 30%]  (Warmup)\n",
      "Chain 3: Iteration:  800 / 2000 [ 40%]  (Warmup)\n",
      "Chain 3: Iteration: 1000 / 2000 [ 50%]  (Warmup)\n",
      "Chain 3: Iteration: 1001 / 2000 [ 50%]  (Sampling)\n",
      "Chain 3: Iteration: 1200 / 2000 [ 60%]  (Sampling)\n",
      "Chain 3: Iteration: 1400 / 2000 [ 70%]  (Sampling)\n",
      "Chain 3: Iteration: 1600 / 2000 [ 80%]  (Sampling)\n",
      "Chain 3: Iteration: 1800 / 2000 [ 90%]  (Sampling)\n",
      "Chain 3: Iteration: 2000 / 2000 [100%]  (Sampling)\n",
      "Chain 3: \n",
      "Chain 3:  Elapsed Time: 4.701 seconds (Warm-up)\n",
      "Chain 3:                1.505 seconds (Sampling)\n",
      "Chain 3:                6.206 seconds (Total)\n",
      "Chain 3: \n",
      "\n",
      "SAMPLING FOR MODEL 'anon_model' NOW (CHAIN 4).\n",
      "Chain 4: \n",
      "Chain 4: Gradient evaluation took 2.7e-05 seconds\n",
      "Chain 4: 1000 transitions using 10 leapfrog steps per transition would take 0.27 seconds.\n",
      "Chain 4: Adjust your expectations accordingly!\n",
      "Chain 4: \n",
      "Chain 4: \n",
      "Chain 4: Iteration:    1 / 2000 [  0%]  (Warmup)\n",
      "Chain 4: Iteration:  200 / 2000 [ 10%]  (Warmup)\n",
      "Chain 4: Iteration:  400 / 2000 [ 20%]  (Warmup)\n",
      "Chain 4: Iteration:  600 / 2000 [ 30%]  (Warmup)\n",
      "Chain 4: Iteration:  800 / 2000 [ 40%]  (Warmup)\n",
      "Chain 4: Iteration: 1000 / 2000 [ 50%]  (Warmup)\n",
      "Chain 4: Iteration: 1001 / 2000 [ 50%]  (Sampling)\n",
      "Chain 4: Iteration: 1200 / 2000 [ 60%]  (Sampling)\n",
      "Chain 4: Iteration: 1400 / 2000 [ 70%]  (Sampling)\n",
      "Chain 4: Iteration: 1600 / 2000 [ 80%]  (Sampling)\n",
      "Chain 4: Iteration: 1800 / 2000 [ 90%]  (Sampling)\n",
      "Chain 4: Iteration: 2000 / 2000 [100%]  (Sampling)\n",
      "Chain 4: \n",
      "Chain 4:  Elapsed Time: 1.917 seconds (Warm-up)\n",
      "Chain 4:                1.805 seconds (Sampling)\n",
      "Chain 4:                3.722 seconds (Total)\n",
      "Chain 4: \n"
     ]
    },
    {
     "name": "stderr",
     "output_type": "stream",
     "text": [
      "Warning message:\n",
      "“There were 1 divergent transitions after warmup. See\n",
      "https://mc-stan.org/misc/warnings.html#divergent-transitions-after-warmup\n",
      "to find out why this is a problem and how to eliminate them.”\n",
      "Warning message:\n",
      "“Examine the pairs() plot to diagnose sampling problems\n",
      "”\n",
      "Warning message:\n",
      "“There were 1 divergent transitions after warmup. Increasing adapt_delta above 0.8 may help. See http://mc-stan.org/misc/warnings.html#divergent-transitions-after-warmup”\n"
     ]
    },
    {
     "data": {
      "text/plain": [
       " Family: gaussian \n",
       "  Links: mu = identity; sigma = identity \n",
       "Formula: yi | se(sqrt(vi)) ~ 1 + (1 | district_school) + (1 | district) \n",
       "   Data: schoolcalendar_data (Number of observations: 56) \n",
       "  Draws: 4 chains, each with iter = 2000; warmup = 1000; thin = 1;\n",
       "         total post-warmup draws = 4000\n",
       "\n",
       "Multilevel Hyperparameters:\n",
       "~district (Number of levels: 11) \n",
       "              Estimate Est.Error l-95% CI u-95% CI Rhat Bulk_ESS Tail_ESS\n",
       "sd(Intercept)     0.29      0.09     0.15     0.51 1.01      966     1224\n",
       "\n",
       "~district_school (Number of levels: 56) \n",
       "              Estimate Est.Error l-95% CI u-95% CI Rhat Bulk_ESS Tail_ESS\n",
       "sd(Intercept)     0.19      0.03     0.13     0.26 1.00      988     1638\n",
       "\n",
       "Regression Coefficients:\n",
       "          Estimate Est.Error l-95% CI u-95% CI Rhat Bulk_ESS Tail_ESS\n",
       "Intercept     0.20      0.10    -0.00     0.40 1.00      878     1245\n",
       "\n",
       "Further Distributional Parameters:\n",
       "      Estimate Est.Error l-95% CI u-95% CI Rhat Bulk_ESS Tail_ESS\n",
       "sigma     0.00      0.00     0.00     0.00   NA       NA       NA\n",
       "\n",
       "Draws were sampled using sampling(NUTS). For each parameter, Bulk_ESS\n",
       "and Tail_ESS are effective sample size measures, and Rhat is the potential\n",
       "scale reduction factor on split chains (at convergence, Rhat = 1)."
      ]
     },
     "metadata": {},
     "output_type": "display_data"
    }
   ],
   "source": [
    "schoolcalendar_ppsd_formula <- bf(\n",
    "  formula = yi | se(sqrt(vi)) ~ 1 + (1 | district_school) + (1 | district),\n",
    "  family = \"gaussian\"\n",
    ")  \n",
    "\n",
    "schoolcalendar_ppsd_fit <- brm(\n",
    "  formula = schoolcalendar_ppsd_formula,\n",
    "  data = schoolcalendar_data\n",
    ")\n",
    "\n",
    "# Summarize the model to view estimates\n",
    "summary(schoolcalendar_ppsd_fit)"
   ]
  },
  {
   "cell_type": "code",
   "execution_count": 50,
   "id": "e43a376e-cf11-4171-97ad-74f38a2a2850",
   "metadata": {
    "tags": []
   },
   "outputs": [
    {
     "data": {
      "text/plain": [
       "       V1          \n",
       " Min.   :-0.75442  \n",
       " 1st Qu.:-0.12050  \n",
       " Median :-0.01573  \n",
       " Mean   :-0.01423  \n",
       " 3rd Qu.: 0.09326  \n",
       " Max.   : 0.74244  "
      ]
     },
     "metadata": {},
     "output_type": "display_data"
    }
   ],
   "source": [
    "new_school <- data.frame(\n",
    "  district = factor(86),\n",
    "  school = factor(9),\n",
    "  district_school = factor(\"86_9\"),\n",
    "  vi = 0 # the expectation of the prediction is not affected by the sampling variance, so this can be any number\n",
    ")\n",
    "  \n",
    "\n",
    "schoolcalendar_post_epred <- posterior_epred(\n",
    "    schoolcalendar_ppsd_fit,\n",
    "    newdata = new_school,\n",
    "    allow_new_levels = TRUE\n",
    "  )\n",
    "\n",
    "# Summarize the posterior predictions\n",
    "summary(schoolcalendar_post_epred)"
   ]
  },
  {
   "cell_type": "code",
   "execution_count": 51,
   "id": "1c8f29ca-a0ec-4dfd-8cb6-0a2850d0f53e",
   "metadata": {
    "tags": []
   },
   "outputs": [
    {
     "data": {
      "text/plain": [
       "       V1          \n",
       " Min.   :-0.86904  \n",
       " 1st Qu.:-0.02037  \n",
       " Median : 0.15620  \n",
       " Mean   : 0.19050  \n",
       " 3rd Qu.: 0.37317  \n",
       " Max.   : 1.42784  "
      ]
     },
     "metadata": {},
     "output_type": "display_data"
    }
   ],
   "source": [
    "new_school <- data.frame(\n",
    "  district = factor(30),\n",
    "  school = factor(1),\n",
    "  district_school = factor(\"30_1\"),\n",
    "  vi = 0 # the expectation of the prediction is not affected by the sampling variance, so this can be any number\n",
    ")\n",
    "  \n",
    "\n",
    "schoolcalendar_post_epred <- posterior_epred(\n",
    "    schoolcalendar_ppsd_fit,\n",
    "    newdata = new_school,\n",
    "    allow_new_levels = TRUE\n",
    "  )\n",
    "\n",
    "# Summarize the posterior predictions\n",
    "summary(schoolcalendar_post_epred)"
   ]
  },
  {
   "cell_type": "code",
   "execution_count": null,
   "id": "0ca4aa31-e18b-43ea-a61d-3819fcddc7e8",
   "metadata": {},
   "outputs": [],
   "source": []
  },
  {
   "cell_type": "code",
   "execution_count": null,
   "id": "21dbabf8-4eb1-4b78-a012-787d97f68df2",
   "metadata": {},
   "outputs": [],
   "source": []
  }
 ],
 "metadata": {
  "kernelspec": {
   "display_name": "R",
   "language": "R",
   "name": "ir"
  },
  "language_info": {
   "codemirror_mode": "r",
   "file_extension": ".r",
   "mimetype": "text/x-r-source",
   "name": "R",
   "pygments_lexer": "r",
   "version": "4.4.1"
  }
 },
 "nbformat": 4,
 "nbformat_minor": 5
}
